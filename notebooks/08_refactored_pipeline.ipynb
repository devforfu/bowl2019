{
 "cells": [
  {
   "cell_type": "code",
   "execution_count": null,
   "metadata": {},
   "outputs": [],
   "source": [
    "# !cp /kaggle/input/data-bowl-2019-external-data/*.py /kaggle/working"
   ]
  },
  {
   "cell_type": "code",
   "execution_count": 23,
   "metadata": {},
   "outputs": [],
   "source": [
    "%reload_ext autoreload\n",
    "%autoreload 2\n",
    "import warnings\n",
    "import jupytools.syspath\n",
    "def ignore(*args, **kwargs): pass\n",
    "warnings.warn = ignore\n",
    "jupytools.syspath.add('..')"
   ]
  },
  {
   "cell_type": "code",
   "execution_count": 24,
   "metadata": {},
   "outputs": [],
   "source": [
    "from functools import partial\n",
    "\n",
    "import numpy as np\n",
    "import pandas as pd\n",
    "from IPython.display import display\n",
    "\n",
    "import bundle\n",
    "import features as F\n",
    "import selection\n",
    "import utils as U\n",
    "from dataset import load, load_sample, Subset\n",
    "from encode import encode\n",
    "from training import train, inference, submit\n",
    "from meta import compute_meta_data\n",
    "from metric import optimize_rounding_bounds, RegressionCappa"
   ]
  },
  {
   "cell_type": "code",
   "execution_count": 25,
   "metadata": {},
   "outputs": [
    {
     "name": "stdout",
     "output_type": "stream",
     "text": [
      "Loading train and test.\n",
      "(11341042, 11) (17690, 7) (386, 3) (1156414, 11) "
     ]
    }
   ],
   "source": [
    "sample = False\n",
    "if U.on_kaggle():\n",
    "    U.log('Loading test set only.')\n",
    "    tst_data = pd.read_csv('/kaggle/input/data-science-bowl-2019/test.csv')\n",
    "else:\n",
    "    if sample:\n",
    "        U.log('Warning: loading train and test data sample.')\n",
    "        trn_data, _, _ = load_sample(Subset.Train, 500_000)\n",
    "        [tst_data] = load_sample(Subset.Test, 500_000)\n",
    "    else:\n",
    "        U.log('Loading train and test.')\n",
    "        trn_data, trn_spec, trn_targ = load(Subset.Train)\n",
    "        [tst_data] = load(Subset.Test)"
   ]
  },
  {
   "cell_type": "code",
   "execution_count": 26,
   "metadata": {},
   "outputs": [
    {
     "name": "stdout",
     "output_type": "stream",
     "text": [
      "Transforming train and test data.\n",
      "(11341042, 19) (1156414, 19)\n"
     ]
    }
   ],
   "source": [
    "transform = U.combine(\n",
    "    partial(F.add_feature_combinations, pairs=[('title', 'event_code')]),\n",
    "    partial(F.add_datetime, column='timestamp', prefix='ts'),\n",
    "    #partial(F.add_cyclical, prefix='ts')\n",
    ")\n",
    "\n",
    "if U.on_kaggle():\n",
    "    U.log('Transforming test data only.')\n",
    "    X_tst = transform(tst_data.copy())\n",
    "    U.log(X_tst.shape)\n",
    "else:\n",
    "    U.log('Transforming train and test data.')\n",
    "    X_tst = transform(tst_data.copy())\n",
    "    X_trn = transform(trn_data.copy())\n",
    "    U.log(X_trn.shape, X_tst.shape)"
   ]
  },
  {
   "cell_type": "code",
   "execution_count": 27,
   "metadata": {},
   "outputs": [
    {
     "name": "stdout",
     "output_type": "stream",
     "text": [
      "Computing meta using train and test datasets.\n",
      "Saving computed meta on disk.\n"
     ]
    }
   ],
   "source": [
    "if U.on_kaggle():\n",
    "    U.log('Reading pre-computed meta from disk.')\n",
    "    meta = bundle.meta()\n",
    "else:\n",
    "    U.log('Computing meta using train and test datasets.')\n",
    "    meta = compute_meta_data(X_trn, X_tst)\n",
    "    U.log('Saving computed meta on disk.')\n",
    "    bundle.save_meta(meta, 'meta')"
   ]
  },
  {
   "cell_type": "code",
   "execution_count": 28,
   "metadata": {},
   "outputs": [
    {
     "name": "stdout",
     "output_type": "stream",
     "text": [
      "Preparing train and test datasets.\n",
      "Running algorithm in train mode.\n"
     ]
    },
    {
     "data": {
      "application/vnd.jupyter.widget-view+json": {
       "model_id": "bc2ef97fe603451a8c1a9bc5f4fb54cd",
       "version_major": 2,
       "version_minor": 0
      },
      "text/plain": [
       "HBox(children=(IntProgress(value=0, max=17000), HTML(value='')))"
      ]
     },
     "metadata": {},
     "output_type": "display_data"
    },
    {
     "name": "stdout",
     "output_type": "stream",
     "text": [
      "\n",
      "Running algorithm in test mode.\n"
     ]
    },
    {
     "data": {
      "application/vnd.jupyter.widget-view+json": {
       "model_id": "b50b7ec501444b1ca2cb54f548962644",
       "version_major": 2,
       "version_minor": 0
      },
      "text/plain": [
       "HBox(children=(IntProgress(value=0, max=1000), HTML(value='')))"
      ]
     },
     "metadata": {},
     "output_type": "display_data"
    },
    {
     "name": "stdout",
     "output_type": "stream",
     "text": [
      "\n"
     ]
    }
   ],
   "source": [
    "extractor = F.FeaturesExtractor([\n",
    "    F.CountingFeatures(meta),\n",
    "    F.PerformanceFeatures(meta),\n",
    "    #F.CyclicFeatures(meta),\n",
    "    #F.TimestampFeatures(meta),\n",
    "    F.VarietyFeatures(meta)\n",
    "])\n",
    "\n",
    "algo = F.InMemoryAlgorithm(extractor, meta, num_workers=12)\n",
    "\n",
    "cat_cols = ['session_title']\n",
    "\n",
    "if U.on_kaggle():\n",
    "    U.log('Preparing test dataset.')\n",
    "    X_tst = algo.run(X_tst, test=True)\n",
    "    encoders = bundle.encoders()\n",
    "    X_tst, _ = encode(X_tst, cat_cols, encoders=encoders)\n",
    "else:\n",
    "    U.log('Preparing train and test datasets.')\n",
    "    X_trn = algo.run(X_trn)\n",
    "    X_tst = algo.run(X_tst, test=True)\n",
    "    X_trn, encoders = encode(X_trn, cat_cols)\n",
    "    X_tst, _ = encode(X_tst, cat_cols, encoders=encoders)\n",
    "    bundle.save(encoders, 'encoders')"
   ]
  },
  {
   "cell_type": "code",
   "execution_count": 29,
   "metadata": {},
   "outputs": [
    {
     "name": "stdout",
     "output_type": "stream",
     "text": [
      "Running post-processing on train and test sets.\n"
     ]
    }
   ],
   "source": [
    "if U.on_kaggle():\n",
    "    U.log('Running post-processing on test set only.')\n",
    "    F.add_user_wise_features(X_tst, meta)\n",
    "else:\n",
    "    U.log('Running post-processing on train and test sets.')\n",
    "    F.add_user_wise_features(X_trn, meta)\n",
    "    F.add_user_wise_features(X_tst, meta)"
   ]
  },
  {
   "cell_type": "code",
   "execution_count": 31,
   "metadata": {},
   "outputs": [
    {
     "name": "stdout",
     "output_type": "stream",
     "text": [
      "Deriving relevant features from train dataset.\n",
      "Excluding from consideration: ['accuracy_group', 'installation_id', 'game_session']\n",
      "Applying feature selection rule: nonzero\n",
      "Selected features: 925 of 940\n",
      "Applying feature selection rule: uncorr\n"
     ]
    },
    {
     "data": {
      "application/vnd.jupyter.widget-view+json": {
       "model_id": "8eef54c168b4403c97564e72e59575c4",
       "version_major": 2,
       "version_minor": 0
      },
      "text/plain": [
       "HBox(children=(IntProgress(value=0, max=438516), HTML(value='')))"
      ]
     },
     "metadata": {},
     "output_type": "display_data"
    },
    {
     "name": "stderr",
     "output_type": "stream",
     "text": [
      "/home/ck/anaconda3/envs/fastai_10/lib/python3.7/site-packages/numpy/lib/function_base.py:2530: RuntimeWarning: invalid value encountered in true_divide\n",
      "  c /= stddev[:, None]\n",
      "/home/ck/anaconda3/envs/fastai_10/lib/python3.7/site-packages/numpy/lib/function_base.py:2531: RuntimeWarning: invalid value encountered in true_divide\n",
      "  c /= stddev[None, :]\n"
     ]
    },
    {
     "name": "stdout",
     "output_type": "stream",
     "text": [
      "\n",
      "Selected features: 432 of 940\n",
      "Keeping only features, selected by every rule.\n",
      "Final number of features changed from 940 to 420\n"
     ]
    }
   ],
   "source": [
    "selector = selection.FeatureSelection(\n",
    "    rules=[\n",
    "        ('nonzero', selection.non_zero_rows_and_cols),\n",
    "        ('uncorr', selection.non_correlated_cols),\n",
    "    ],\n",
    "    ignore_cols=[\n",
    "        'accuracy_group', \n",
    "        'installation_id', \n",
    "        'game_session'\n",
    "    ]\n",
    ")\n",
    "\n",
    "if U.on_kaggle():\n",
    "    U.log('Loading relevant features list from disk.')\n",
    "    features = bundle.features()\n",
    "else:\n",
    "    U.log('Deriving relevant features from train dataset.')\n",
    "    features = selector.select(X_trn)\n",
    "    bundle.save(features, 'features')"
   ]
  },
  {
   "cell_type": "code",
   "execution_count": 32,
   "metadata": {},
   "outputs": [
    {
     "name": "stdout",
     "output_type": "stream",
     "text": [
      "Training with sub-optimal rounding.\n",
      "Running k-fold 1 of 5\n",
      "Training until validation scores don't improve for 100 rounds.\n",
      "[100]\ttrn's rmse: 1.03771\ttrn's cappa: 0.373338\tval's rmse: 1.05472\tval's cappa: 0.343743\n",
      "[200]\ttrn's rmse: 0.966488\ttrn's cappa: 0.485667\tval's rmse: 0.999697\tval's cappa: 0.453659\n",
      "[300]\ttrn's rmse: 0.931653\ttrn's cappa: 0.510902\tval's rmse: 0.982072\tval's cappa: 0.4732\n",
      "[400]\ttrn's rmse: 0.906809\ttrn's cappa: 0.526088\tval's rmse: 0.97341\tval's cappa: 0.476736\n",
      "[500]\ttrn's rmse: 0.886998\ttrn's cappa: 0.541264\tval's rmse: 0.968762\tval's cappa: 0.478537\n",
      "Early stopping, best iteration is:\n",
      "[443]\ttrn's rmse: 0.897803\ttrn's cappa: 0.532748\tval's rmse: 0.971047\tval's cappa: 0.480553\n",
      "Running k-fold 2 of 5\n",
      "Training until validation scores don't improve for 100 rounds.\n",
      "[100]\ttrn's rmse: 1.03259\ttrn's cappa: 0.400599\tval's rmse: 1.06133\tval's cappa: 0.370396\n",
      "[200]\ttrn's rmse: 0.964417\ttrn's cappa: 0.488146\tval's rmse: 1.01065\tval's cappa: 0.440632\n",
      "[300]\ttrn's rmse: 0.930292\ttrn's cappa: 0.512468\tval's rmse: 0.993008\tval's cappa: 0.459244\n",
      "[400]\ttrn's rmse: 0.906365\ttrn's cappa: 0.528426\tval's rmse: 0.984808\tval's cappa: 0.466142\n",
      "[500]\ttrn's rmse: 0.886944\ttrn's cappa: 0.541729\tval's rmse: 0.980399\tval's cappa: 0.465858\n",
      "[600]\ttrn's rmse: 0.870023\ttrn's cappa: 0.553592\tval's rmse: 0.977829\tval's cappa: 0.472078\n",
      "[700]\ttrn's rmse: 0.854717\ttrn's cappa: 0.564003\tval's rmse: 0.97672\tval's cappa: 0.472683\n",
      "Early stopping, best iteration is:\n",
      "[680]\ttrn's rmse: 0.857651\ttrn's cappa: 0.562148\tval's rmse: 0.976849\tval's cappa: 0.474258\n",
      "Running k-fold 3 of 5\n",
      "Training until validation scores don't improve for 100 rounds.\n",
      "[100]\ttrn's rmse: 1.03877\ttrn's cappa: 0.388409\tval's rmse: 1.0444\tval's cappa: 0.348689\n",
      "[200]\ttrn's rmse: 0.966159\ttrn's cappa: 0.493478\tval's rmse: 0.996156\tval's cappa: 0.429519\n",
      "[300]\ttrn's rmse: 0.930931\ttrn's cappa: 0.519994\tval's rmse: 0.980506\tval's cappa: 0.449851\n",
      "[400]\ttrn's rmse: 0.906448\ttrn's cappa: 0.534771\tval's rmse: 0.973686\tval's cappa: 0.451025\n",
      "Early stopping, best iteration is:\n",
      "[341]\ttrn's rmse: 0.920099\ttrn's cappa: 0.527168\tval's rmse: 0.976773\tval's cappa: 0.452724\n",
      "Running k-fold 4 of 5\n",
      "Training until validation scores don't improve for 100 rounds.\n",
      "[100]\ttrn's rmse: 1.02875\ttrn's cappa: 0.411636\tval's rmse: 1.06768\tval's cappa: 0.374805\n",
      "[200]\ttrn's rmse: 0.958151\ttrn's cappa: 0.497491\tval's rmse: 1.02001\tval's cappa: 0.44303\n",
      "[300]\ttrn's rmse: 0.923003\ttrn's cappa: 0.520937\tval's rmse: 1.00451\tval's cappa: 0.456996\n",
      "[400]\ttrn's rmse: 0.898618\ttrn's cappa: 0.535956\tval's rmse: 0.998056\tval's cappa: 0.46132\n",
      "[500]\ttrn's rmse: 0.879244\ttrn's cappa: 0.546625\tval's rmse: 0.995198\tval's cappa: 0.462347\n",
      "Early stopping, best iteration is:\n",
      "[473]\ttrn's rmse: 0.884084\ttrn's cappa: 0.543896\tval's rmse: 0.99598\tval's cappa: 0.462852\n",
      "Running k-fold 5 of 5\n",
      "Training until validation scores don't improve for 100 rounds.\n",
      "[100]\ttrn's rmse: 1.0268\ttrn's cappa: 0.40489\tval's rmse: 1.07335\tval's cappa: 0.348331\n",
      "[200]\ttrn's rmse: 0.956744\ttrn's cappa: 0.496148\tval's rmse: 1.03072\tval's cappa: 0.428327\n",
      "[300]\ttrn's rmse: 0.92186\ttrn's cappa: 0.517297\tval's rmse: 1.01764\tval's cappa: 0.446008\n",
      "[400]\ttrn's rmse: 0.897151\ttrn's cappa: 0.53572\tval's rmse: 1.01205\tval's cappa: 0.448827\n",
      "[500]\ttrn's rmse: 0.877192\ttrn's cappa: 0.54823\tval's rmse: 1.00922\tval's cappa: 0.451979\n",
      "[600]\ttrn's rmse: 0.859943\ttrn's cappa: 0.561475\tval's rmse: 1.00796\tval's cappa: 0.451219\n",
      "Early stopping, best iteration is:\n",
      "[532]\ttrn's rmse: 0.871425\ttrn's cappa: 0.551894\tval's rmse: 1.00874\tval's cappa: 0.454932\n",
      "Using predictions to find optimal rounding boundaries.\n",
      "Optimal values: [-inf, 0.9722589101117917, 1.5011752692850078, 2.169129405043309, inf]\n",
      "Using optimal boundaries to train a new ensemble of models.\n",
      "Running k-fold 1 of 5\n",
      "Training until validation scores don't improve for 100 rounds.\n",
      "[100]\ttrn's rmse: 1.03771\ttrn's cappa: 0.511245\tval's rmse: 1.05472\tval's cappa: 0.487835\n",
      "[200]\ttrn's rmse: 0.966488\ttrn's cappa: 0.62312\tval's rmse: 0.999697\tval's cappa: 0.587405\n",
      "[300]\ttrn's rmse: 0.931653\ttrn's cappa: 0.65213\tval's rmse: 0.982072\tval's cappa: 0.607283\n",
      "[400]\ttrn's rmse: 0.906809\ttrn's cappa: 0.671483\tval's rmse: 0.97341\tval's cappa: 0.611886\n",
      "[500]\ttrn's rmse: 0.886998\ttrn's cappa: 0.688993\tval's rmse: 0.968762\tval's cappa: 0.613971\n",
      "Early stopping, best iteration is:\n",
      "[445]\ttrn's rmse: 0.89741\ttrn's cappa: 0.679894\tval's rmse: 0.970944\tval's cappa: 0.616795\n",
      "Running k-fold 2 of 5\n",
      "Training until validation scores don't improve for 100 rounds.\n",
      "[100]\ttrn's rmse: 1.03259\ttrn's cappa: 0.525631\tval's rmse: 1.06133\tval's cappa: 0.483841\n",
      "[200]\ttrn's rmse: 0.964417\ttrn's cappa: 0.623492\tval's rmse: 1.01065\tval's cappa: 0.567535\n",
      "[300]\ttrn's rmse: 0.930292\ttrn's cappa: 0.652686\tval's rmse: 0.993008\tval's cappa: 0.587122\n",
      "[400]\ttrn's rmse: 0.906365\ttrn's cappa: 0.671786\tval's rmse: 0.984808\tval's cappa: 0.596149\n",
      "[500]\ttrn's rmse: 0.886944\ttrn's cappa: 0.689083\tval's rmse: 0.980399\tval's cappa: 0.608516\n",
      "[600]\ttrn's rmse: 0.870023\ttrn's cappa: 0.703127\tval's rmse: 0.977829\tval's cappa: 0.61283\n",
      "[700]\ttrn's rmse: 0.854717\ttrn's cappa: 0.714155\tval's rmse: 0.97672\tval's cappa: 0.615624\n",
      "[800]\ttrn's rmse: 0.840679\ttrn's cappa: 0.724874\tval's rmse: 0.975674\tval's cappa: 0.616861\n",
      "Early stopping, best iteration is:\n",
      "[787]\ttrn's rmse: 0.842403\ttrn's cappa: 0.723343\tval's rmse: 0.975834\tval's cappa: 0.618217\n",
      "Running k-fold 3 of 5\n",
      "Training until validation scores don't improve for 100 rounds.\n",
      "[100]\ttrn's rmse: 1.03877\ttrn's cappa: 0.526435\tval's rmse: 1.0444\tval's cappa: 0.480433\n",
      "[200]\ttrn's rmse: 0.966159\ttrn's cappa: 0.629421\tval's rmse: 0.996156\tval's cappa: 0.564488\n",
      "[300]\ttrn's rmse: 0.930931\ttrn's cappa: 0.659366\tval's rmse: 0.980506\tval's cappa: 0.581854\n",
      "[400]\ttrn's rmse: 0.906448\ttrn's cappa: 0.677002\tval's rmse: 0.973686\tval's cappa: 0.588576\n",
      "[500]\ttrn's rmse: 0.886578\ttrn's cappa: 0.692977\tval's rmse: 0.970357\tval's cappa: 0.593023\n",
      "[600]\ttrn's rmse: 0.86963\ttrn's cappa: 0.707282\tval's rmse: 0.969124\tval's cappa: 0.595326\n",
      "Early stopping, best iteration is:\n",
      "[524]\ttrn's rmse: 0.882296\ttrn's cappa: 0.696449\tval's rmse: 0.969875\tval's cappa: 0.597026\n",
      "Running k-fold 4 of 5\n",
      "Training until validation scores don't improve for 100 rounds.\n",
      "[100]\ttrn's rmse: 1.02875\ttrn's cappa: 0.538738\tval's rmse: 1.06768\tval's cappa: 0.490016\n",
      "[200]\ttrn's rmse: 0.958151\ttrn's cappa: 0.630068\tval's rmse: 1.02001\tval's cappa: 0.56514\n",
      "[300]\ttrn's rmse: 0.923003\ttrn's cappa: 0.662201\tval's rmse: 1.00451\tval's cappa: 0.577596\n",
      "[400]\ttrn's rmse: 0.898618\ttrn's cappa: 0.679317\tval's rmse: 0.998056\tval's cappa: 0.583573\n",
      "[500]\ttrn's rmse: 0.879244\ttrn's cappa: 0.695031\tval's rmse: 0.995198\tval's cappa: 0.586297\n",
      "[600]\ttrn's rmse: 0.862321\ttrn's cappa: 0.7112\tval's rmse: 0.993606\tval's cappa: 0.588606\n",
      "[700]\ttrn's rmse: 0.846768\ttrn's cappa: 0.723072\tval's rmse: 0.992823\tval's cappa: 0.588278\n",
      "[800]\ttrn's rmse: 0.832604\ttrn's cappa: 0.735539\tval's rmse: 0.992198\tval's cappa: 0.59144\n",
      "[900]\ttrn's rmse: 0.819307\ttrn's cappa: 0.745414\tval's rmse: 0.991913\tval's cappa: 0.592424\n",
      "Early stopping, best iteration is:\n",
      "[871]\ttrn's rmse: 0.823057\ttrn's cappa: 0.741808\tval's rmse: 0.991867\tval's cappa: 0.594442\n",
      "Running k-fold 5 of 5\n",
      "Training until validation scores don't improve for 100 rounds.\n",
      "[100]\ttrn's rmse: 1.0268\ttrn's cappa: 0.537026\tval's rmse: 1.07335\tval's cappa: 0.471554\n",
      "[200]\ttrn's rmse: 0.956744\ttrn's cappa: 0.631533\tval's rmse: 1.03072\tval's cappa: 0.55729\n",
      "[300]\ttrn's rmse: 0.92186\ttrn's cappa: 0.660831\tval's rmse: 1.01764\tval's cappa: 0.564295\n",
      "[400]\ttrn's rmse: 0.897151\ttrn's cappa: 0.681977\tval's rmse: 1.01205\tval's cappa: 0.569685\n",
      "[500]\ttrn's rmse: 0.877192\ttrn's cappa: 0.698068\tval's rmse: 1.00922\tval's cappa: 0.57098\n",
      "[600]\ttrn's rmse: 0.859943\ttrn's cappa: 0.712522\tval's rmse: 1.00796\tval's cappa: 0.574257\n",
      "[700]\ttrn's rmse: 0.844419\ttrn's cappa: 0.725303\tval's rmse: 1.00757\tval's cappa: 0.574242\n",
      "Early stopping, best iteration is:\n",
      "[616]\ttrn's rmse: 0.857298\ttrn's cappa: 0.714815\tval's rmse: 1.00769\tval's cappa: 0.576329\n",
      "Saving the final results.\n"
     ]
    }
   ],
   "source": [
    "algo = 'lightgbm'\n",
    "version = '011'\n",
    "\n",
    "if U.on_kaggle():\n",
    "    U.log('Inference on Kaggle.')\n",
    "    predicted = inference(X_tst, features, bounds=bounds, model=algo, version=version)\n",
    "    U.log('Saving predictions on disk.')\n",
    "    filename = submit(predicted)\n",
    "    submit_df = pd.read_csv(filename)\n",
    "    U.log('First 20 submission rows:')\n",
    "    display(submit_df.head(20))\n",
    "    \n",
    "else:\n",
    "    U.log('Training with sub-optimal rounding.')\n",
    "    reg_metric = RegressionCappa([-np.inf, 1., 2., 3., +np.inf])\n",
    "    result = train(X_trn, features, reg_metric, algo=algo)\n",
    "    \n",
    "    U.log('Using predictions to find optimal rounding boundaries.')\n",
    "    opt_bounds = optimize_rounding_bounds(result.oof, X_trn['accuracy_group'].values)\n",
    "    U.log(f'Optimal values: {opt_bounds}')\n",
    "    \n",
    "    U.log('Using optimal boundaries to train a new ensemble of models.')\n",
    "    reg_metric = RegressionCappa(opt_bounds)\n",
    "    result = train(X_trn, features, reg_metric, algo=algo)\n",
    "    \n",
    "    U.log('Saving the final results.')\n",
    "    bundle.save(result.models, f'models_{algo}_{version}')\n",
    "    bundle.save(opt_bounds, 'bounds')"
   ]
  },
  {
   "cell_type": "code",
   "execution_count": 37,
   "metadata": {},
   "outputs": [
    {
     "name": "stdout",
     "output_type": "stream",
     "text": [
      "Running inference on dataset of shape: 420\n",
      "Loading external models: lightgbm v011.\n",
      "Running models on test data...\n",
      "Averaging ensemble predictions.\n",
      "Rounding predictions using optimal bounds.\n",
      "Converting predictions into submission file.\n",
      "Running locally.\n",
      "(1000, 2) Packaging training results into dataset.\n",
      "/tmp/bowl2019/meta.joblib --> /home/ck/data/bowl2019/external/meta.joblib\n",
      "/tmp/bowl2019/bounds.joblib --> /home/ck/data/bowl2019/external/bounds.joblib\n",
      "/tmp/bowl2019/models_lightgbm_010.joblib --> /home/ck/data/bowl2019/external/models_lightgbm_010.joblib\n",
      "/tmp/bowl2019/features.joblib --> /home/ck/data/bowl2019/external/features.joblib\n",
      "/tmp/bowl2019/encoders.joblib --> /home/ck/data/bowl2019/external/encoders.joblib\n",
      "/tmp/bowl2019/models_lightgbm_011.joblib --> /home/ck/data/bowl2019/external/models_lightgbm_011.joblib\n",
      "/tmp/bowl2019/models_lightgbm_008.joblib --> /home/ck/data/bowl2019/external/models_lightgbm_008.joblib\n",
      "Packaging helper scripts into dataset.\n",
      "../selection.py --> /home/ck/data/bowl2019/external/selection.py\n",
      "../encode.py --> /home/ck/data/bowl2019/external/encode.py\n",
      "../features.py --> /home/ck/data/bowl2019/external/features.py\n",
      "../training.py --> /home/ck/data/bowl2019/external/training.py\n",
      "../style.py --> /home/ck/data/bowl2019/external/style.py\n",
      "../basedir.py --> /home/ck/data/bowl2019/external/basedir.py\n",
      "../dataset.py --> /home/ck/data/bowl2019/external/dataset.py\n",
      "../models.py --> /home/ck/data/bowl2019/external/models.py\n",
      "../extract_features.py --> /home/ck/data/bowl2019/external/extract_features.py\n",
      "../plots.py --> /home/ck/data/bowl2019/external/plots.py\n",
      "../meta.py --> /home/ck/data/bowl2019/external/meta.py\n",
      "../bundle.py --> /home/ck/data/bowl2019/external/bundle.py\n",
      "../metric.py --> /home/ck/data/bowl2019/external/metric.py\n",
      "../utils.py --> /home/ck/data/bowl2019/external/utils.py\n"
     ]
    }
   ],
   "source": [
    "if not U.on_kaggle():\n",
    "    import os\n",
    "    features = bundle.features()\n",
    "    bounds = bundle.bounds()\n",
    "    filename = submit(inference(X_tst, features, bounds, model=algo, version=version))\n",
    "    assert os.path.exists(filename)\n",
    "    assert pd.read_csv(filename).shape[0] == 1000\n",
    "    bundle.package(folder='/home/ck/data/bowl2019/external/')"
   ]
  },
  {
   "cell_type": "markdown",
   "metadata": {},
   "source": [
    "## Experiments"
   ]
  },
  {
   "cell_type": "code",
   "execution_count": null,
   "metadata": {},
   "outputs": [],
   "source": []
  }
 ],
 "metadata": {
  "kernelspec": {
   "display_name": "fastai (cuda 10)",
   "language": "python",
   "name": "fastai"
  },
  "language_info": {
   "codemirror_mode": {
    "name": "ipython",
    "version": 3
   },
   "file_extension": ".py",
   "mimetype": "text/x-python",
   "name": "python",
   "nbconvert_exporter": "python",
   "pygments_lexer": "ipython3",
   "version": "3.7.3"
  },
  "toc": {
   "base_numbering": 1,
   "nav_menu": {},
   "number_sections": true,
   "sideBar": true,
   "skip_h1_title": false,
   "title_cell": "Table of Contents",
   "title_sidebar": "Contents",
   "toc_cell": false,
   "toc_position": {},
   "toc_section_display": true,
   "toc_window_display": false
  }
 },
 "nbformat": 4,
 "nbformat_minor": 2
}
