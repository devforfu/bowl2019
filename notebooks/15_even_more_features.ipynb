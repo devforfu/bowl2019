{
 "cells": [
  {
   "cell_type": "code",
   "execution_count": null,
   "metadata": {},
   "outputs": [],
   "source": [
    "# !cp /kaggle/input/data-bowl-2019-external-data/*.py /kaggle/working"
   ]
  },
  {
   "cell_type": "code",
   "execution_count": 1,
   "metadata": {},
   "outputs": [],
   "source": [
    "%reload_ext autoreload\n",
    "%autoreload 2\n",
    "import warnings\n",
    "import jupytools.syspath\n",
    "def ignore(*args, **kwargs): pass\n",
    "warnings.warn = ignore\n",
    "jupytools.syspath.add('..')"
   ]
  },
  {
   "cell_type": "code",
   "execution_count": 2,
   "metadata": {},
   "outputs": [],
   "source": [
    "from collections import Counter, OrderedDict\n",
    "from functools import partial\n",
    "\n",
    "import numpy as np\n",
    "import pandas as pd\n",
    "from IPython.display import display\n",
    "from sklearn.metrics import cohen_kappa_score\n",
    "from sklearn.model_selection import GroupKFold\n",
    "from tqdm.auto import tqdm\n",
    "\n",
    "import bundle\n",
    "import features as F\n",
    "import selection\n",
    "import utils as U\n",
    "from dataset import load, load_sample, Subset\n",
    "from encode import encode\n",
    "from training import train, inference, submit, EnsembleTrainer, get_default_config\n",
    "from meta import compute_meta_data\n",
    "from metric import optimize_rounding_bounds, make_cappa_metric\n",
    "from normalize import normalize"
   ]
  },
  {
   "cell_type": "code",
   "execution_count": 36,
   "metadata": {},
   "outputs": [
    {
     "name": "stdout",
     "output_type": "stream",
     "text": [
      "Loading train and test.\n",
      "(11341042, 11) (17690, 7) (386, 3) (1156414, 11) "
     ]
    }
   ],
   "source": [
    "sample = False\n",
    "if U.on_kaggle():\n",
    "    U.log('Loading test set only.')\n",
    "    tst_data = pd.read_csv('/kaggle/input/data-science-bowl-2019/test.csv')\n",
    "else:\n",
    "    if sample:\n",
    "        U.log('Warning: loading train and test data sample.')\n",
    "        trn_data, _, _ = load_sample(Subset.Train, 500_000)\n",
    "        [tst_data] = load_sample(Subset.Test, 500_000)\n",
    "    else:\n",
    "        U.log('Loading train and test.')\n",
    "        trn_data, trn_spec, trn_targ = load(Subset.Train)\n",
    "        [tst_data] = load(Subset.Test)"
   ]
  },
  {
   "cell_type": "code",
   "execution_count": 37,
   "metadata": {},
   "outputs": [
    {
     "name": "stdout",
     "output_type": "stream",
     "text": [
      "Transforming train and test data.\n",
      "(11341042, 19) (1156414, 19)\n"
     ]
    }
   ],
   "source": [
    "transform = U.combine(\n",
    "    partial(F.add_feature_combinations, pairs=[('title', 'event_code')]),\n",
    "    partial(F.add_datetime, column='timestamp', prefix='ts'),\n",
    ")\n",
    "\n",
    "if U.on_kaggle():\n",
    "    U.log('Transforming test data only.')\n",
    "    X_tst = transform(tst_data.copy())\n",
    "    U.log(X_tst.shape)\n",
    "else:\n",
    "    U.log('Transforming train and test data.')\n",
    "    X_tst = transform(tst_data.copy())\n",
    "    X_trn = transform(trn_data.copy())\n",
    "    U.log(X_trn.shape, X_tst.shape)"
   ]
  },
  {
   "cell_type": "code",
   "execution_count": 38,
   "metadata": {},
   "outputs": [
    {
     "name": "stdout",
     "output_type": "stream",
     "text": [
      "Computing meta using train and test datasets.\n",
      "Saving computed meta on disk.\n"
     ]
    }
   ],
   "source": [
    "if U.on_kaggle():\n",
    "    U.log('Reading pre-computed meta from disk.')\n",
    "    meta = bundle.meta()\n",
    "else:\n",
    "    U.log('Computing meta using train and test datasets.')\n",
    "    meta = compute_meta_data(X_trn, X_tst)\n",
    "    U.log('Saving computed meta on disk.')\n",
    "    bundle.save_meta(meta, 'meta')"
   ]
  },
  {
   "cell_type": "code",
   "execution_count": 39,
   "metadata": {},
   "outputs": [
    {
     "name": "stdout",
     "output_type": "stream",
     "text": [
      "Preparing train and test datasets.\n",
      "Running algorithm in train mode.\n"
     ]
    },
    {
     "data": {
      "application/vnd.jupyter.widget-view+json": {
       "model_id": "f5661e3de1744045ad8779eed94d68a9",
       "version_major": 2,
       "version_minor": 0
      },
      "text/plain": [
       "HBox(children=(FloatProgress(value=0.0, max=17000.0), HTML(value='')))"
      ]
     },
     "metadata": {},
     "output_type": "display_data"
    },
    {
     "name": "stdout",
     "output_type": "stream",
     "text": [
      "\n",
      "Running algorithm in test mode.\n"
     ]
    },
    {
     "data": {
      "application/vnd.jupyter.widget-view+json": {
       "model_id": "6e50ff6418ca48cebb7658f388b72cf5",
       "version_major": 2,
       "version_minor": 0
      },
      "text/plain": [
       "HBox(children=(FloatProgress(value=0.0, max=1000.0), HTML(value='')))"
      ]
     },
     "metadata": {},
     "output_type": "display_data"
    },
    {
     "name": "stdout",
     "output_type": "stream",
     "text": [
      "\n"
     ]
    }
   ],
   "source": [
    "extractor = F.FeaturesExtractor([\n",
    "    F.CountingFeatures(meta),\n",
    "    F.PerformanceFeatures(meta),\n",
    "    F.VarietyFeatures(meta),\n",
    "    F.EventDataFeatures(meta),\n",
    "    F.FeedbackFeatures(meta),\n",
    "    F.TimestampFeatures2(meta)\n",
    "])\n",
    "\n",
    "algo = F.InMemoryAlgorithm(extractor, meta, num_workers=12)\n",
    "\n",
    "cat_cols = ['session_title', 'cnt_most_freq_title', \n",
    "            'cnt_least_freq_title', 'cnt_most_freq_world', \n",
    "            'cnt_least_freq_world']\n",
    "\n",
    "if U.on_kaggle():\n",
    "    U.log('Preparing test dataset.')\n",
    "    X_tst = algo.run(X_tst, test=True)\n",
    "    encoders = bundle.encoders()\n",
    "    X_tst, _ = encode(X_tst, cat_cols, encoders=encoders)\n",
    "else:\n",
    "    U.log('Preparing train and test datasets.')\n",
    "    X_trn = algo.run(X_trn)\n",
    "    X_tst = algo.run(X_tst, test=True)\n",
    "    X_trn, encoders = encode(X_trn, cat_cols)\n",
    "    X_tst, _ = encode(X_tst, cat_cols, encoders=encoders)\n",
    "    bundle.save(encoders, 'encoders')"
   ]
  },
  {
   "cell_type": "code",
   "execution_count": 40,
   "metadata": {},
   "outputs": [
    {
     "name": "stdout",
     "output_type": "stream",
     "text": [
      "Running post-processing on train and test sets.\n"
     ]
    }
   ],
   "source": [
    "if U.on_kaggle():\n",
    "    U.log('Running post-processing on test set only.')\n",
    "    F.add_user_wise_features(X_tst, meta)\n",
    "else:\n",
    "    U.log('Running post-processing on train and test sets.')\n",
    "    F.add_user_wise_features(X_trn, meta)\n",
    "    F.add_user_wise_features(X_tst, meta)"
   ]
  },
  {
   "cell_type": "code",
   "execution_count": 41,
   "metadata": {},
   "outputs": [],
   "source": [
    "X_trn.to_pickle('/tmp/X_trn.pickle')"
   ]
  },
  {
   "cell_type": "code",
   "execution_count": 42,
   "metadata": {},
   "outputs": [],
   "source": [
    "X_tst.to_pickle('/tmp/X_tst.pickle')"
   ]
  },
  {
   "cell_type": "code",
   "execution_count": 31,
   "metadata": {},
   "outputs": [],
   "source": [
    "X_trn = pd.read_pickle('/tmp/X_trn.pickle')\n",
    "X_tst = pd.read_pickle('/tmp/X_tst.pickle')"
   ]
  },
  {
   "cell_type": "code",
   "execution_count": null,
   "metadata": {},
   "outputs": [],
   "source": [
    "group_col = 'installation_id'\n",
    "U.log(f'Normalizing dataset using column for grouping: {group_col}')\n",
    "norm_dataset = X_tst if U.on_kaggle() else X_trn\n",
    "cnt_cols = U.starts_with(norm_dataset.columns, 'cnt_')\n",
    "normalize(norm_dataset, cnt_cols, grouping_key=group_col, method='min-max')"
   ]
  },
  {
   "cell_type": "markdown",
   "metadata": {
    "heading_collapsed": true
   },
   "source": [
    "## Experiments"
   ]
  },
  {
   "cell_type": "code",
   "execution_count": null,
   "metadata": {
    "hidden": true
   },
   "outputs": [],
   "source": [
    "X_trn = pd.read_pickle('/tmp/X_trn.pickle')\n",
    "X_tst = pd.read_pickle('/tmp/X_tst.pickle')\n",
    "cappa = make_cappa_metric(X_trn['accuracy_group'])\n",
    "features = [c for c in X_trn.columns \n",
    "            if c not in ('installation_id', 'game_session', 'accuracy_group')]"
   ]
  },
  {
   "cell_type": "code",
   "execution_count": null,
   "metadata": {
    "hidden": true
   },
   "outputs": [],
   "source": [
    "X_trn"
   ]
  },
  {
   "cell_type": "code",
   "execution_count": null,
   "metadata": {
    "hidden": true
   },
   "outputs": [],
   "source": [
    "model_type = 'lightgbm'\n",
    "trainer = EnsembleTrainer(algo=model_type, cv_metrics={'cappa': cappa})\n",
    "fold = GroupKFold(n_splits=5)\n",
    "config = get_default_config(model_type)\n",
    "result = trainer.train(X_trn, features=features, fold=fold, config=config)"
   ]
  },
  {
   "cell_type": "code",
   "execution_count": null,
   "metadata": {
    "hidden": true
   },
   "outputs": [],
   "source": [
    "cappa(X_trn['accuracy_group'].values, result.oof)"
   ]
  },
  {
   "cell_type": "code",
   "execution_count": null,
   "metadata": {
    "hidden": true
   },
   "outputs": [],
   "source": [
    "# features from event_data\n",
    "# https://www.kaggle.com/c/data-science-bowl-2019/discussion/124028\n",
    "\n",
    "# truncated validation\n",
    "# https://www.kaggle.com/ragnar123/truncated-val\n",
    "# https://www.kaggle.com/c/data-science-bowl-2019/discussion/120790\n",
    "\n",
    "# params = {'boosting_type': 'gbdt', \n",
    "#           'metric': 'rmse', \n",
    "#           'objective': 'regression', \n",
    "#           'eval_metric': 'cappa', \n",
    "#           'n_jobs': -1, \n",
    "#           'seed': 42, \n",
    "#           'num_leaves': 26, \n",
    "#           'learning_rate': 0.077439684887749, \n",
    "#           'max_depth': 33, \n",
    "#           'lambda_l1': 3.27791989030057, \n",
    "#           'lambda_l2': 1.3047627805931334, \n",
    "#           'bagging_fraction': 0.896924978584253, \n",
    "#           'bagging_freq': 1, \n",
    "#           'colsample_bytree': 0.8710772167017853}"
   ]
  },
  {
   "cell_type": "code",
   "execution_count": null,
   "metadata": {
    "hidden": true
   },
   "outputs": [],
   "source": [
    "columns = X_trn.columns.tolist()\n",
    "cnt_cols = U.starts_with(columns, 'cnt_')\n",
    "perf_cols = U.starts_with(columns, 'perf_')\n",
    "var_cols = U.starts_with(columns, 'var_')\n",
    "user_cols = U.starts_with(columns, 'user_')\n",
    "event_cols = U.starts_with(columns, 'event_')\n",
    "cat_cols = ['session_title']\n",
    "cols = cnt_cols + perf_cols + var_cols + user_cols + event_cols + cat_cols\n",
    "\n",
    "features_groups = [\n",
    "    ('cnt+perf+var', cnt_cols + perf_cols + var_cols),\n",
    "    ('cnt+perf+user', cnt_cols + perf_cols + user_cols),\n",
    "    ('cnt+perf+cat', cnt_cols + perf_cols + cat_cols),\n",
    "    ('cnt+perf+var+user+cat', cnt_cols + perf_cols + var_cols + user_cols + cat_cols),\n",
    "    ('event+cnt+perf', event_cols + cnt_cols + perf_cols),\n",
    "    ('event+cnt+perf+user', event_cols + cnt_cols + perf_cols + user_cols),\n",
    "    ('event+cnt+perf+var', event_cols + cnt_cols + perf_cols + var_cols),\n",
    "    ('event+cnt+pert+cat', event_cols + cnt_cols + perf_cols + cat_cols),\n",
    "    ('event+cnt+perf+user+var+cat', \n",
    "     event_cols + cnt_cols + perf_cols + user_cols + var_cols + cat_cols),\n",
    "    ('all', cols),\n",
    "    ('all-event', [c for c in cols if c not in event_cols])\n",
    "]"
   ]
  },
  {
   "cell_type": "code",
   "execution_count": null,
   "metadata": {
    "hidden": true
   },
   "outputs": [],
   "source": [
    "from sklearn.model_selection import GroupKFold\n",
    "from training import EnsembleTrainer, get_default_config\n",
    "\n",
    "model_type = 'lightgbm'\n",
    "trainer = EnsembleTrainer(algo=model_type, cv_metrics={'cappa': cappa})\n",
    "fold = GroupKFold(n_splits=5)\n",
    "config = get_default_config(model_type)\n",
    "U.set_nested(config, 'model_params.feature_fraction', 0.8)\n",
    "U.set_nested(config, 'model_params.bagging_fraction', 0.75)\n",
    "U.set_nested(config, 'model_params.bagging_freq', 1)\n",
    "\n",
    "results = []\n",
    "for col_group, features in features_groups:\n",
    "    U.log(f'Training columns group: {col_group}')\n",
    "    result = trainer.train(X_trn, features=features, fold=fold, config=config)\n",
    "    results.append((col_group, result))"
   ]
  },
  {
   "cell_type": "code",
   "execution_count": null,
   "metadata": {
    "hidden": true
   },
   "outputs": [],
   "source": [
    "report = pd.DataFrame([\n",
    "    OrderedDict([('features', name)] + list(result.cv.items())) \n",
    "    for name, result in results])\n",
    "cappa_cols = U.starts_with(report.columns, 'cv_cappa')\n",
    "report['mean'] = report[cappa_cols].mean(axis=1)\n",
    "report['std'] = report[cappa_cols].std(axis=1)\n",
    "report.sort_values(by=['mean'], inplace=True, ascending=False)\n",
    "report.reset_index(drop=True, inplace=True)\n",
    "report.to_csv(f'report_{U.now()}.csv', index=False)"
   ]
  },
  {
   "cell_type": "code",
   "execution_count": null,
   "metadata": {
    "hidden": true
   },
   "outputs": [],
   "source": [
    "def highlight_best(col):\n",
    "    if not col.name.startswith('cv_cappa_'):\n",
    "        return [''] * len(col)\n",
    "    is_best = col.index == col.argmax()\n",
    "    return ['background-color: salmon' if idx else '' for idx in is_best]"
   ]
  },
  {
   "cell_type": "code",
   "execution_count": null,
   "metadata": {
    "hidden": true
   },
   "outputs": [],
   "source": [
    "report.style.apply(highlight_best)"
   ]
  },
  {
   "cell_type": "markdown",
   "metadata": {
    "heading_collapsed": true
   },
   "source": [
    "## Event Data"
   ]
  },
  {
   "cell_type": "code",
   "execution_count": null,
   "metadata": {
    "hidden": true
   },
   "outputs": [],
   "source": [
    "import json\n",
    "sample = trn_data.sample(1_000_000)\n",
    "event_data = pd.io.json.json_normalize(sample.event_data.apply(json.loads))"
   ]
  },
  {
   "cell_type": "code",
   "execution_count": null,
   "metadata": {
    "hidden": true
   },
   "outputs": [],
   "source": [
    "from dataset import existing_info\n",
    "stat_info = existing_info(event_data).T.reset_index()"
   ]
  },
  {
   "cell_type": "code",
   "execution_count": null,
   "metadata": {
    "hidden": true
   },
   "outputs": [],
   "source": [
    "%matplotlib inline\n",
    "import matplotlib.pyplot as plt\n",
    "import seaborn as sns\n",
    "f, ax = plt.subplots(figsize=(8, 12))\n",
    "ax = sns.barplot(x='Percent', y='index', data=stat_info.head(40))\n",
    "ax.set_title('Most Frequent Features')\n",
    "ax.set_ylabel('Features')\n",
    "ax.grid(True, linestyle='dotted')"
   ]
  },
  {
   "cell_type": "code",
   "execution_count": null,
   "metadata": {
    "hidden": true
   },
   "outputs": [],
   "source": [
    "U.show_all(event_data['identifier'].fillna('n/a').value_counts().reset_index())"
   ]
  },
  {
   "cell_type": "code",
   "execution_count": null,
   "metadata": {
    "hidden": true
   },
   "outputs": [],
   "source": [
    "cnt = event_data['identifier'].fillna('n/a').value_counts().reset_index()"
   ]
  },
  {
   "cell_type": "code",
   "execution_count": null,
   "metadata": {
    "hidden": true
   },
   "outputs": [],
   "source": [
    "import re\n",
    "import os"
   ]
  },
  {
   "cell_type": "code",
   "execution_count": null,
   "metadata": {
    "hidden": true
   },
   "outputs": [],
   "source": [
    "def transform_identifier(x):\n",
    "    if U.starts_with_any(x, ['Dot', 'Buddy', 'Mom', 'Cleo']):\n",
    "        parts = x.split(',')\n",
    "        if len(parts) > 1:\n",
    "            prefix = os.path.commonprefix(parts)\n",
    "            n = len(prefix)\n",
    "            trimmed = [U.camel_to_snake(part[n:]) for part in parts]\n",
    "            string = '_'.join(trimmed)\n",
    "        else:\n",
    "            prefix = ''\n",
    "            string = U.camel_to_snake(x.replace('_', ''))\n",
    "        result = f'{prefix}{string}'\n",
    "        return result.lower()\n",
    "    return x"
   ]
  },
  {
   "cell_type": "code",
   "execution_count": null,
   "metadata": {
    "hidden": true
   },
   "outputs": [],
   "source": [
    "POSITIVE_FEEDBACK = set([\n",
    "    'dot_so_cool',\n",
    "    'dot_great_job',\n",
    "    'ohWow',\n",
    "    'wowSoCool',\n",
    "    'thatLooksSoCool',\n",
    "    'niceJob',\n",
    "    'tub_success',\n",
    "    'water_success',\n",
    "    'soap_success',\n",
    "    'dot_whoa_so_cool',\n",
    "    'dot_wow',\n",
    "    'dot_amazing',\n",
    "    'cleo_awe_of_your_skills',\n",
    "    'greatJob_1306',\n",
    "    'dot__you_did_it_sfx_completedtask',\n",
    "    'RIGHTANSWER3',\n",
    "    'RIGHTANSWER2',\n",
    "    'RIGHTANSWER1',\n",
    "    'AWESOME',\n",
    "    'dot_awesome',\n",
    "    'cleo_amazing_powers',\n",
    "    'dot_nice_work_all_match',\n",
    "    'GreatFlying',\n",
    "    'youDidIt_1305'\n",
    "])\n",
    "\n",
    "NEGATIVE_FEEDBACK = set([\n",
    "    'IncorrectTooHeavy_touch',\n",
    "    'IncorrectTooLight',\n",
    "    'dot_uhoh_need_try_again',\n",
    "    'dot_so_low',\n",
    "    'buddy_dinosaurs_awfully_thirsty_fill_clouds',\n",
    "    'cleo_bowl_too_light',\n",
    "    'dot_whoops_too_short',\n",
    "    'REMOVE_WEIGHT',\n",
    "    'NOT_THAT_HEAVY',\n",
    "    'dot_uh_oh_too_tall',\n",
    "    'wrong2',\n",
    "    'wrong1',\n",
    "    'tryAgain0_1333',\n",
    "    'ADD_MORE_WEIGHT',\n",
    "    'cleo_bowl_too_light_remember_heavier_bowl',\n",
    "    'dot_whoops_not_balanced',\n",
    "    'WrongOver',\n",
    "    'wrongMore',\n",
    "    'WrongBetweenTree',\n",
    "    'wrongFewer',\n",
    "    'WrongBetweenCliff',\n",
    "])"
   ]
  },
  {
   "cell_type": "code",
   "execution_count": null,
   "metadata": {
    "hidden": true
   },
   "outputs": [],
   "source": [
    "def transform_feedback(x):\n",
    "    return ('positive' if x in POSITIVE_FEEDBACK else\n",
    "            'negative' if x in NEGATIVE_FEEDBACK else\n",
    "            'other')"
   ]
  },
  {
   "cell_type": "code",
   "execution_count": null,
   "metadata": {
    "hidden": true
   },
   "outputs": [],
   "source": [
    "characters = 'dot', 'buddy', 'mom', 'cleo'\n",
    "normalized = cnt['index'].map(transform_identifier)\n",
    "character_identifiers = normalized.map(lambda x: U.starts_with_any(x, characters))\n",
    "edi = pd.DataFrame({'identifier': normalized[character_identifiers]})\n",
    "edi['character'] = event_data_ident['identifier'].map(lambda x: x.split('_')[0])\n",
    "edi['feedback'] = event_data_ident['identifier'].map(transform_feedback)\n",
    "U.show_all(edi)"
   ]
  },
  {
   "cell_type": "code",
   "execution_count": null,
   "metadata": {
    "hidden": true
   },
   "outputs": [],
   "source": []
  },
  {
   "cell_type": "code",
   "execution_count": null,
   "metadata": {
    "hidden": true
   },
   "outputs": [],
   "source": []
  },
  {
   "cell_type": "code",
   "execution_count": null,
   "metadata": {
    "hidden": true,
    "scrolled": true
   },
   "outputs": [],
   "source": [
    "U.show_all(normalized.reset_index())"
   ]
  },
  {
   "cell_type": "code",
   "execution_count": null,
   "metadata": {
    "hidden": true
   },
   "outputs": [],
   "source": [
    "U.show_all(cnt['index'].map(transform_identifier))"
   ]
  },
  {
   "cell_type": "code",
   "execution_count": null,
   "metadata": {
    "hidden": true
   },
   "outputs": [],
   "source": [
    "# 'Dot_SoCool' --> 'dot_so_cool'\n",
    "# 'Dot_AllDoneTapThis' --> 'dot_all_done'\n",
    "# 'Dot_FillItUp' --> 'dot_fill_it_up'\n",
    "# 'Dot_GreatJob' --> 'dot_great_job'\n",
    "# 'Dot_TryWall' --> 'dot_try_wall'\n"
   ]
  },
  {
   "cell_type": "code",
   "execution_count": null,
   "metadata": {
    "hidden": true
   },
   "outputs": [],
   "source": [
    "freq_keys = stat_info['index'][stat_info['Percent'] >= 5.].tolist()"
   ]
  },
  {
   "cell_type": "code",
   "execution_count": null,
   "metadata": {
    "hidden": true
   },
   "outputs": [],
   "source": [
    "freq_keys"
   ]
  },
  {
   "cell_type": "code",
   "execution_count": null,
   "metadata": {
    "hidden": true
   },
   "outputs": [],
   "source": [
    "round_df = event_data['round'].fillna(0).value_counts().reset_index()\n",
    "round_df['index'] = round_df['index'].astype(int)\n",
    "round_df.sort_values(by='index', inplace=True)\n",
    "round_df.plot(x='index', y='round')"
   ]
  },
  {
   "cell_type": "code",
   "execution_count": null,
   "metadata": {
    "hidden": true
   },
   "outputs": [],
   "source": [
    "np.isnan(event_data['coordinates.x'].iloc[3])"
   ]
  },
  {
   "cell_type": "code",
   "execution_count": null,
   "metadata": {
    "hidden": true
   },
   "outputs": [],
   "source": [
    "event_data['coordinates.x'].fillna(0)"
   ]
  },
  {
   "cell_type": "code",
   "execution_count": null,
   "metadata": {
    "hidden": true
   },
   "outputs": [],
   "source": [
    "event_data['media_type'].fillna('unknown').value_counts()"
   ]
  },
  {
   "cell_type": "code",
   "execution_count": null,
   "metadata": {
    "hidden": true
   },
   "outputs": [],
   "source": [
    "event_data['source'].fillna('N/A').value_counts()"
   ]
  },
  {
   "cell_type": "code",
   "execution_count": null,
   "metadata": {
    "hidden": true
   },
   "outputs": [],
   "source": [
    "levels = event_data['level'].fillna(0)\n",
    "pd.cut(levels, [-np.inf, 3, 5, 8, 13, 21, np.inf], labels=[0, 1, 2, 3, 4, 5]).value_counts()"
   ]
  },
  {
   "cell_type": "code",
   "execution_count": null,
   "metadata": {
    "hidden": true
   },
   "outputs": [],
   "source": [
    "event_data['size'].fillna(0).value_counts()"
   ]
  },
  {
   "cell_type": "code",
   "execution_count": null,
   "metadata": {
    "hidden": true
   },
   "outputs": [],
   "source": [
    "event_data['weight'].fillna(0).value_counts()"
   ]
  },
  {
   "cell_type": "code",
   "execution_count": null,
   "metadata": {
    "hidden": true
   },
   "outputs": [],
   "source": [
    "# round: float with NaNs\n",
    "# coordinates.(x|y): float with NaNs, but presumably integer\n",
    "# coordinates.stage_(width|height): float with NaNs, but presumably categorical\n",
    "#\n",
    "# description: text messages, try to convert into categoricals?\n",
    "#     (event_data['description'].fillna('n/a').value_counts()\n",
    "#      .rename('count').reset_index().rename(columns={'index': 'text'}))\n",
    "#\n",
    "# identifier: some string, probably concatenated with commas; most simple is to compute len\n",
    "# event_data['identifier'].fillna('n/a').str.split(',').apply(len)\n",
    "#\n",
    "# media_type: categorical string\n",
    "# event_data['media_type'].fillna('n/a').value_counts()\n",
    "#\n",
    "# duration: should already exist in the features set\n",
    "# total_duration: probably also present in the features\n",
    "#\n",
    "# source: also some kind of categorical string\n",
    "# event_data['source'].fillna('n/a').value_counts()\n",
    "#\n",
    "# level: integer feature, can be used as a cumulative metric (?)\n",
    "# event_data['level'].fillna('n/a').value_counts()\n",
    "#\n",
    "# correct: defines if attempt was done, is already used in feature processing\n",
    "# \n",
    "# size: integer feature\n",
    "# event_data['size'].fillna('n/a').value_counts()\n",
    "#\n",
    "# weight: one more integer feature\n",
    "# event_data['weight'].fillna('n/a').value_counts()"
   ]
  },
  {
   "cell_type": "markdown",
   "metadata": {},
   "source": [
    "## Features Selection"
   ]
  },
  {
   "cell_type": "code",
   "execution_count": 44,
   "metadata": {},
   "outputs": [
    {
     "name": "stdout",
     "output_type": "stream",
     "text": [
      "Deriving relevant features from train dataset.\n",
      "Excluding from consideration: ['accuracy_group', 'installation_id', 'game_session']\n",
      "Applying feature selection rule: nonzero\n",
      "Selected features: 1012 of 1048\n",
      "Keeping only features, selected by every rule.\n",
      "Final number of features changed from 1048 to 1012\n"
     ]
    }
   ],
   "source": [
    "selector = selection.FeatureSelection(\n",
    "    rules=[\n",
    "        ('nonzero', selection.non_zero_rows_and_cols),\n",
    "    ],\n",
    "    ignore_cols=[\n",
    "        'accuracy_group', \n",
    "        'installation_id', \n",
    "        'game_session'\n",
    "    ]\n",
    ")\n",
    "if U.on_kaggle():\n",
    "    U.log('Loading relevant features list from disk.')\n",
    "    features = bundle.features()\n",
    "else:\n",
    "    U.log('Deriving relevant features from train dataset.')\n",
    "    features = selector.select(X_trn)\n",
    "    bundle.save(features, 'features')"
   ]
  },
  {
   "cell_type": "code",
   "execution_count": null,
   "metadata": {},
   "outputs": [],
   "source": [
    "# if U.on_kaggle():\n",
    "#     U.log('Loading relevant features list from disk.')\n",
    "#     features = bundle.features()\n",
    "# else:\n",
    "# #     columns = features\n",
    "# #     cnt_cols = U.starts_with(columns, 'cnt_')\n",
    "# #     perf_cols = U.starts_with(columns, 'perf_')\n",
    "# #     var_cols = U.starts_with(columns, 'var_')\n",
    "# #     user_cols = U.starts_with(columns, 'user_')\n",
    "# #     ts_cols = U.starts_with(columns, 'ts_')\n",
    "# #     event_cols = U.starts_with(columns, 'event_')\n",
    "# #     cat_cols = ['session_title']\n",
    "# #     features = cnt_cols + perf_cols + user_cols + var_cols + event_cols + cat_cols\n",
    "#     features = [x for x in X_trn.columns \n",
    "#                 if x not in ('installation_id', 'game_session', 'accuracy_group')]\n",
    "#     bundle.save(features, 'features')\n",
    "# U.log(f'Total number of features: {len(features)}')"
   ]
  },
  {
   "cell_type": "markdown",
   "metadata": {},
   "source": [
    "## Submission"
   ]
  },
  {
   "cell_type": "code",
   "execution_count": 45,
   "metadata": {},
   "outputs": [
    {
     "name": "stdout",
     "output_type": "stream",
     "text": [
      "Training model: lightgbm\n",
      "Running k-fold 1 of 5\n",
      "Training until validation scores don't improve for 100 rounds.\n",
      "[100]\ttrn's rmse: 1.18638\tval's rmse: 1.19641\n",
      "[200]\ttrn's rmse: 1.13317\tval's rmse: 1.14897\n",
      "[300]\ttrn's rmse: 1.09323\tval's rmse: 1.11354\n",
      "[400]\ttrn's rmse: 1.05697\tval's rmse: 1.08193\n",
      "[500]\ttrn's rmse: 1.03094\tval's rmse: 1.06132\n",
      "[600]\ttrn's rmse: 1.00758\tval's rmse: 1.04317\n",
      "[700]\ttrn's rmse: 0.988555\tval's rmse: 1.02933\n",
      "[800]\ttrn's rmse: 0.971925\tval's rmse: 1.01805\n",
      "[900]\ttrn's rmse: 0.957244\tval's rmse: 1.00835\n",
      "[1000]\ttrn's rmse: 0.945519\tval's rmse: 1.00163\n",
      "[1100]\ttrn's rmse: 0.934687\tval's rmse: 0.995652\n",
      "[1200]\ttrn's rmse: 0.925844\tval's rmse: 0.991642\n",
      "[1300]\ttrn's rmse: 0.917032\tval's rmse: 0.987592\n",
      "[1400]\ttrn's rmse: 0.90967\tval's rmse: 0.984995\n",
      "[1500]\ttrn's rmse: 0.902083\tval's rmse: 0.981954\n",
      "[1600]\ttrn's rmse: 0.895374\tval's rmse: 0.979937\n",
      "[1700]\ttrn's rmse: 0.889227\tval's rmse: 0.978386\n",
      "[1800]\ttrn's rmse: 0.883539\tval's rmse: 0.976997\n",
      "[1900]\ttrn's rmse: 0.87811\tval's rmse: 0.975753\n",
      "[2000]\ttrn's rmse: 0.872911\tval's rmse: 0.974872\n",
      "[2100]\ttrn's rmse: 0.867874\tval's rmse: 0.973812\n",
      "[2200]\ttrn's rmse: 0.862946\tval's rmse: 0.972962\n",
      "[2300]\ttrn's rmse: 0.858296\tval's rmse: 0.972303\n",
      "[2400]\ttrn's rmse: 0.853745\tval's rmse: 0.972029\n",
      "[2500]\ttrn's rmse: 0.849416\tval's rmse: 0.971581\n",
      "[2600]\ttrn's rmse: 0.845135\tval's rmse: 0.971359\n",
      "[2700]\ttrn's rmse: 0.840911\tval's rmse: 0.970924\n",
      "[2800]\ttrn's rmse: 0.836868\tval's rmse: 0.970806\n",
      "[2900]\ttrn's rmse: 0.832837\tval's rmse: 0.970583\n",
      "[3000]\ttrn's rmse: 0.828833\tval's rmse: 0.970392\n",
      "Early stopping, best iteration is:\n",
      "[2996]\ttrn's rmse: 0.828976\tval's rmse: 0.970374\n",
      "Running k-fold 2 of 5\n",
      "Training until validation scores don't improve for 100 rounds.\n",
      "[100]\ttrn's rmse: 1.18223\tval's rmse: 1.20078\n",
      "[200]\ttrn's rmse: 1.12751\tval's rmse: 1.15471\n",
      "[300]\ttrn's rmse: 1.08285\tval's rmse: 1.1168\n",
      "[400]\ttrn's rmse: 1.05027\tval's rmse: 1.09015\n",
      "[500]\ttrn's rmse: 1.02385\tval's rmse: 1.06937\n",
      "[600]\ttrn's rmse: 1.00337\tval's rmse: 1.05404\n",
      "[700]\ttrn's rmse: 0.983562\tval's rmse: 1.03875\n",
      "[800]\ttrn's rmse: 0.968154\tval's rmse: 1.02767\n",
      "[900]\ttrn's rmse: 0.954377\tval's rmse: 1.01848\n",
      "[1000]\ttrn's rmse: 0.942596\tval's rmse: 1.01114\n",
      "[1100]\ttrn's rmse: 0.932323\tval's rmse: 1.0054\n",
      "[1200]\ttrn's rmse: 0.923332\tval's rmse: 1.00082\n",
      "[1300]\ttrn's rmse: 0.915228\tval's rmse: 0.997024\n",
      "[1400]\ttrn's rmse: 0.907638\tval's rmse: 0.993673\n",
      "[1500]\ttrn's rmse: 0.901111\tval's rmse: 0.991493\n",
      "[1600]\ttrn's rmse: 0.894782\tval's rmse: 0.989618\n",
      "[1700]\ttrn's rmse: 0.8889\tval's rmse: 0.988015\n",
      "[1800]\ttrn's rmse: 0.883369\tval's rmse: 0.986722\n",
      "[1900]\ttrn's rmse: 0.878059\tval's rmse: 0.985619\n",
      "[2000]\ttrn's rmse: 0.872953\tval's rmse: 0.985103\n",
      "[2100]\ttrn's rmse: 0.868022\tval's rmse: 0.984362\n",
      "[2200]\ttrn's rmse: 0.863258\tval's rmse: 0.98352\n",
      "[2300]\ttrn's rmse: 0.858718\tval's rmse: 0.983067\n",
      "[2400]\ttrn's rmse: 0.854321\tval's rmse: 0.982431\n",
      "[2500]\ttrn's rmse: 0.850093\tval's rmse: 0.98225\n",
      "[2600]\ttrn's rmse: 0.845945\tval's rmse: 0.982027\n",
      "[2700]\ttrn's rmse: 0.841832\tval's rmse: 0.981977\n",
      "[2800]\ttrn's rmse: 0.837873\tval's rmse: 0.981651\n",
      "[2900]\ttrn's rmse: 0.833918\tval's rmse: 0.981322\n",
      "[3000]\ttrn's rmse: 0.83008\tval's rmse: 0.981059\n",
      "[3100]\ttrn's rmse: 0.826294\tval's rmse: 0.980985\n",
      "[3200]\ttrn's rmse: 0.822708\tval's rmse: 0.980838\n",
      "[3300]\ttrn's rmse: 0.819009\tval's rmse: 0.980791\n",
      "Early stopping, best iteration is:\n",
      "[3236]\ttrn's rmse: 0.821322\tval's rmse: 0.980709\n",
      "Running k-fold 3 of 5\n",
      "Training until validation scores don't improve for 100 rounds.\n",
      "[100]\ttrn's rmse: 1.1911\tval's rmse: 1.17631\n",
      "[200]\ttrn's rmse: 1.13667\tval's rmse: 1.13102\n",
      "[300]\ttrn's rmse: 1.09596\tval's rmse: 1.09827\n",
      "[400]\ttrn's rmse: 1.0593\tval's rmse: 1.069\n",
      "[500]\ttrn's rmse: 1.03318\tval's rmse: 1.04978\n",
      "[600]\ttrn's rmse: 1.00987\tval's rmse: 1.03285\n",
      "[700]\ttrn's rmse: 0.99085\tval's rmse: 1.01994\n",
      "[800]\ttrn's rmse: 0.9743\tval's rmse: 1.00917\n",
      "[900]\ttrn's rmse: 0.959654\tval's rmse: 1.00019\n",
      "[1000]\ttrn's rmse: 0.94789\tval's rmse: 0.994051\n",
      "[1100]\ttrn's rmse: 0.936929\tval's rmse: 0.988387\n",
      "[1200]\ttrn's rmse: 0.928052\tval's rmse: 0.984705\n",
      "[1300]\ttrn's rmse: 0.919219\tval's rmse: 0.981185\n",
      "[1400]\ttrn's rmse: 0.912001\tval's rmse: 0.978834\n",
      "[1500]\ttrn's rmse: 0.904279\tval's rmse: 0.97625\n",
      "[1600]\ttrn's rmse: 0.897637\tval's rmse: 0.974621\n",
      "[1700]\ttrn's rmse: 0.89151\tval's rmse: 0.97349\n",
      "[1800]\ttrn's rmse: 0.885821\tval's rmse: 0.97265\n",
      "[1900]\ttrn's rmse: 0.880198\tval's rmse: 0.971809\n",
      "[2000]\ttrn's rmse: 0.874895\tval's rmse: 0.97126\n",
      "[2100]\ttrn's rmse: 0.86976\tval's rmse: 0.970492\n",
      "[2200]\ttrn's rmse: 0.864862\tval's rmse: 0.970009\n",
      "[2300]\ttrn's rmse: 0.860161\tval's rmse: 0.969739\n",
      "[2400]\ttrn's rmse: 0.855758\tval's rmse: 0.969441\n",
      "[2500]\ttrn's rmse: 0.851443\tval's rmse: 0.969224\n",
      "[2600]\ttrn's rmse: 0.847201\tval's rmse: 0.969043\n",
      "[2700]\ttrn's rmse: 0.842933\tval's rmse: 0.968819\n",
      "[2800]\ttrn's rmse: 0.838935\tval's rmse: 0.968688\n",
      "[2900]\ttrn's rmse: 0.83514\tval's rmse: 0.968687\n",
      "Early stopping, best iteration is:\n",
      "[2846]\ttrn's rmse: 0.837202\tval's rmse: 0.968675\n",
      "Running k-fold 4 of 5\n",
      "Training until validation scores don't improve for 100 rounds.\n",
      "[100]\ttrn's rmse: 1.18269\tval's rmse: 1.19957\n",
      "[200]\ttrn's rmse: 1.12399\tval's rmse: 1.14873\n",
      "[300]\ttrn's rmse: 1.07838\tval's rmse: 1.1106\n",
      "[400]\ttrn's rmse: 1.04418\tval's rmse: 1.08358\n",
      "[500]\ttrn's rmse: 1.01532\tval's rmse: 1.06169\n",
      "[600]\ttrn's rmse: 0.995297\tval's rmse: 1.04793\n",
      "[700]\ttrn's rmse: 0.976792\tval's rmse: 1.03562\n",
      "[800]\ttrn's rmse: 0.96091\tval's rmse: 1.02561\n",
      "[900]\ttrn's rmse: 0.948311\tval's rmse: 1.01881\n",
      "[1000]\ttrn's rmse: 0.936194\tval's rmse: 1.01271\n",
      "[1100]\ttrn's rmse: 0.926075\tval's rmse: 1.00809\n",
      "[1200]\ttrn's rmse: 0.916854\tval's rmse: 1.00435\n",
      "[1300]\ttrn's rmse: 0.908733\tval's rmse: 1.0015\n",
      "[1400]\ttrn's rmse: 0.90116\tval's rmse: 0.99916\n",
      "[1500]\ttrn's rmse: 0.894278\tval's rmse: 0.997373\n",
      "[1600]\ttrn's rmse: 0.888025\tval's rmse: 0.996013\n",
      "[1700]\ttrn's rmse: 0.882131\tval's rmse: 0.995035\n",
      "[1800]\ttrn's rmse: 0.87646\tval's rmse: 0.99396\n",
      "[1900]\ttrn's rmse: 0.870959\tval's rmse: 0.993021\n",
      "[2000]\ttrn's rmse: 0.865869\tval's rmse: 0.992464\n",
      "[2100]\ttrn's rmse: 0.860917\tval's rmse: 0.992041\n",
      "[2200]\ttrn's rmse: 0.856112\tval's rmse: 0.991694\n",
      "[2300]\ttrn's rmse: 0.85162\tval's rmse: 0.991415\n",
      "[2400]\ttrn's rmse: 0.847107\tval's rmse: 0.991203\n",
      "[2500]\ttrn's rmse: 0.842699\tval's rmse: 0.991052\n",
      "[2600]\ttrn's rmse: 0.838477\tval's rmse: 0.990955\n",
      "[2700]\ttrn's rmse: 0.834286\tval's rmse: 0.990803\n",
      "[2800]\ttrn's rmse: 0.830239\tval's rmse: 0.990681\n",
      "[2900]\ttrn's rmse: 0.826222\tval's rmse: 0.990628\n",
      "[3000]\ttrn's rmse: 0.822336\tval's rmse: 0.990755\n",
      "Early stopping, best iteration is:\n",
      "[2936]\ttrn's rmse: 0.824805\tval's rmse: 0.99062\n",
      "Running k-fold 5 of 5\n",
      "Training until validation scores don't improve for 100 rounds.\n",
      "[100]\ttrn's rmse: 1.17686\tval's rmse: 1.19866\n",
      "[200]\ttrn's rmse: 1.12073\tval's rmse: 1.15552\n",
      "[300]\ttrn's rmse: 1.07644\tval's rmse: 1.12194\n",
      "[400]\ttrn's rmse: 1.04175\tval's rmse: 1.09665\n",
      "[500]\ttrn's rmse: 1.01409\tval's rmse: 1.0776\n",
      "[600]\ttrn's rmse: 0.991704\tval's rmse: 1.06287\n",
      "[700]\ttrn's rmse: 0.973741\tval's rmse: 1.05224\n",
      "[800]\ttrn's rmse: 0.957858\tval's rmse: 1.04321\n",
      "[900]\ttrn's rmse: 0.944766\tval's rmse: 1.03639\n",
      "[1000]\ttrn's rmse: 0.933051\tval's rmse: 1.03092\n",
      "[1100]\ttrn's rmse: 0.923056\tval's rmse: 1.02685\n",
      "[1200]\ttrn's rmse: 0.914087\tval's rmse: 1.02353\n",
      "[1300]\ttrn's rmse: 0.905255\tval's rmse: 1.0203\n",
      "[1400]\ttrn's rmse: 0.897845\tval's rmse: 1.01808\n",
      "[1500]\ttrn's rmse: 0.890991\tval's rmse: 1.01648\n",
      "[1600]\ttrn's rmse: 0.88435\tval's rmse: 1.01492\n",
      "[1700]\ttrn's rmse: 0.878037\tval's rmse: 1.01365\n",
      "[1800]\ttrn's rmse: 0.872381\tval's rmse: 1.01247\n",
      "[1900]\ttrn's rmse: 0.866847\tval's rmse: 1.01166\n",
      "[2000]\ttrn's rmse: 0.861589\tval's rmse: 1.01107\n",
      "[2100]\ttrn's rmse: 0.856483\tval's rmse: 1.01052\n",
      "[2200]\ttrn's rmse: 0.851681\tval's rmse: 1.01013\n",
      "[2300]\ttrn's rmse: 0.847171\tval's rmse: 1.00979\n",
      "[2400]\ttrn's rmse: 0.842753\tval's rmse: 1.00956\n",
      "[2500]\ttrn's rmse: 0.838381\tval's rmse: 1.00949\n",
      "[2600]\ttrn's rmse: 0.834098\tval's rmse: 1.00945\n",
      "[2700]\ttrn's rmse: 0.82998\tval's rmse: 1.00922\n",
      "[2800]\ttrn's rmse: 0.825969\tval's rmse: 1.00906\n",
      "[2900]\ttrn's rmse: 0.822094\tval's rmse: 1.00887\n",
      "[3000]\ttrn's rmse: 0.818268\tval's rmse: 1.00885\n",
      "Early stopping, best iteration is:\n",
      "[2991]\ttrn's rmse: 0.818614\tval's rmse: 1.0088\n",
      "Fold evaluation results:\n",
      "cv_cappa_1=0.6145, cv_cappa_2=0.6135, cv_cappa_3=0.5892, cv_cappa_4=0.5866, cv_cappa_5=0.5720\n",
      "Saving the trained models\n"
     ]
    },
    {
     "name": "stdout",
     "output_type": "stream",
     "text": [
      "Saving the optimal rounding bounds\n",
      "Optimal bounds: [-inf, 1.1790340731366729, 1.6717806021301496, 2.1831546093657037, inf]\n",
      "Final features number: 1012\n"
     ]
    }
   ],
   "source": [
    "algo = 'lightgbm'\n",
    "version = '022'\n",
    "\n",
    "if U.on_kaggle():\n",
    "    U.log('Inference on Kaggle.')\n",
    "    features = bundle.features()\n",
    "    bounds = bundle.bounds()\n",
    "    predicted = inference(X_tst, features, bounds=bounds, model=algo, version=version)\n",
    "    U.log('Saving predictions on disk.')\n",
    "    filename = submit(predicted)\n",
    "    submit_df = pd.read_csv(filename)\n",
    "    U.log('First 20 submission rows:')\n",
    "    display(submit_df.head(20))\n",
    "    \n",
    "else:\n",
    "    U.log(f'Training model: {algo}')\n",
    "    cappa = make_cappa_metric(X_trn['accuracy_group'])\n",
    "    trainer = EnsembleTrainer(algo=algo, cv_metrics={'cappa': cappa})\n",
    "    fold = GroupKFold(n_splits=5)\n",
    "    config = get_default_config(algo)\n",
    "    U.set_nested(config, 'model_params.feature_fraction', 0.4)\n",
    "    U.set_nested(config, 'model_params.bagging_fraction', 0.5)\n",
    "    U.set_nested(config, 'model_params.bagging_freq', 1)\n",
    "    U.set_nested(config, 'model_params.learning_rate', 0.003)\n",
    "    result = trainer.train(X_trn, features=features, fold=fold, config=config)\n",
    "    U.log('Saving the trained models')\n",
    "    bundle.save(result.models, f'models_{algo}_{version}')\n",
    "    U.log('Saving the optimal rounding bounds')\n",
    "    bounds = optimize_rounding_bounds(result.oof, X_trn['accuracy_group'].values)\n",
    "    U.log(f'Optimal bounds: {bounds}')\n",
    "    bundle.save(bounds, 'bounds')\n",
    "    U.log(f'Final features number: {len(features)}')\n",
    "    bundle.save(features, 'features')"
   ]
  },
  {
   "cell_type": "code",
   "execution_count": 46,
   "metadata": {},
   "outputs": [
    {
     "name": "stdout",
     "output_type": "stream",
     "text": [
      "Running inference on dataset of shape: 1012\n",
      "Loading external models: lightgbm v022.\n",
      "Running models on test data...\n",
      "Averaging ensemble predictions.\n",
      "Rounding predictions using optimal bounds.\n",
      "Converting predictions into submission file.\n",
      "Running locally.\n",
      "(1000, 2) Packaging training results into dataset.\n",
      "/tmp/bowl2019/meta.joblib --> /home/ck/data/bowl2019/external/meta.joblib\n",
      "/tmp/bowl2019/models_lightgbm_022.joblib --> /home/ck/data/bowl2019/external/models_lightgbm_022.joblib\n",
      "/tmp/bowl2019/bounds.joblib --> /home/ck/data/bowl2019/external/bounds.joblib\n",
      "/tmp/bowl2019/models_lightgbm_021.joblib --> /home/ck/data/bowl2019/external/models_lightgbm_021.joblib\n",
      "/tmp/bowl2019/features.joblib --> /home/ck/data/bowl2019/external/features.joblib\n",
      "/tmp/bowl2019/encoders.joblib --> /home/ck/data/bowl2019/external/encoders.joblib\n",
      "Packaging helper scripts into dataset.\n",
      "../selection.py --> /home/ck/data/bowl2019/external/selection.py\n",
      "../encode.py --> /home/ck/data/bowl2019/external/encode.py\n",
      "../features.py --> /home/ck/data/bowl2019/external/features.py\n",
      "../training.py --> /home/ck/data/bowl2019/external/training.py\n",
      "../feedback.py --> /home/ck/data/bowl2019/external/feedback.py\n",
      "../style.py --> /home/ck/data/bowl2019/external/style.py\n",
      "../duration.py --> /home/ck/data/bowl2019/external/duration.py\n",
      "../basedir.py --> /home/ck/data/bowl2019/external/basedir.py\n",
      "../dataset.py --> /home/ck/data/bowl2019/external/dataset.py\n",
      "../models.py --> /home/ck/data/bowl2019/external/models.py\n",
      "../extract_features.py --> /home/ck/data/bowl2019/external/extract_features.py\n",
      "../plots.py --> /home/ck/data/bowl2019/external/plots.py\n",
      "../normalize.py --> /home/ck/data/bowl2019/external/normalize.py\n",
      "../meta.py --> /home/ck/data/bowl2019/external/meta.py\n",
      "../bundle.py --> /home/ck/data/bowl2019/external/bundle.py\n",
      "../metric.py --> /home/ck/data/bowl2019/external/metric.py\n",
      "../utils.py --> /home/ck/data/bowl2019/external/utils.py\n"
     ]
    }
   ],
   "source": [
    "if not U.on_kaggle():\n",
    "    import os\n",
    "    features = bundle.features()\n",
    "    bounds = bundle.bounds()\n",
    "    filename = submit(inference(X_tst, features, bounds, model=algo, version=version))\n",
    "    assert os.path.exists(filename)\n",
    "    assert pd.read_csv(filename).shape[0] == 1000\n",
    "    bundle.package(folder='/home/ck/data/bowl2019/external/')"
   ]
  },
  {
   "cell_type": "code",
   "execution_count": 47,
   "metadata": {},
   "outputs": [],
   "source": [
    "%matplotlib inline"
   ]
  },
  {
   "cell_type": "code",
   "execution_count": 48,
   "metadata": {},
   "outputs": [
    {
     "data": {
      "text/plain": [
       "<matplotlib.axes._subplots.AxesSubplot at 0x7fa5cad78eb8>"
      ]
     },
     "execution_count": 48,
     "metadata": {},
     "output_type": "execute_result"
    },
    {
     "data": {
      "image/png": "[encoded data removed]",
      "text/plain": [
       "<Figure size 432x288 with 1 Axes>"
      ]
     },
     "metadata": {
      "needs_background": "light"
     },
     "output_type": "display_data"
    }
   ],
   "source": [
    "pd.read_csv('submission.csv')['accuracy_group'].value_counts().reset_index().sort_values(by='index').set_index('index').plot.bar()"
   ]
  },
  {
   "cell_type": "code",
   "execution_count": 49,
   "metadata": {},
   "outputs": [
    {
     "data": {
      "text/plain": [
       "<matplotlib.axes._subplots.AxesSubplot at 0x7fa5be085780>"
      ]
     },
     "execution_count": 49,
     "metadata": {},
     "output_type": "execute_result"
    },
    {
     "data": {
      "image/png": "[encoded data removed]",
      "text/plain": [
       "<Figure size 432x288 with 1 Axes>"
      ]
     },
     "metadata": {
      "needs_background": "light"
     },
     "output_type": "display_data"
    }
   ],
   "source": [
    "X_trn['accuracy_group'].value_counts().reset_index().sort_values(by='index').set_index('index').plot.bar()"
   ]
  },
  {
   "cell_type": "code",
   "execution_count": null,
   "metadata": {},
   "outputs": [],
   "source": []
  }
 ],
 "metadata": {
  "kernelspec": {
   "display_name": "fastai (cuda 10)",
   "language": "python",
   "name": "fastai"
  },
  "language_info": {
   "codemirror_mode": {
    "name": "ipython",
    "version": 3
   },
   "file_extension": ".py",
   "mimetype": "text/x-python",
   "name": "python",
   "nbconvert_exporter": "python",
   "pygments_lexer": "ipython3",
   "version": "3.7.3"
  },
  "toc": {
   "base_numbering": 1,
   "nav_menu": {},
   "number_sections": true,
   "sideBar": true,
   "skip_h1_title": false,
   "title_cell": "Table of Contents",
   "title_sidebar": "Contents",
   "toc_cell": false,
   "toc_position": {},
   "toc_section_display": true,
   "toc_window_display": false
  }
 },
 "nbformat": 4,
 "nbformat_minor": 2
}
