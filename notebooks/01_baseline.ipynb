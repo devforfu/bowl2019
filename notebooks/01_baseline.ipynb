{
 "cells": [
  {
   "cell_type": "code",
   "execution_count": 1,
   "metadata": {},
   "outputs": [],
   "source": [
    "%reload_ext autoreload\n",
    "%autoreload 2"
   ]
  },
  {
   "cell_type": "code",
   "execution_count": 2,
   "metadata": {},
   "outputs": [],
   "source": [
    "import jupytools.syspath\n",
    "jupytools.syspath.add('..')"
   ]
  },
  {
   "cell_type": "code",
   "execution_count": 32,
   "metadata": {},
   "outputs": [],
   "source": [
    "import catboost as cb\n",
    "import feather\n",
    "from IPython.display import FileLink\n",
    "from dataset import load, load_sample, Subset\n",
    "from extract_features import extend_with_event_data, prepare, baseline_features"
   ]
  },
  {
   "cell_type": "code",
   "execution_count": 17,
   "metadata": {},
   "outputs": [
    {
     "name": "stdout",
     "output_type": "stream",
     "text": [
      "(11341042, 11) (17690, 7) (386, 3) "
     ]
    }
   ],
   "source": [
    "trn_data, trn_target, trn_specs = load(Subset.Train)"
   ]
  },
  {
   "cell_type": "code",
   "execution_count": 18,
   "metadata": {},
   "outputs": [
    {
     "name": "stdout",
     "output_type": "stream",
     "text": [
      "(1156414, 11) "
     ]
    }
   ],
   "source": [
    "[tst_data] = load(Subset.Test)"
   ]
  },
  {
   "cell_type": "code",
   "execution_count": 19,
   "metadata": {},
   "outputs": [
    {
     "data": {
      "application/vnd.jupyter.widget-view+json": {
       "model_id": "576f379478194021b2961f8b690c32d6",
       "version_major": 2,
       "version_minor": 0
      },
      "text/plain": [
       "HBox(children=(IntProgress(value=0, max=11341042), HTML(value='')))"
      ]
     },
     "metadata": {},
     "output_type": "display_data"
    },
    {
     "name": "stdout",
     "output_type": "stream",
     "text": [
      "\n"
     ]
    },
    {
     "data": {
      "application/vnd.jupyter.widget-view+json": {
       "model_id": "3a35546ead6441beac012e98ff8712d8",
       "version_major": 2,
       "version_minor": 0
      },
      "text/plain": [
       "HBox(children=(IntProgress(value=0, max=17000), HTML(value='')))"
      ]
     },
     "metadata": {},
     "output_type": "display_data"
    },
    {
     "name": "stdout",
     "output_type": "stream",
     "text": [
      "\n"
     ]
    }
   ],
   "source": [
    "X_trn = extend_with_event_data(trn_data)\n",
    "X_trn = prepare(X_trn, baseline_features, targets=trn_target)\n",
    "X_trn = X_trn.drop_duplicates(subset=['game_session', 'installation_id'], keep='last')\n",
    "X_trn = X_trn.reset_index(drop=True)\n",
    "X_trn.to_feather('X_trn.feather')"
   ]
  },
  {
   "cell_type": "code",
   "execution_count": 20,
   "metadata": {},
   "outputs": [
    {
     "data": {
      "application/vnd.jupyter.widget-view+json": {
       "model_id": "cf6b382052754ac5a174d2ca73a8f443",
       "version_major": 2,
       "version_minor": 0
      },
      "text/plain": [
       "HBox(children=(IntProgress(value=0, max=10000), HTML(value='')))"
      ]
     },
     "metadata": {},
     "output_type": "display_data"
    },
    {
     "name": "stdout",
     "output_type": "stream",
     "text": [
      "\n"
     ]
    },
    {
     "data": {
      "application/vnd.jupyter.widget-view+json": {
       "model_id": "8c62bd14e26942489b99856927b2e2c5",
       "version_major": 2,
       "version_minor": 0
      },
      "text/plain": [
       "HBox(children=(IntProgress(value=0, max=9), HTML(value='')))"
      ]
     },
     "metadata": {},
     "output_type": "display_data"
    },
    {
     "name": "stdout",
     "output_type": "stream",
     "text": [
      "\n"
     ]
    }
   ],
   "source": [
    "X_tst = extend_with_event_data(tst_data.iloc[:10000])\n",
    "X_tst = prepare(X_tst, baseline_features)\n",
    "X_tst = X_tst.drop_duplicates(subset=['game_session', 'installation_id'], keep='last')\n",
    "X_tst = X_tst.reset_index(drop=True)\n",
    "X_tst.to_feather('X_tst.feather')"
   ]
  },
  {
   "cell_type": "code",
   "execution_count": 21,
   "metadata": {},
   "outputs": [],
   "source": [
    "trn_target[['accuracy_group']].to_feather('y.feather')"
   ]
  },
  {
   "cell_type": "code",
   "execution_count": 22,
   "metadata": {},
   "outputs": [],
   "source": [
    "X_trn = feather.read_dataframe('X_trn.feather')\n",
    "X_tst = feather.read_dataframe('X_tst.feather')\n",
    "y = feather.read_dataframe('y.feather').accuracy_group.values"
   ]
  },
  {
   "cell_type": "code",
   "execution_count": 23,
   "metadata": {},
   "outputs": [],
   "source": [
    "assert X_trn.shape[0] == y.shape[0]"
   ]
  },
  {
   "cell_type": "code",
   "execution_count": 25,
   "metadata": {},
   "outputs": [],
   "source": [
    "params = dict(\n",
    "    loss_function='RMSE',\n",
    "    custom_metric=['RMSE', 'MAE'],\n",
    "    eval_metric='RMSE',\n",
    "    iterations=10000,\n",
    "    random_seed=1,\n",
    "    max_depth=6,\n",
    "    early_stopping_rounds=100,\n",
    "    task_type='GPU',\n",
    "    devices='0:1',\n",
    "    verbose=100\n",
    ")"
   ]
  },
  {
   "cell_type": "code",
   "execution_count": 28,
   "metadata": {},
   "outputs": [],
   "source": [
    "X_trn_game_session = X_trn.pop('game_session')\n",
    "X_trn_installation_id = X_trn.pop('installation_id')\n",
    "cat_cols = X_trn.select_dtypes(object).columns.tolist()"
   ]
  },
  {
   "cell_type": "code",
   "execution_count": 29,
   "metadata": {},
   "outputs": [
    {
     "name": "stdout",
     "output_type": "stream",
     "text": [
      "0:\tlearn: 2.2188636\ttest: 2.2188564\tbest: 2.2188564 (0)\n",
      "100:\tlearn: 1.2207201\ttest: 1.2276457\tbest: 1.2276457 (100)\n",
      "200:\tlearn: 1.1979649\ttest: 1.2132414\tbest: 1.2132414 (200)\n",
      "300:\tlearn: 1.1892059\ttest: 1.2096814\tbest: 1.2096814 (300)\n",
      "400:\tlearn: 1.1795952\ttest: 1.2069756\tbest: 1.2069730 (399)\n",
      "500:\tlearn: 1.1711018\ttest: 1.2051687\tbest: 1.2051687 (500)\ttotal: 24.6s\tremaining: 7m 47s\n",
      "600:\tlearn: 1.1642015\ttest: 1.2042917\tbest: 1.2042917 (600)\n",
      "700:\tlearn: 1.1582282\ttest: 1.2037230\tbest: 1.2037230 (700)\n",
      "800:\tlearn: 1.1532424\ttest: 1.2033621\tbest: 1.2033610 (798)\n",
      "900:\tlearn: 1.1481440\ttest: 1.2028954\tbest: 1.2028954 (900)\ttotal: 44.4s\tremaining: 7m 28s\n",
      "1000:\tlearn: 1.1441578\ttest: 1.2026445\tbest: 1.2025958 (967)\n",
      "1100:\tlearn: 1.1400081\ttest: 1.2024775\tbest: 1.2024050 (1087)\n",
      "1200:\tlearn: 1.1361584\ttest: 1.2023568\tbest: 1.2023568 (1200)\n",
      "1300:\tlearn: 1.1330122\ttest: 1.2023920\tbest: 1.2023233 (1228)\n",
      "Stopped by overfitting detector  (100 iterations wait)\n"
     ]
    }
   ],
   "source": [
    "cv_results = cb.cv(params=params, pool=cb.Pool(X_trn, y, cat_features=cat_cols))"
   ]
  },
  {
   "cell_type": "code",
   "execution_count": 30,
   "metadata": {},
   "outputs": [
    {
     "name": "stdout",
     "output_type": "stream",
     "text": [
      "0:\tlearn: 1.2552883\ttotal: 18.2ms\tremaining: 20s\n",
      "100:\tlearn: 1.2067514\ttotal: 1.62s\tremaining: 16s\n",
      "200:\tlearn: 1.1958430\ttotal: 3.22s\tremaining: 14.4s\n",
      "300:\tlearn: 1.1899509\ttotal: 4.81s\tremaining: 12.8s\n",
      "400:\tlearn: 1.1834323\ttotal: 6.38s\tremaining: 11.1s\n",
      "500:\tlearn: 1.1764399\ttotal: 7.93s\tremaining: 9.48s\n",
      "600:\tlearn: 1.1713608\ttotal: 9.52s\tremaining: 7.9s\n",
      "700:\tlearn: 1.1670411\ttotal: 11.1s\tremaining: 6.31s\n",
      "800:\tlearn: 1.1628529\ttotal: 12.6s\tremaining: 4.72s\n",
      "900:\tlearn: 1.1594639\ttotal: 14.2s\tremaining: 3.14s\n",
      "1000:\tlearn: 1.1565485\ttotal: 15.8s\tremaining: 1.56s\n",
      "1099:\tlearn: 1.1535957\ttotal: 17.4s\tremaining: 0us\n"
     ]
    }
   ],
   "source": [
    "train_params = params.copy()\n",
    "train_params['iterations'] = 1100\n",
    "booster = cb.train(params=train_params, pool=cb.Pool(X_trn, y, cat_features=cat_cols))\n",
    "booster.save_model('catboost_baseline.cbm')"
   ]
  },
  {
   "cell_type": "code",
   "execution_count": 33,
   "metadata": {},
   "outputs": [
    {
     "data": {
      "text/html": [
       "<a href='catboost_baseline.cbm' target='_blank'>catboost_baseline.cbm</a><br>"
      ],
      "text/plain": [
       "/home/ck/code/tasks/bowl2019/notebooks/catboost_baseline.cbm"
      ]
     },
     "execution_count": 33,
     "metadata": {},
     "output_type": "execute_result"
    }
   ],
   "source": [
    "FileLink('catboost_baseline.cbm')"
   ]
  },
  {
   "cell_type": "code",
   "execution_count": null,
   "metadata": {},
   "outputs": [],
   "source": [
    "X_tst_game_session = X_tst.pop('game_session')\n",
    "X_tst_installation_id = X_tst.pop('installation_id')\n",
    "preds = booster.predict(X_tst)"
   ]
  },
  {
   "cell_type": "code",
   "execution_count": null,
   "metadata": {},
   "outputs": [],
   "source": [
    "preds_raw = pd.DataFrame(\n",
    "    {'game_session': X_tst_game_session,\n",
    "     'installation_id': X_tst_installation_id,\n",
    "     'prediction': preds})"
   ]
  },
  {
   "cell_type": "code",
   "execution_count": null,
   "metadata": {},
   "outputs": [],
   "source": [
    "submit = (preds_raw\n",
    " .groupby('installation_id', as_index=False)\n",
    " .mean()\n",
    " .assign(accuracy_group=lambda df: df['prediction'].round().astype(int))\n",
    " .drop(columns=['prediction']))"
   ]
  },
  {
   "cell_type": "code",
   "execution_count": null,
   "metadata": {},
   "outputs": [],
   "source": [
    "submit.to_csv('submit_smoketest.csv', index=False)"
   ]
  },
  {
   "cell_type": "code",
   "execution_count": null,
   "metadata": {},
   "outputs": [],
   "source": [
    "FileLink('submit_smoketest.csv')"
   ]
  },
  {
   "cell_type": "code",
   "execution_count": null,
   "metadata": {},
   "outputs": [],
   "source": []
  }
 ],
 "metadata": {
  "kernelspec": {
   "display_name": "fastai (cuda 10)",
   "language": "python",
   "name": "fastai"
  },
  "language_info": {
   "codemirror_mode": {
    "name": "ipython",
    "version": 3
   },
   "file_extension": ".py",
   "mimetype": "text/x-python",
   "name": "python",
   "nbconvert_exporter": "python",
   "pygments_lexer": "ipython3",
   "version": "3.7.3"
  },
  "toc": {
   "base_numbering": 1,
   "nav_menu": {},
   "number_sections": true,
   "sideBar": true,
   "skip_h1_title": false,
   "title_cell": "Table of Contents",
   "title_sidebar": "Contents",
   "toc_cell": false,
   "toc_position": {},
   "toc_section_display": true,
   "toc_window_display": false
  }
 },
 "nbformat": 4,
 "nbformat_minor": 2
}
