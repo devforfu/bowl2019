{
 "cells": [
  {
   "cell_type": "code",
   "execution_count": null,
   "metadata": {},
   "outputs": [],
   "source": [
    "# !cp /kaggle/input/data-bowl-2019-external-data/*.py /kaggle/working"
   ]
  },
  {
   "cell_type": "code",
   "execution_count": 1,
   "metadata": {},
   "outputs": [],
   "source": [
    "%reload_ext autoreload\n",
    "%autoreload 2\n",
    "import warnings\n",
    "import jupytools.syspath\n",
    "def ignore(*args, **kwargs): pass\n",
    "warnings.warn = ignore\n",
    "jupytools.syspath.add('..')"
   ]
  },
  {
   "cell_type": "code",
   "execution_count": 25,
   "metadata": {},
   "outputs": [],
   "source": [
    "from collections import Counter, OrderedDict\n",
    "from functools import partial\n",
    "\n",
    "import numpy as np\n",
    "import pandas as pd\n",
    "from IPython.display import display\n",
    "from sklearn.metrics import cohen_kappa_score\n",
    "from sklearn.model_selection import GroupKFold\n",
    "from tqdm.auto import tqdm\n",
    "\n",
    "import bundle\n",
    "import features as F\n",
    "import selection\n",
    "import utils as U\n",
    "from dataset import load, load_sample, Subset\n",
    "from encode import encode\n",
    "from training import train, inference, submit, EnsembleTrainer, get_default_config\n",
    "from meta import compute_meta_data\n",
    "from metric import optimize_rounding_bounds, make_cappa_metric\n",
    "from normalize import normalize"
   ]
  },
  {
   "cell_type": "code",
   "execution_count": 3,
   "metadata": {},
   "outputs": [
    {
     "name": "stdout",
     "output_type": "stream",
     "text": [
      "Loading train and test.\n",
      "(11341042, 11) (17690, 7) (386, 3) (1156414, 11) "
     ]
    }
   ],
   "source": [
    "sample = False\n",
    "if U.on_kaggle():\n",
    "    U.log('Loading test set only.')\n",
    "    tst_data = pd.read_csv('/kaggle/input/data-science-bowl-2019/test.csv')\n",
    "else:\n",
    "    if sample:\n",
    "        U.log('Warning: loading train and test data sample.')\n",
    "        trn_data, _, _ = load_sample(Subset.Train, 500_000)\n",
    "        [tst_data] = load_sample(Subset.Test, 500_000)\n",
    "    else:\n",
    "        U.log('Loading train and test.')\n",
    "        trn_data, trn_spec, trn_targ = load(Subset.Train)\n",
    "        [tst_data] = load(Subset.Test)"
   ]
  },
  {
   "cell_type": "markdown",
   "metadata": {
    "heading_collapsed": true
   },
   "source": [
    "## Preparing"
   ]
  },
  {
   "cell_type": "code",
   "execution_count": 4,
   "metadata": {
    "hidden": true
   },
   "outputs": [
    {
     "name": "stdout",
     "output_type": "stream",
     "text": [
      "Transforming train and test data.\n",
      "(11341042, 19) (1156414, 19)\n"
     ]
    }
   ],
   "source": [
    "transform = U.combine(\n",
    "    partial(F.add_feature_combinations, pairs=[('title', 'event_code')]),\n",
    "    partial(F.add_datetime, column='timestamp', prefix='ts'),\n",
    ")\n",
    "\n",
    "if U.on_kaggle():\n",
    "    U.log('Transforming test data only.')\n",
    "    X_tst = transform(tst_data.copy())\n",
    "    U.log(X_tst.shape)\n",
    "else:\n",
    "    U.log('Transforming train and test data.')\n",
    "    X_tst = transform(tst_data.copy())\n",
    "    X_trn = transform(trn_data.copy())\n",
    "    U.log(X_trn.shape, X_tst.shape)"
   ]
  },
  {
   "cell_type": "code",
   "execution_count": 5,
   "metadata": {
    "hidden": true
   },
   "outputs": [
    {
     "name": "stdout",
     "output_type": "stream",
     "text": [
      "Computing meta using train and test datasets.\n",
      "Saving computed meta on disk.\n"
     ]
    }
   ],
   "source": [
    "if U.on_kaggle():\n",
    "    U.log('Reading pre-computed meta from disk.')\n",
    "    meta = bundle.meta()\n",
    "else:\n",
    "    U.log('Computing meta using train and test datasets.')\n",
    "    meta = compute_meta_data(X_trn, X_tst)\n",
    "    U.log('Saving computed meta on disk.')\n",
    "    bundle.save_meta(meta, 'meta')"
   ]
  },
  {
   "cell_type": "code",
   "execution_count": 7,
   "metadata": {
    "hidden": true
   },
   "outputs": [
    {
     "name": "stdout",
     "output_type": "stream",
     "text": [
      "Preparing train and test datasets.\n",
      "Running algorithm in train mode.\n"
     ]
    },
    {
     "data": {
      "application/vnd.jupyter.widget-view+json": {
       "model_id": "b4566bed012f4ad8993b0b19f07d3b66",
       "version_major": 2,
       "version_minor": 0
      },
      "text/plain": [
       "HBox(children=(IntProgress(value=0, max=17000), HTML(value='')))"
      ]
     },
     "metadata": {},
     "output_type": "display_data"
    },
    {
     "name": "stdout",
     "output_type": "stream",
     "text": [
      "\n",
      "Running algorithm in test mode.\n"
     ]
    },
    {
     "data": {
      "application/vnd.jupyter.widget-view+json": {
       "model_id": "fd4aba9099204d0da36fe825631c1acb",
       "version_major": 2,
       "version_minor": 0
      },
      "text/plain": [
       "HBox(children=(IntProgress(value=0, max=1000), HTML(value='')))"
      ]
     },
     "metadata": {},
     "output_type": "display_data"
    },
    {
     "name": "stdout",
     "output_type": "stream",
     "text": [
      "\n"
     ]
    }
   ],
   "source": [
    "extractor = F.FeaturesExtractor([\n",
    "    F.CountingFeatures(meta),\n",
    "    F.PerformanceFeatures(meta),\n",
    "    F.VarietyFeatures(meta),\n",
    "    F.EventDataFeatures(meta)\n",
    "])\n",
    "\n",
    "algo = F.InMemoryAlgorithm(extractor, meta, num_workers=12)\n",
    "\n",
    "cat_cols = ['session_title']\n",
    "\n",
    "if U.on_kaggle():\n",
    "    U.log('Preparing test dataset.')\n",
    "    X_tst = algo.run(X_tst, test=True)\n",
    "    encoders = bundle.encoders()\n",
    "    X_tst, _ = encode(X_tst, cat_cols, encoders=encoders)\n",
    "else:\n",
    "    U.log('Preparing train and test datasets.')\n",
    "    X_trn = algo.run(X_trn)\n",
    "    X_tst = algo.run(X_tst, test=True)\n",
    "    X_trn, encoders = encode(X_trn, cat_cols)\n",
    "    X_tst, _ = encode(X_tst, cat_cols, encoders=encoders)\n",
    "    bundle.save(encoders, 'encoders')"
   ]
  },
  {
   "cell_type": "code",
   "execution_count": 8,
   "metadata": {
    "hidden": true
   },
   "outputs": [
    {
     "name": "stdout",
     "output_type": "stream",
     "text": [
      "Running post-processing on train and test sets.\n"
     ]
    }
   ],
   "source": [
    "if U.on_kaggle():\n",
    "    U.log('Running post-processing on test set only.')\n",
    "    F.add_user_wise_features(X_tst, meta)\n",
    "else:\n",
    "    U.log('Running post-processing on train and test sets.')\n",
    "    F.add_user_wise_features(X_trn, meta)\n",
    "    F.add_user_wise_features(X_tst, meta)"
   ]
  },
  {
   "cell_type": "code",
   "execution_count": 12,
   "metadata": {
    "hidden": true
   },
   "outputs": [],
   "source": [
    "X_trn.to_pickle('/tmp/X_trn.pickle')"
   ]
  },
  {
   "cell_type": "code",
   "execution_count": 13,
   "metadata": {
    "hidden": true
   },
   "outputs": [],
   "source": [
    "X_tst.to_pickle('/tmp/X_tst.pickle')"
   ]
  },
  {
   "cell_type": "code",
   "execution_count": null,
   "metadata": {
    "hidden": true
   },
   "outputs": [],
   "source": [
    "group_col = 'session_title'\n",
    "U.log(f'Normalizing dataset using column for grouping: {group_col}')\n",
    "norm_dataset = X_tst if U.on_kaggle() else X_trn\n",
    "cnt_cols = U.starts_with(norm_dataset.columns, 'cnt_')\n",
    "normalize(norm_dataset, cnt_cols, grouping_key=group_col)"
   ]
  },
  {
   "cell_type": "markdown",
   "metadata": {},
   "source": [
    "## Experiments"
   ]
  },
  {
   "cell_type": "code",
   "execution_count": 24,
   "metadata": {},
   "outputs": [],
   "source": [
    "X_trn = pd.read_pickle('/tmp/X_trn.pickle')\n",
    "X_tst = pd.read_pickle('/tmp/X_tst.pickle')\n",
    "cappa = make_cappa_metric(X_trn['accuracy_group'])\n",
    "features = [c for c in X_trn.columns \n",
    "            if c not in ('installation_id', 'game_session', 'accuracy_group')]"
   ]
  },
  {
   "cell_type": "code",
   "execution_count": 27,
   "metadata": {},
   "outputs": [
    {
     "data": {
      "text/html": [
       "<div>\n",
       "<style scoped>\n",
       "    .dataframe tbody tr th:only-of-type {\n",
       "        vertical-align: middle;\n",
       "    }\n",
       "\n",
       "    .dataframe tbody tr th {\n",
       "        vertical-align: top;\n",
       "    }\n",
       "\n",
       "    .dataframe thead th {\n",
       "        text-align: right;\n",
       "    }\n",
       "</style>\n",
       "<table border=\"1\" class=\"dataframe\">\n",
       "  <thead>\n",
       "    <tr style=\"text-align: right;\">\n",
       "      <th></th>\n",
       "      <th>installation_id</th>\n",
       "      <th>game_session</th>\n",
       "      <th>session_title</th>\n",
       "      <th>cnt_Scrub-A-Dub_4010</th>\n",
       "      <th>cnt_Bubble Bath_4020</th>\n",
       "      <th>cnt_Bubble Bath_4045</th>\n",
       "      <th>cnt_Crystals Rule_3121</th>\n",
       "      <th>cnt_Flower Waterer (Activity)_4030</th>\n",
       "      <th>cnt_Pan Balance_3121</th>\n",
       "      <th>cnt_Sandcastle Builder (Activity)_4090</th>\n",
       "      <th>...</th>\n",
       "      <th>event_weight_8</th>\n",
       "      <th>event_weight_9</th>\n",
       "      <th>event_weight_10</th>\n",
       "      <th>event_weight_11</th>\n",
       "      <th>event_weight_12</th>\n",
       "      <th>user_session_cnt</th>\n",
       "      <th>user_duration_mean</th>\n",
       "      <th>user_title_nunique</th>\n",
       "      <th>user_events_sum</th>\n",
       "      <th>user_events_mean</th>\n",
       "    </tr>\n",
       "  </thead>\n",
       "  <tbody>\n",
       "    <tr>\n",
       "      <th>0</th>\n",
       "      <td>0006a69f</td>\n",
       "      <td>901acc108f55a5a1</td>\n",
       "      <td>0</td>\n",
       "      <td>1</td>\n",
       "      <td>0</td>\n",
       "      <td>0</td>\n",
       "      <td>0</td>\n",
       "      <td>50</td>\n",
       "      <td>0</td>\n",
       "      <td>2</td>\n",
       "      <td>...</td>\n",
       "      <td>0</td>\n",
       "      <td>0</td>\n",
       "      <td>0</td>\n",
       "      <td>0</td>\n",
       "      <td>0</td>\n",
       "      <td>5</td>\n",
       "      <td>40.766667</td>\n",
       "      <td>2</td>\n",
       "      <td>647</td>\n",
       "      <td>1553.0</td>\n",
       "    </tr>\n",
       "    <tr>\n",
       "      <th>1</th>\n",
       "      <td>0006a69f</td>\n",
       "      <td>77b8ee947eb84b4e</td>\n",
       "      <td>1</td>\n",
       "      <td>1</td>\n",
       "      <td>0</td>\n",
       "      <td>0</td>\n",
       "      <td>2</td>\n",
       "      <td>50</td>\n",
       "      <td>0</td>\n",
       "      <td>2</td>\n",
       "      <td>...</td>\n",
       "      <td>0</td>\n",
       "      <td>0</td>\n",
       "      <td>0</td>\n",
       "      <td>0</td>\n",
       "      <td>0</td>\n",
       "      <td>5</td>\n",
       "      <td>40.766667</td>\n",
       "      <td>2</td>\n",
       "      <td>1143</td>\n",
       "      <td>1553.0</td>\n",
       "    </tr>\n",
       "    <tr>\n",
       "      <th>2</th>\n",
       "      <td>0006a69f</td>\n",
       "      <td>6bdf9623adc94d89</td>\n",
       "      <td>0</td>\n",
       "      <td>1</td>\n",
       "      <td>0</td>\n",
       "      <td>0</td>\n",
       "      <td>2</td>\n",
       "      <td>50</td>\n",
       "      <td>0</td>\n",
       "      <td>2</td>\n",
       "      <td>...</td>\n",
       "      <td>0</td>\n",
       "      <td>0</td>\n",
       "      <td>0</td>\n",
       "      <td>0</td>\n",
       "      <td>0</td>\n",
       "      <td>5</td>\n",
       "      <td>40.766667</td>\n",
       "      <td>2</td>\n",
       "      <td>1230</td>\n",
       "      <td>1553.0</td>\n",
       "    </tr>\n",
       "    <tr>\n",
       "      <th>3</th>\n",
       "      <td>0006a69f</td>\n",
       "      <td>9501794defd84e4d</td>\n",
       "      <td>0</td>\n",
       "      <td>2</td>\n",
       "      <td>2</td>\n",
       "      <td>2</td>\n",
       "      <td>2</td>\n",
       "      <td>83</td>\n",
       "      <td>0</td>\n",
       "      <td>2</td>\n",
       "      <td>...</td>\n",
       "      <td>0</td>\n",
       "      <td>0</td>\n",
       "      <td>0</td>\n",
       "      <td>0</td>\n",
       "      <td>0</td>\n",
       "      <td>5</td>\n",
       "      <td>40.766667</td>\n",
       "      <td>2</td>\n",
       "      <td>2159</td>\n",
       "      <td>1553.0</td>\n",
       "    </tr>\n",
       "    <tr>\n",
       "      <th>4</th>\n",
       "      <td>0006a69f</td>\n",
       "      <td>a9ef3ecb3d1acc6a</td>\n",
       "      <td>1</td>\n",
       "      <td>2</td>\n",
       "      <td>2</td>\n",
       "      <td>2</td>\n",
       "      <td>9</td>\n",
       "      <td>83</td>\n",
       "      <td>0</td>\n",
       "      <td>2</td>\n",
       "      <td>...</td>\n",
       "      <td>0</td>\n",
       "      <td>0</td>\n",
       "      <td>0</td>\n",
       "      <td>0</td>\n",
       "      <td>0</td>\n",
       "      <td>5</td>\n",
       "      <td>40.766667</td>\n",
       "      <td>2</td>\n",
       "      <td>2586</td>\n",
       "      <td>1553.0</td>\n",
       "    </tr>\n",
       "    <tr>\n",
       "      <th>...</th>\n",
       "      <td>...</td>\n",
       "      <td>...</td>\n",
       "      <td>...</td>\n",
       "      <td>...</td>\n",
       "      <td>...</td>\n",
       "      <td>...</td>\n",
       "      <td>...</td>\n",
       "      <td>...</td>\n",
       "      <td>...</td>\n",
       "      <td>...</td>\n",
       "      <td>...</td>\n",
       "      <td>...</td>\n",
       "      <td>...</td>\n",
       "      <td>...</td>\n",
       "      <td>...</td>\n",
       "      <td>...</td>\n",
       "      <td>...</td>\n",
       "      <td>...</td>\n",
       "      <td>...</td>\n",
       "      <td>...</td>\n",
       "      <td>...</td>\n",
       "    </tr>\n",
       "    <tr>\n",
       "      <th>17685</th>\n",
       "      <td>ffc90c32</td>\n",
       "      <td>460e8bdc2822b340</td>\n",
       "      <td>4</td>\n",
       "      <td>1</td>\n",
       "      <td>2</td>\n",
       "      <td>2</td>\n",
       "      <td>10</td>\n",
       "      <td>18</td>\n",
       "      <td>8</td>\n",
       "      <td>0</td>\n",
       "      <td>...</td>\n",
       "      <td>0</td>\n",
       "      <td>0</td>\n",
       "      <td>0</td>\n",
       "      <td>0</td>\n",
       "      <td>0</td>\n",
       "      <td>6</td>\n",
       "      <td>33.011111</td>\n",
       "      <td>5</td>\n",
       "      <td>1963</td>\n",
       "      <td>1049.5</td>\n",
       "    </tr>\n",
       "    <tr>\n",
       "      <th>17686</th>\n",
       "      <td>ffd2871d</td>\n",
       "      <td>b05a02b52d5c1f4c</td>\n",
       "      <td>2</td>\n",
       "      <td>0</td>\n",
       "      <td>2</td>\n",
       "      <td>2</td>\n",
       "      <td>0</td>\n",
       "      <td>0</td>\n",
       "      <td>0</td>\n",
       "      <td>3</td>\n",
       "      <td>...</td>\n",
       "      <td>0</td>\n",
       "      <td>0</td>\n",
       "      <td>0</td>\n",
       "      <td>0</td>\n",
       "      <td>0</td>\n",
       "      <td>1</td>\n",
       "      <td>0.000000</td>\n",
       "      <td>1</td>\n",
       "      <td>888</td>\n",
       "      <td>888.0</td>\n",
       "    </tr>\n",
       "    <tr>\n",
       "      <th>17687</th>\n",
       "      <td>ffeb0b1b</td>\n",
       "      <td>dadd1a4d8ac68ab0</td>\n",
       "      <td>2</td>\n",
       "      <td>0</td>\n",
       "      <td>0</td>\n",
       "      <td>0</td>\n",
       "      <td>0</td>\n",
       "      <td>0</td>\n",
       "      <td>0</td>\n",
       "      <td>0</td>\n",
       "      <td>...</td>\n",
       "      <td>0</td>\n",
       "      <td>0</td>\n",
       "      <td>0</td>\n",
       "      <td>0</td>\n",
       "      <td>0</td>\n",
       "      <td>3</td>\n",
       "      <td>71.500000</td>\n",
       "      <td>2</td>\n",
       "      <td>932</td>\n",
       "      <td>1274.0</td>\n",
       "    </tr>\n",
       "    <tr>\n",
       "      <th>17688</th>\n",
       "      <td>ffeb0b1b</td>\n",
       "      <td>a6885ab824fbc32c</td>\n",
       "      <td>0</td>\n",
       "      <td>0</td>\n",
       "      <td>0</td>\n",
       "      <td>0</td>\n",
       "      <td>0</td>\n",
       "      <td>0</td>\n",
       "      <td>0</td>\n",
       "      <td>0</td>\n",
       "      <td>...</td>\n",
       "      <td>0</td>\n",
       "      <td>0</td>\n",
       "      <td>0</td>\n",
       "      <td>0</td>\n",
       "      <td>0</td>\n",
       "      <td>3</td>\n",
       "      <td>71.500000</td>\n",
       "      <td>2</td>\n",
       "      <td>1358</td>\n",
       "      <td>1274.0</td>\n",
       "    </tr>\n",
       "    <tr>\n",
       "      <th>17689</th>\n",
       "      <td>ffeb0b1b</td>\n",
       "      <td>5448d652309a6324</td>\n",
       "      <td>2</td>\n",
       "      <td>0</td>\n",
       "      <td>0</td>\n",
       "      <td>0</td>\n",
       "      <td>0</td>\n",
       "      <td>0</td>\n",
       "      <td>0</td>\n",
       "      <td>0</td>\n",
       "      <td>...</td>\n",
       "      <td>0</td>\n",
       "      <td>0</td>\n",
       "      <td>0</td>\n",
       "      <td>0</td>\n",
       "      <td>0</td>\n",
       "      <td>3</td>\n",
       "      <td>71.500000</td>\n",
       "      <td>2</td>\n",
       "      <td>1532</td>\n",
       "      <td>1274.0</td>\n",
       "    </tr>\n",
       "  </tbody>\n",
       "</table>\n",
       "<p>17690 rows × 1000 columns</p>\n",
       "</div>"
      ],
      "text/plain": [
       "      installation_id      game_session  session_title  cnt_Scrub-A-Dub_4010  \\\n",
       "0            0006a69f  901acc108f55a5a1              0                     1   \n",
       "1            0006a69f  77b8ee947eb84b4e              1                     1   \n",
       "2            0006a69f  6bdf9623adc94d89              0                     1   \n",
       "3            0006a69f  9501794defd84e4d              0                     2   \n",
       "4            0006a69f  a9ef3ecb3d1acc6a              1                     2   \n",
       "...               ...               ...            ...                   ...   \n",
       "17685        ffc90c32  460e8bdc2822b340              4                     1   \n",
       "17686        ffd2871d  b05a02b52d5c1f4c              2                     0   \n",
       "17687        ffeb0b1b  dadd1a4d8ac68ab0              2                     0   \n",
       "17688        ffeb0b1b  a6885ab824fbc32c              0                     0   \n",
       "17689        ffeb0b1b  5448d652309a6324              2                     0   \n",
       "\n",
       "       cnt_Bubble Bath_4020  cnt_Bubble Bath_4045  cnt_Crystals Rule_3121  \\\n",
       "0                         0                     0                       0   \n",
       "1                         0                     0                       2   \n",
       "2                         0                     0                       2   \n",
       "3                         2                     2                       2   \n",
       "4                         2                     2                       9   \n",
       "...                     ...                   ...                     ...   \n",
       "17685                     2                     2                      10   \n",
       "17686                     2                     2                       0   \n",
       "17687                     0                     0                       0   \n",
       "17688                     0                     0                       0   \n",
       "17689                     0                     0                       0   \n",
       "\n",
       "       cnt_Flower Waterer (Activity)_4030  cnt_Pan Balance_3121  \\\n",
       "0                                      50                     0   \n",
       "1                                      50                     0   \n",
       "2                                      50                     0   \n",
       "3                                      83                     0   \n",
       "4                                      83                     0   \n",
       "...                                   ...                   ...   \n",
       "17685                                  18                     8   \n",
       "17686                                   0                     0   \n",
       "17687                                   0                     0   \n",
       "17688                                   0                     0   \n",
       "17689                                   0                     0   \n",
       "\n",
       "       cnt_Sandcastle Builder (Activity)_4090  ...  event_weight_8  \\\n",
       "0                                           2  ...               0   \n",
       "1                                           2  ...               0   \n",
       "2                                           2  ...               0   \n",
       "3                                           2  ...               0   \n",
       "4                                           2  ...               0   \n",
       "...                                       ...  ...             ...   \n",
       "17685                                       0  ...               0   \n",
       "17686                                       3  ...               0   \n",
       "17687                                       0  ...               0   \n",
       "17688                                       0  ...               0   \n",
       "17689                                       0  ...               0   \n",
       "\n",
       "       event_weight_9  event_weight_10  event_weight_11  event_weight_12  \\\n",
       "0                   0                0                0                0   \n",
       "1                   0                0                0                0   \n",
       "2                   0                0                0                0   \n",
       "3                   0                0                0                0   \n",
       "4                   0                0                0                0   \n",
       "...               ...              ...              ...              ...   \n",
       "17685               0                0                0                0   \n",
       "17686               0                0                0                0   \n",
       "17687               0                0                0                0   \n",
       "17688               0                0                0                0   \n",
       "17689               0                0                0                0   \n",
       "\n",
       "       user_session_cnt  user_duration_mean  user_title_nunique  \\\n",
       "0                     5           40.766667                   2   \n",
       "1                     5           40.766667                   2   \n",
       "2                     5           40.766667                   2   \n",
       "3                     5           40.766667                   2   \n",
       "4                     5           40.766667                   2   \n",
       "...                 ...                 ...                 ...   \n",
       "17685                 6           33.011111                   5   \n",
       "17686                 1            0.000000                   1   \n",
       "17687                 3           71.500000                   2   \n",
       "17688                 3           71.500000                   2   \n",
       "17689                 3           71.500000                   2   \n",
       "\n",
       "       user_events_sum  user_events_mean  \n",
       "0                  647            1553.0  \n",
       "1                 1143            1553.0  \n",
       "2                 1230            1553.0  \n",
       "3                 2159            1553.0  \n",
       "4                 2586            1553.0  \n",
       "...                ...               ...  \n",
       "17685             1963            1049.5  \n",
       "17686              888             888.0  \n",
       "17687              932            1274.0  \n",
       "17688             1358            1274.0  \n",
       "17689             1532            1274.0  \n",
       "\n",
       "[17690 rows x 1000 columns]"
      ]
     },
     "execution_count": 27,
     "metadata": {},
     "output_type": "execute_result"
    }
   ],
   "source": [
    "X_trn"
   ]
  },
  {
   "cell_type": "code",
   "execution_count": 16,
   "metadata": {},
   "outputs": [
    {
     "name": "stdout",
     "output_type": "stream",
     "text": [
      "Running k-fold 1 of 5\n",
      "Training until validation scores don't improve for 100 rounds.\n",
      "[100]\ttrn's rmse: 1.03411\tval's rmse: 1.0518\n",
      "[200]\ttrn's rmse: 0.963705\tval's rmse: 1.00042\n",
      "[300]\ttrn's rmse: 0.9273\tval's rmse: 0.984439\n",
      "[400]\ttrn's rmse: 0.90143\tval's rmse: 0.97657\n",
      "[500]\ttrn's rmse: 0.880191\tval's rmse: 0.972421\n",
      "[600]\ttrn's rmse: 0.861611\tval's rmse: 0.970126\n",
      "[700]\ttrn's rmse: 0.844955\tval's rmse: 0.969127\n",
      "[800]\ttrn's rmse: 0.829251\tval's rmse: 0.968091\n",
      "[900]\ttrn's rmse: 0.814835\tval's rmse: 0.967568\n",
      "[1000]\ttrn's rmse: 0.801119\tval's rmse: 0.9676\n",
      "Early stopping, best iteration is:\n",
      "[911]\ttrn's rmse: 0.813303\tval's rmse: 0.967408\n",
      "Running k-fold 2 of 5\n",
      "Training until validation scores don't improve for 100 rounds.\n",
      "[100]\ttrn's rmse: 1.03258\tval's rmse: 1.06245\n",
      "[200]\ttrn's rmse: 0.962772\tval's rmse: 1.0114\n",
      "[300]\ttrn's rmse: 0.927185\tval's rmse: 0.993386\n",
      "[400]\ttrn's rmse: 0.902046\tval's rmse: 0.985297\n",
      "[500]\ttrn's rmse: 0.881377\tval's rmse: 0.98158\n",
      "[600]\ttrn's rmse: 0.863598\tval's rmse: 0.979238\n",
      "[700]\ttrn's rmse: 0.847055\tval's rmse: 0.977421\n",
      "[800]\ttrn's rmse: 0.83169\tval's rmse: 0.97607\n",
      "[900]\ttrn's rmse: 0.817242\tval's rmse: 0.975349\n",
      "[1000]\ttrn's rmse: 0.803624\tval's rmse: 0.975094\n",
      "[1100]\ttrn's rmse: 0.790688\tval's rmse: 0.975253\n",
      "Early stopping, best iteration is:\n",
      "[1020]\ttrn's rmse: 0.801035\tval's rmse: 0.975036\n",
      "Running k-fold 3 of 5\n",
      "Training until validation scores don't improve for 100 rounds.\n",
      "[100]\ttrn's rmse: 1.0358\tval's rmse: 1.04322\n",
      "[200]\ttrn's rmse: 0.964085\tval's rmse: 0.996566\n",
      "[300]\ttrn's rmse: 0.927815\tval's rmse: 0.980518\n",
      "[400]\ttrn's rmse: 0.902661\tval's rmse: 0.973681\n",
      "[500]\ttrn's rmse: 0.881903\tval's rmse: 0.970041\n",
      "[600]\ttrn's rmse: 0.863963\tval's rmse: 0.968429\n",
      "[700]\ttrn's rmse: 0.847426\tval's rmse: 0.967331\n",
      "[800]\ttrn's rmse: 0.832167\tval's rmse: 0.967104\n",
      "Early stopping, best iteration is:\n",
      "[770]\ttrn's rmse: 0.836671\tval's rmse: 0.966964\n",
      "Running k-fold 4 of 5\n",
      "Training until validation scores don't improve for 100 rounds.\n",
      "[100]\ttrn's rmse: 1.02884\tval's rmse: 1.06756\n",
      "[200]\ttrn's rmse: 0.956513\tval's rmse: 1.01869\n",
      "[300]\ttrn's rmse: 0.920181\tval's rmse: 1.00301\n",
      "[400]\ttrn's rmse: 0.894449\tval's rmse: 0.9965\n",
      "[500]\ttrn's rmse: 0.873596\tval's rmse: 0.99358\n",
      "[600]\ttrn's rmse: 0.85543\tval's rmse: 0.992351\n",
      "[700]\ttrn's rmse: 0.839075\tval's rmse: 0.991068\n",
      "[800]\ttrn's rmse: 0.823867\tval's rmse: 0.990913\n",
      "Early stopping, best iteration is:\n",
      "[730]\ttrn's rmse: 0.83431\tval's rmse: 0.990714\n",
      "Running k-fold 5 of 5\n",
      "Training until validation scores don't improve for 100 rounds.\n",
      "[100]\ttrn's rmse: 1.02773\tval's rmse: 1.07595\n",
      "[200]\ttrn's rmse: 0.953909\tval's rmse: 1.03094\n",
      "[300]\ttrn's rmse: 0.917448\tval's rmse: 1.01672\n",
      "[400]\ttrn's rmse: 0.891456\tval's rmse: 1.01083\n",
      "[500]\ttrn's rmse: 0.870482\tval's rmse: 1.00808\n",
      "[600]\ttrn's rmse: 0.852202\tval's rmse: 1.00644\n",
      "[700]\ttrn's rmse: 0.835562\tval's rmse: 1.00579\n",
      "[800]\ttrn's rmse: 0.82003\tval's rmse: 1.00557\n",
      "[900]\ttrn's rmse: 0.805649\tval's rmse: 1.00561\n",
      "Early stopping, best iteration is:\n",
      "[832]\ttrn's rmse: 0.815367\tval's rmse: 1.00542\n",
      "Fold evaluation results:\n",
      "cv_cappa_1=0.6152, cv_cappa_2=0.6130, cv_cappa_3=0.5919, cv_cappa_4=0.5905, cv_cappa_5=0.5792\n"
     ]
    }
   ],
   "source": [
    "model_type = 'lightgbm'\n",
    "trainer = EnsembleTrainer(algo=model_type, cv_metrics={'cappa': cappa})\n",
    "fold = GroupKFold(n_splits=5)\n",
    "config = get_default_config(model_type)\n",
    "result = trainer.train(X_trn, features=features, fold=fold, config=config)"
   ]
  },
  {
   "cell_type": "code",
   "execution_count": 17,
   "metadata": {},
   "outputs": [
    {
     "data": {
      "text/plain": [
       "0.5973933709198882"
      ]
     },
     "execution_count": 17,
     "metadata": {},
     "output_type": "execute_result"
    }
   ],
   "source": [
    "cappa(X_trn['accuracy_group'].values, result.oof)"
   ]
  },
  {
   "cell_type": "code",
   "execution_count": null,
   "metadata": {},
   "outputs": [],
   "source": [
    "# features from event_data\n",
    "# https://www.kaggle.com/c/data-science-bowl-2019/discussion/124028\n",
    "\n",
    "# truncated validation\n",
    "# https://www.kaggle.com/ragnar123/truncated-val\n",
    "# https://www.kaggle.com/c/data-science-bowl-2019/discussion/120790\n",
    "\n",
    "# params = {'boosting_type': 'gbdt', \n",
    "#           'metric': 'rmse', \n",
    "#           'objective': 'regression', \n",
    "#           'eval_metric': 'cappa', \n",
    "#           'n_jobs': -1, \n",
    "#           'seed': 42, \n",
    "#           'num_leaves': 26, \n",
    "#           'learning_rate': 0.077439684887749, \n",
    "#           'max_depth': 33, \n",
    "#           'lambda_l1': 3.27791989030057, \n",
    "#           'lambda_l2': 1.3047627805931334, \n",
    "#           'bagging_fraction': 0.896924978584253, \n",
    "#           'bagging_freq': 1, \n",
    "#           'colsample_bytree': 0.8710772167017853}"
   ]
  },
  {
   "cell_type": "code",
   "execution_count": null,
   "metadata": {},
   "outputs": [],
   "source": [
    "columns = X_trn.columns.tolist()\n",
    "cnt_cols = U.starts_with(columns, 'cnt_')\n",
    "perf_cols = U.starts_with(columns, 'perf_')\n",
    "var_cols = U.starts_with(columns, 'var_')\n",
    "user_cols = U.starts_with(columns, 'user_')\n",
    "event_cols = U.starts_with(columns, 'event_')\n",
    "cat_cols = ['session_title']\n",
    "cols = cnt_cols + perf_cols + var_cols + user_cols + event_cols + cat_cols\n",
    "\n",
    "features_groups = [\n",
    "    ('cnt+perf+var', cnt_cols + perf_cols + var_cols),\n",
    "    ('cnt+perf+user', cnt_cols + perf_cols + user_cols),\n",
    "    ('cnt+perf+cat', cnt_cols + perf_cols + cat_cols),\n",
    "    ('cnt+perf+var+user+cat', cnt_cols + perf_cols + var_cols + user_cols + cat_cols),\n",
    "    ('event+cnt+perf', event_cols + cnt_cols + perf_cols),\n",
    "    ('event+cnt+perf+user', event_cols + cnt_cols + perf_cols + user_cols),\n",
    "    ('event+cnt+perf+var', event_cols + cnt_cols + perf_cols + var_cols),\n",
    "    ('event+cnt+pert+cat', event_cols + cnt_cols + perf_cols + cat_cols),\n",
    "    ('event+cnt+perf+user+var+cat', \n",
    "     event_cols + cnt_cols + perf_cols + user_cols + var_cols + cat_cols),\n",
    "    ('all', cols),\n",
    "    ('all-event', [c for c in cols if c not in event_cols])\n",
    "]"
   ]
  },
  {
   "cell_type": "code",
   "execution_count": null,
   "metadata": {},
   "outputs": [],
   "source": [
    "from sklearn.model_selection import GroupKFold\n",
    "from training import EnsembleTrainer, get_default_config\n",
    "\n",
    "model_type = 'lightgbm'\n",
    "trainer = EnsembleTrainer(algo=model_type, cv_metrics={'cappa': cappa})\n",
    "fold = GroupKFold(n_splits=5)\n",
    "config = get_default_config(model_type)\n",
    "U.set_nested(config, 'model_params.feature_fraction', 0.8)\n",
    "U.set_nested(config, 'model_params.bagging_fraction', 0.75)\n",
    "U.set_nested(config, 'model_params.bagging_freq', 1)\n",
    "\n",
    "results = []\n",
    "for col_group, features in features_groups:\n",
    "    U.log(f'Training columns group: {col_group}')\n",
    "    result = trainer.train(X_trn, features=features, fold=fold, config=config)\n",
    "    results.append((col_group, result))"
   ]
  },
  {
   "cell_type": "code",
   "execution_count": null,
   "metadata": {},
   "outputs": [],
   "source": [
    "report = pd.DataFrame([\n",
    "    OrderedDict([('features', name)] + list(result.cv.items())) \n",
    "    for name, result in results])\n",
    "cappa_cols = U.starts_with(report.columns, 'cv_cappa')\n",
    "report['mean'] = report[cappa_cols].mean(axis=1)\n",
    "report['std'] = report[cappa_cols].std(axis=1)\n",
    "report.sort_values(by=['mean'], inplace=True, ascending=False)\n",
    "report.reset_index(drop=True, inplace=True)\n",
    "report.to_csv(f'report_{U.now()}.csv', index=False)"
   ]
  },
  {
   "cell_type": "code",
   "execution_count": null,
   "metadata": {},
   "outputs": [],
   "source": [
    "def highlight_best(col):\n",
    "    if not col.name.startswith('cv_cappa_'):\n",
    "        return [''] * len(col)\n",
    "    is_best = col.index == col.argmax()\n",
    "    return ['background-color: salmon' if idx else '' for idx in is_best]"
   ]
  },
  {
   "cell_type": "code",
   "execution_count": null,
   "metadata": {},
   "outputs": [],
   "source": [
    "report.style.apply(highlight_best)"
   ]
  },
  {
   "cell_type": "code",
   "execution_count": 8,
   "metadata": {},
   "outputs": [
    {
     "ename": "ValueError",
     "evalue": "Cannot take a larger sample than population when 'replace=False'",
     "output_type": "error",
     "traceback": [
      "\u001b[0;31m---------------------------------------------------------------------------\u001b[0m",
      "\u001b[0;31mValueError\u001b[0m                                Traceback (most recent call last)",
      "\u001b[0;32m<ipython-input-8-b44f4f9404aa>\u001b[0m in \u001b[0;36m<module>\u001b[0;34m\u001b[0m\n\u001b[1;32m      1\u001b[0m \u001b[0;32mimport\u001b[0m \u001b[0mjson\u001b[0m\u001b[0;34m\u001b[0m\u001b[0;34m\u001b[0m\u001b[0m\n\u001b[0;32m----> 2\u001b[0;31m \u001b[0msample\u001b[0m \u001b[0;34m=\u001b[0m \u001b[0mtrn_data\u001b[0m\u001b[0;34m.\u001b[0m\u001b[0msample\u001b[0m\u001b[0;34m(\u001b[0m\u001b[0;36m1_000_000\u001b[0m\u001b[0;34m)\u001b[0m\u001b[0;34m\u001b[0m\u001b[0;34m\u001b[0m\u001b[0m\n\u001b[0m\u001b[1;32m      3\u001b[0m \u001b[0mevent_data\u001b[0m \u001b[0;34m=\u001b[0m \u001b[0mpd\u001b[0m\u001b[0;34m.\u001b[0m\u001b[0mio\u001b[0m\u001b[0;34m.\u001b[0m\u001b[0mjson\u001b[0m\u001b[0;34m.\u001b[0m\u001b[0mjson_normalize\u001b[0m\u001b[0;34m(\u001b[0m\u001b[0msample\u001b[0m\u001b[0;34m.\u001b[0m\u001b[0mevent_data\u001b[0m\u001b[0;34m.\u001b[0m\u001b[0mapply\u001b[0m\u001b[0;34m(\u001b[0m\u001b[0mjson\u001b[0m\u001b[0;34m.\u001b[0m\u001b[0mloads\u001b[0m\u001b[0;34m)\u001b[0m\u001b[0;34m)\u001b[0m\u001b[0;34m\u001b[0m\u001b[0;34m\u001b[0m\u001b[0m\n",
      "\u001b[0;32m~/anaconda3/envs/fastai_10/lib/python3.7/site-packages/pandas/core/generic.py\u001b[0m in \u001b[0;36msample\u001b[0;34m(self, n, frac, replace, weights, random_state, axis)\u001b[0m\n\u001b[1;32m   4968\u001b[0m             )\n\u001b[1;32m   4969\u001b[0m \u001b[0;34m\u001b[0m\u001b[0m\n\u001b[0;32m-> 4970\u001b[0;31m         \u001b[0mlocs\u001b[0m \u001b[0;34m=\u001b[0m \u001b[0mrs\u001b[0m\u001b[0;34m.\u001b[0m\u001b[0mchoice\u001b[0m\u001b[0;34m(\u001b[0m\u001b[0maxis_length\u001b[0m\u001b[0;34m,\u001b[0m \u001b[0msize\u001b[0m\u001b[0;34m=\u001b[0m\u001b[0mn\u001b[0m\u001b[0;34m,\u001b[0m \u001b[0mreplace\u001b[0m\u001b[0;34m=\u001b[0m\u001b[0mreplace\u001b[0m\u001b[0;34m,\u001b[0m \u001b[0mp\u001b[0m\u001b[0;34m=\u001b[0m\u001b[0mweights\u001b[0m\u001b[0;34m)\u001b[0m\u001b[0;34m\u001b[0m\u001b[0;34m\u001b[0m\u001b[0m\n\u001b[0m\u001b[1;32m   4971\u001b[0m         \u001b[0;32mreturn\u001b[0m \u001b[0mself\u001b[0m\u001b[0;34m.\u001b[0m\u001b[0mtake\u001b[0m\u001b[0;34m(\u001b[0m\u001b[0mlocs\u001b[0m\u001b[0;34m,\u001b[0m \u001b[0maxis\u001b[0m\u001b[0;34m=\u001b[0m\u001b[0maxis\u001b[0m\u001b[0;34m,\u001b[0m \u001b[0mis_copy\u001b[0m\u001b[0;34m=\u001b[0m\u001b[0;32mFalse\u001b[0m\u001b[0;34m)\u001b[0m\u001b[0;34m\u001b[0m\u001b[0;34m\u001b[0m\u001b[0m\n\u001b[1;32m   4972\u001b[0m \u001b[0;34m\u001b[0m\u001b[0m\n",
      "\u001b[0;32mmtrand.pyx\u001b[0m in \u001b[0;36mmtrand.RandomState.choice\u001b[0;34m()\u001b[0m\n",
      "\u001b[0;31mValueError\u001b[0m: Cannot take a larger sample than population when 'replace=False'"
     ]
    }
   ],
   "source": [
    "import json\n",
    "sample = trn_data.sample(1_000_000)\n",
    "event_data = pd.io.json.json_normalize(sample.event_data.apply(json.loads))"
   ]
  },
  {
   "cell_type": "code",
   "execution_count": null,
   "metadata": {},
   "outputs": [],
   "source": [
    "from dataset import existing_info\n",
    "stat_info = existing_info(event_data).T.reset_index()"
   ]
  },
  {
   "cell_type": "code",
   "execution_count": null,
   "metadata": {},
   "outputs": [],
   "source": [
    "%matplotlib inline\n",
    "import matplotlib.pyplot as plt\n",
    "import seaborn as sns\n",
    "f, ax = plt.subplots(figsize=(8, 12))\n",
    "ax = sns.barplot(x='Percent', y='index', data=stat_info.head(40))\n",
    "ax.set_title('Most Frequent Features')\n",
    "ax.set_ylabel('Features')\n",
    "ax.grid(True, linestyle='dotted')"
   ]
  },
  {
   "cell_type": "code",
   "execution_count": null,
   "metadata": {},
   "outputs": [],
   "source": [
    "freq_keys = stat_info['index'][stat_info['Percent'] >= 5.].tolist()"
   ]
  },
  {
   "cell_type": "code",
   "execution_count": null,
   "metadata": {},
   "outputs": [],
   "source": [
    "freq_keys"
   ]
  },
  {
   "cell_type": "code",
   "execution_count": null,
   "metadata": {},
   "outputs": [],
   "source": [
    "round_df = event_data['round'].fillna(0).value_counts().reset_index()\n",
    "round_df['index'] = round_df['index'].astype(int)\n",
    "round_df.sort_values(by='index', inplace=True)\n",
    "round_df.plot(x='index', y='round')"
   ]
  },
  {
   "cell_type": "code",
   "execution_count": null,
   "metadata": {},
   "outputs": [],
   "source": [
    "np.isnan(event_data['coordinates.x'].iloc[3])"
   ]
  },
  {
   "cell_type": "code",
   "execution_count": null,
   "metadata": {},
   "outputs": [],
   "source": [
    "event_data['coordinates.x'].fillna(0)"
   ]
  },
  {
   "cell_type": "code",
   "execution_count": null,
   "metadata": {},
   "outputs": [],
   "source": [
    "event_data['media_type'].fillna('unknown').value_counts()"
   ]
  },
  {
   "cell_type": "code",
   "execution_count": null,
   "metadata": {},
   "outputs": [],
   "source": [
    "event_data['source'].fillna('N/A').value_counts()"
   ]
  },
  {
   "cell_type": "code",
   "execution_count": null,
   "metadata": {},
   "outputs": [],
   "source": [
    "levels = event_data['level'].fillna(0)\n",
    "pd.cut(levels, [-np.inf, 3, 5, 8, 13, 21, np.inf], labels=[0, 1, 2, 3, 4, 5]).value_counts()"
   ]
  },
  {
   "cell_type": "code",
   "execution_count": 15,
   "metadata": {},
   "outputs": [
    {
     "data": {
      "text/plain": [
       "0.0    950451\n",
       "3.0     15747\n",
       "1.0     11840\n",
       "2.0     11134\n",
       "4.0      6200\n",
       "5.0      3457\n",
       "6.0      1171\n",
       "Name: size, dtype: int64"
      ]
     },
     "execution_count": 15,
     "metadata": {},
     "output_type": "execute_result"
    }
   ],
   "source": [
    "event_data['size'].fillna(0).value_counts()"
   ]
  },
  {
   "cell_type": "code",
   "execution_count": 16,
   "metadata": {},
   "outputs": [
    {
     "data": {
      "text/plain": [
       "0.0     942524\n",
       "3.0      23416\n",
       "1.0      21119\n",
       "6.0       3747\n",
       "2.0       3524\n",
       "4.0       3268\n",
       "8.0        838\n",
       "7.0        446\n",
       "5.0        388\n",
       "10.0       323\n",
       "9.0        267\n",
       "11.0        75\n",
       "12.0        65\n",
       "Name: weight, dtype: int64"
      ]
     },
     "execution_count": 16,
     "metadata": {},
     "output_type": "execute_result"
    }
   ],
   "source": [
    "event_data['weight'].fillna(0).value_counts()"
   ]
  },
  {
   "cell_type": "code",
   "execution_count": null,
   "metadata": {},
   "outputs": [],
   "source": [
    "# round: float with NaNs\n",
    "# coordinates.(x|y): float with NaNs, but presumably integer\n",
    "# coordinates.stage_(width|height): float with NaNs, but presumably categorical\n",
    "#\n",
    "# description: text messages, try to convert into categoricals?\n",
    "#     (event_data['description'].fillna('n/a').value_counts()\n",
    "#      .rename('count').reset_index().rename(columns={'index': 'text'}))\n",
    "#\n",
    "# identifier: some string, probably concatenated with commas; most simple is to compute len\n",
    "# event_data['identifier'].fillna('n/a').str.split(',').apply(len)\n",
    "#\n",
    "# media_type: categorical string\n",
    "# event_data['media_type'].fillna('n/a').value_counts()\n",
    "#\n",
    "# duration: should already exist in the features set\n",
    "# total_duration: probably also present in the features\n",
    "#\n",
    "# source: also some kind of categorical string\n",
    "# event_data['source'].fillna('n/a').value_counts()\n",
    "#\n",
    "# level: integer feature, can be used as a cumulative metric (?)\n",
    "# event_data['level'].fillna('n/a').value_counts()\n",
    "#\n",
    "# correct: defines if attempt was done, is already used in feature processing\n",
    "# \n",
    "# size: integer feature\n",
    "# event_data['size'].fillna('n/a').value_counts()\n",
    "#\n",
    "# weight: one more integer feature\n",
    "# event_data['weight'].fillna('n/a').value_counts()"
   ]
  },
  {
   "cell_type": "markdown",
   "metadata": {},
   "source": [
    "## Features Selection"
   ]
  },
  {
   "cell_type": "code",
   "execution_count": 18,
   "metadata": {},
   "outputs": [
    {
     "name": "stdout",
     "output_type": "stream",
     "text": [
      "Deriving relevant features from train dataset.\n",
      "Excluding from consideration: ['accuracy_group', 'installation_id', 'game_session']\n",
      "Applying feature selection rule: nonzero\n",
      "Selected features: 979 of 1000\n",
      "Keeping only features, selected by every rule.\n",
      "Final number of features changed from 1000 to 979\n"
     ]
    }
   ],
   "source": [
    "selector = selection.FeatureSelection(\n",
    "    rules=[\n",
    "        ('nonzero', selection.non_zero_rows_and_cols),\n",
    "    ],\n",
    "    ignore_cols=[\n",
    "        'accuracy_group', \n",
    "        'installation_id', \n",
    "        'game_session'\n",
    "    ]\n",
    ")\n",
    "\n",
    "if U.on_kaggle():\n",
    "    U.log('Loading relevant features list from disk.')\n",
    "    features = bundle.features()\n",
    "else:\n",
    "    U.log('Deriving relevant features from train dataset.')\n",
    "    features = selector.select(X_trn)\n",
    "    bundle.save(features, 'features')"
   ]
  },
  {
   "cell_type": "code",
   "execution_count": 19,
   "metadata": {},
   "outputs": [
    {
     "name": "stdout",
     "output_type": "stream",
     "text": [
      "Total number of features: 979\n"
     ]
    }
   ],
   "source": [
    "if U.on_kaggle():\n",
    "    U.log('Loading relevant features list from disk.')\n",
    "    features = bundle.features()\n",
    "else:\n",
    "    columns = features\n",
    "    cnt_cols = U.starts_with(columns, 'cnt_')\n",
    "    perf_cols = U.starts_with(columns, 'perf_')\n",
    "    var_cols = U.starts_with(columns, 'var_')\n",
    "    user_cols = U.starts_with(columns, 'user_')\n",
    "    ts_cols = U.starts_with(columns, 'ts_')\n",
    "    event_cols = U.starts_with(columns, 'event_')\n",
    "    cat_cols = ['session_title']\n",
    "    features = cnt_cols + perf_cols + user_cols + var_cols + event_cols + cat_cols\n",
    "    bundle.save(features, 'features')\n",
    "U.log(f'Total number of features: {len(features)}')"
   ]
  },
  {
   "cell_type": "markdown",
   "metadata": {},
   "source": [
    "## Submission"
   ]
  },
  {
   "cell_type": "code",
   "execution_count": 20,
   "metadata": {},
   "outputs": [
    {
     "name": "stdout",
     "output_type": "stream",
     "text": [
      "Training model: lightgbm\n",
      "Running k-fold 1 of 5\n",
      "Training until validation scores don't improve for 100 rounds.\n",
      "[100]\ttrn's rmse: 1.0398\tval's rmse: 1.0605\n",
      "[200]\ttrn's rmse: 0.965855\tval's rmse: 1.00443\n",
      "[300]\ttrn's rmse: 0.927935\tval's rmse: 0.986512\n",
      "[400]\ttrn's rmse: 0.901667\tval's rmse: 0.978045\n",
      "[500]\ttrn's rmse: 0.880518\tval's rmse: 0.973423\n",
      "[600]\ttrn's rmse: 0.862394\tval's rmse: 0.970418\n",
      "[700]\ttrn's rmse: 0.845752\tval's rmse: 0.969073\n",
      "[800]\ttrn's rmse: 0.830479\tval's rmse: 0.968149\n",
      "[900]\ttrn's rmse: 0.816013\tval's rmse: 0.967966\n",
      "[1000]\ttrn's rmse: 0.802506\tval's rmse: 0.967866\n",
      "Early stopping, best iteration is:\n",
      "[947]\ttrn's rmse: 0.809451\tval's rmse: 0.967623\n",
      "Running k-fold 2 of 5\n",
      "Training until validation scores don't improve for 100 rounds.\n",
      "[100]\ttrn's rmse: 1.03836\tval's rmse: 1.06915\n",
      "[200]\ttrn's rmse: 0.964114\tval's rmse: 1.01315\n",
      "[300]\ttrn's rmse: 0.927431\tval's rmse: 0.994165\n",
      "[400]\ttrn's rmse: 0.901946\tval's rmse: 0.985458\n",
      "[500]\ttrn's rmse: 0.881392\tval's rmse: 0.980967\n",
      "[600]\ttrn's rmse: 0.863542\tval's rmse: 0.978428\n",
      "[700]\ttrn's rmse: 0.84711\tval's rmse: 0.977394\n",
      "[800]\ttrn's rmse: 0.831666\tval's rmse: 0.977057\n",
      "[900]\ttrn's rmse: 0.817527\tval's rmse: 0.977189\n",
      "Early stopping, best iteration is:\n",
      "[837]\ttrn's rmse: 0.826286\tval's rmse: 0.976845\n",
      "Running k-fold 3 of 5\n",
      "Training until validation scores don't improve for 100 rounds.\n",
      "[100]\ttrn's rmse: 1.04196\tval's rmse: 1.04816\n",
      "[200]\ttrn's rmse: 0.96653\tval's rmse: 0.9972\n",
      "[300]\ttrn's rmse: 0.928466\tval's rmse: 0.980126\n",
      "[400]\ttrn's rmse: 0.902833\tval's rmse: 0.97365\n",
      "[500]\ttrn's rmse: 0.882067\tval's rmse: 0.970011\n",
      "[600]\ttrn's rmse: 0.863976\tval's rmse: 0.96833\n",
      "[700]\ttrn's rmse: 0.847433\tval's rmse: 0.967226\n",
      "[800]\ttrn's rmse: 0.832326\tval's rmse: 0.966997\n",
      "Early stopping, best iteration is:\n",
      "[770]\ttrn's rmse: 0.836765\tval's rmse: 0.966759\n",
      "Running k-fold 4 of 5\n",
      "Training until validation scores don't improve for 100 rounds.\n",
      "[100]\ttrn's rmse: 1.03238\tval's rmse: 1.0702\n",
      "[200]\ttrn's rmse: 0.958354\tval's rmse: 1.01958\n",
      "[300]\ttrn's rmse: 0.920612\tval's rmse: 1.00209\n",
      "[400]\ttrn's rmse: 0.894875\tval's rmse: 0.995267\n",
      "[500]\ttrn's rmse: 0.874048\tval's rmse: 0.992206\n",
      "[600]\ttrn's rmse: 0.856163\tval's rmse: 0.990835\n",
      "[700]\ttrn's rmse: 0.839792\tval's rmse: 0.989784\n",
      "[800]\ttrn's rmse: 0.824619\tval's rmse: 0.989362\n",
      "[900]\ttrn's rmse: 0.810343\tval's rmse: 0.989266\n",
      "[1000]\ttrn's rmse: 0.796821\tval's rmse: 0.989111\n",
      "Early stopping, best iteration is:\n",
      "[994]\ttrn's rmse: 0.797613\tval's rmse: 0.989024\n",
      "Running k-fold 5 of 5\n",
      "Training until validation scores don't improve for 100 rounds.\n",
      "[100]\ttrn's rmse: 1.02954\tval's rmse: 1.07735\n",
      "[200]\ttrn's rmse: 0.956199\tval's rmse: 1.03164\n",
      "[300]\ttrn's rmse: 0.917802\tval's rmse: 1.01559\n",
      "[400]\ttrn's rmse: 0.892041\tval's rmse: 1.00972\n",
      "[500]\ttrn's rmse: 0.871245\tval's rmse: 1.00705\n",
      "[600]\ttrn's rmse: 0.85287\tval's rmse: 1.00556\n",
      "[700]\ttrn's rmse: 0.836469\tval's rmse: 1.00487\n",
      "[800]\ttrn's rmse: 0.820975\tval's rmse: 1.00444\n",
      "Early stopping, best iteration is:\n",
      "[759]\ttrn's rmse: 0.827151\tval's rmse: 1.00428\n",
      "Fold evaluation results:\n",
      "cv_cappa_1=0.6140, cv_cappa_2=0.6089, cv_cappa_3=0.5912, cv_cappa_4=0.5869, cv_cappa_5=0.5781\n",
      "Saving the trained models\n",
      "Saving the optimal rounding bounds\n",
      "Optimal bounds: [-inf, 1.1462944957829464, 1.6289634473157903, 2.20052254215521, inf]\n"
     ]
    }
   ],
   "source": [
    "algo = 'lightgbm'\n",
    "version = '019'\n",
    "\n",
    "if U.on_kaggle():\n",
    "    U.log('Inference on Kaggle.')\n",
    "    features = bundle.features()\n",
    "    bounds = bundle.bounds()\n",
    "    predicted = inference(X_tst, features, bounds=bounds, model=algo, version=version)\n",
    "    U.log('Saving predictions on disk.')\n",
    "    filename = submit(predicted)\n",
    "    submit_df = pd.read_csv(filename)\n",
    "    U.log('First 20 submission rows:')\n",
    "    display(submit_df.head(20))\n",
    "    \n",
    "else:\n",
    "    U.log(f'Training model: {algo}')\n",
    "    cappa = make_cappa_metric(X_trn['accuracy_group'])\n",
    "    trainer = EnsembleTrainer(algo=algo, cv_metrics={'cappa': cappa})\n",
    "    fold = GroupKFold(n_splits=5)\n",
    "    config = get_default_config(algo)\n",
    "    U.set_nested(config, 'model_params.feature_fraction', 0.8)\n",
    "    U.set_nested(config, 'model_params.bagging_fraction', 0.75)\n",
    "    U.set_nested(config, 'model_params.bagging_freq', 1)\n",
    "    result = trainer.train(X_trn, features=features, fold=fold, config=config)\n",
    "    U.log('Saving the trained models')\n",
    "    bundle.save(result.models, f'models_{algo}_{version}')\n",
    "    U.log('Saving the optimal rounding bounds')\n",
    "    bounds = optimize_rounding_bounds(result.oof, X_trn['accuracy_group'].values)\n",
    "    U.log(f'Optimal bounds: {bounds}')\n",
    "    bundle.save(bounds, 'bounds')"
   ]
  },
  {
   "cell_type": "code",
   "execution_count": 28,
   "metadata": {},
   "outputs": [
    {
     "name": "stdout",
     "output_type": "stream",
     "text": [
      "Running inference on dataset of shape: 979\n",
      "Loading external models: lightgbm v019.\n",
      "Running models on test data...\n",
      "Averaging ensemble predictions.\n",
      "Rounding predictions using optimal bounds.\n",
      "Converting predictions into submission file.\n",
      "Running locally.\n",
      "(1000, 2) Packaging training results into dataset.\n",
      "/tmp/bowl2019/meta.joblib --> /home/ck/data/bowl2019/external/meta.joblib\n",
      "/tmp/bowl2019/models_lightgbm_019.joblib --> /home/ck/data/bowl2019/external/models_lightgbm_019.joblib\n",
      "/tmp/bowl2019/models_lightgbm_017.joblib --> /home/ck/data/bowl2019/external/models_lightgbm_017.joblib\n",
      "/tmp/bowl2019/models_lightgbm_018.joblib --> /home/ck/data/bowl2019/external/models_lightgbm_018.joblib\n",
      "/tmp/bowl2019/models_lightgbm_016.joblib --> /home/ck/data/bowl2019/external/models_lightgbm_016.joblib\n",
      "/tmp/bowl2019/bounds.joblib --> /home/ck/data/bowl2019/external/bounds.joblib\n",
      "/tmp/bowl2019/features.joblib --> /home/ck/data/bowl2019/external/features.joblib\n",
      "/tmp/bowl2019/encoders.joblib --> /home/ck/data/bowl2019/external/encoders.joblib\n",
      "Packaging helper scripts into dataset.\n",
      "../selection.py --> /home/ck/data/bowl2019/external/selection.py\n",
      "../encode.py --> /home/ck/data/bowl2019/external/encode.py\n",
      "../features.py --> /home/ck/data/bowl2019/external/features.py\n",
      "../training.py --> /home/ck/data/bowl2019/external/training.py\n",
      "../style.py --> /home/ck/data/bowl2019/external/style.py\n",
      "../basedir.py --> /home/ck/data/bowl2019/external/basedir.py\n",
      "../dataset.py --> /home/ck/data/bowl2019/external/dataset.py\n",
      "../models.py --> /home/ck/data/bowl2019/external/models.py\n",
      "../extract_features.py --> /home/ck/data/bowl2019/external/extract_features.py\n",
      "../plots.py --> /home/ck/data/bowl2019/external/plots.py\n",
      "../normalize.py --> /home/ck/data/bowl2019/external/normalize.py\n",
      "../meta.py --> /home/ck/data/bowl2019/external/meta.py\n",
      "../bundle.py --> /home/ck/data/bowl2019/external/bundle.py\n",
      "../metric.py --> /home/ck/data/bowl2019/external/metric.py\n",
      "../utils.py --> /home/ck/data/bowl2019/external/utils.py\n"
     ]
    }
   ],
   "source": [
    "if not U.on_kaggle():\n",
    "    import os\n",
    "    features = bundle.features()\n",
    "    bounds = bundle.bounds()\n",
    "    filename = submit(inference(X_tst, features, bounds, model=algo, version=version))\n",
    "    assert os.path.exists(filename)\n",
    "    assert pd.read_csv(filename).shape[0] == 1000\n",
    "    bundle.package(folder='/home/ck/data/bowl2019/external/')"
   ]
  },
  {
   "cell_type": "code",
   "execution_count": 29,
   "metadata": {},
   "outputs": [
    {
     "data": {
      "text/plain": [
       "3    348\n",
       "2    334\n",
       "0    180\n",
       "1    138\n",
       "Name: accuracy_group, dtype: int64"
      ]
     },
     "execution_count": 29,
     "metadata": {},
     "output_type": "execute_result"
    }
   ],
   "source": [
    "pd.read_csv('submission.csv')['accuracy_group'].value_counts()"
   ]
  },
  {
   "cell_type": "code",
   "execution_count": null,
   "metadata": {},
   "outputs": [],
   "source": []
  }
 ],
 "metadata": {
  "kernelspec": {
   "display_name": "fastai (cuda 10)",
   "language": "python",
   "name": "fastai"
  },
  "language_info": {
   "codemirror_mode": {
    "name": "ipython",
    "version": 3
   },
   "file_extension": ".py",
   "mimetype": "text/x-python",
   "name": "python",
   "nbconvert_exporter": "python",
   "pygments_lexer": "ipython3",
   "version": "3.7.3"
  },
  "toc": {
   "base_numbering": 1,
   "nav_menu": {},
   "number_sections": true,
   "sideBar": true,
   "skip_h1_title": false,
   "title_cell": "Table of Contents",
   "title_sidebar": "Contents",
   "toc_cell": false,
   "toc_position": {},
   "toc_section_display": true,
   "toc_window_display": false
  }
 },
 "nbformat": 4,
 "nbformat_minor": 2
}
