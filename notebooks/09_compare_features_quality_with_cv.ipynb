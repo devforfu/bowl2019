{
 "cells": [
  {
   "cell_type": "code",
   "execution_count": null,
   "metadata": {},
   "outputs": [],
   "source": [
    "# !cp /kaggle/input/data-bowl-2019-external-data/*.py /kaggle/working"
   ]
  },
  {
   "cell_type": "code",
   "execution_count": 1,
   "metadata": {},
   "outputs": [],
   "source": [
    "%reload_ext autoreload\n",
    "%autoreload 2\n",
    "import warnings\n",
    "import jupytools.syspath\n",
    "def ignore(*args, **kwargs): pass\n",
    "warnings.warn = ignore\n",
    "jupytools.syspath.add('..')"
   ]
  },
  {
   "cell_type": "code",
   "execution_count": 2,
   "metadata": {},
   "outputs": [],
   "source": [
    "from functools import partial\n",
    "\n",
    "import numpy as np\n",
    "import pandas as pd\n",
    "from IPython.display import display\n",
    "\n",
    "import bundle\n",
    "import features as F\n",
    "import selection\n",
    "import utils as U\n",
    "from dataset import load, load_sample, Subset\n",
    "from encode import encode\n",
    "from training import train, inference, submit\n",
    "from meta import compute_meta_data\n",
    "from metric import optimize_rounding_bounds, RegressionCappa"
   ]
  },
  {
   "cell_type": "code",
   "execution_count": 3,
   "metadata": {},
   "outputs": [
    {
     "name": "stdout",
     "output_type": "stream",
     "text": [
      "Loading train and test.\n",
      "(11341042, 11) (17690, 7) (386, 3) (1156414, 11) "
     ]
    }
   ],
   "source": [
    "sample = False\n",
    "if U.on_kaggle():\n",
    "    U.log('Loading test set only.')\n",
    "    tst_data = pd.read_csv('/kaggle/input/data-science-bowl-2019/test.csv')\n",
    "else:\n",
    "    if sample:\n",
    "        U.log('Warning: loading train and test data sample.')\n",
    "        trn_data, _, _ = load_sample(Subset.Train, 500_000)\n",
    "        [tst_data] = load_sample(Subset.Test, 500_000)\n",
    "    else:\n",
    "        U.log('Loading train and test.')\n",
    "        trn_data, trn_spec, trn_targ = load(Subset.Train)\n",
    "        [tst_data] = load(Subset.Test)"
   ]
  },
  {
   "cell_type": "markdown",
   "metadata": {},
   "source": [
    "## Preparing"
   ]
  },
  {
   "cell_type": "code",
   "execution_count": 4,
   "metadata": {},
   "outputs": [
    {
     "name": "stdout",
     "output_type": "stream",
     "text": [
      "Transforming train and test data.\n",
      "(11341042, 31) (1156414, 31)\n"
     ]
    }
   ],
   "source": [
    "transform = U.combine(\n",
    "    partial(F.add_feature_combinations, pairs=[('title', 'event_code')]),\n",
    "    partial(F.add_datetime, column='timestamp', prefix='ts'),\n",
    "    partial(F.add_cyclical, prefix='ts')\n",
    ")\n",
    "\n",
    "if U.on_kaggle():\n",
    "    U.log('Transforming test data only.')\n",
    "    X_tst = transform(tst_data.copy())\n",
    "    U.log(X_tst.shape)\n",
    "else:\n",
    "    U.log('Transforming train and test data.')\n",
    "    X_tst = transform(tst_data.copy())\n",
    "    X_trn = transform(trn_data.copy())\n",
    "    U.log(X_trn.shape, X_tst.shape)"
   ]
  },
  {
   "cell_type": "code",
   "execution_count": 5,
   "metadata": {},
   "outputs": [
    {
     "name": "stdout",
     "output_type": "stream",
     "text": [
      "Computing meta using train and test datasets.\n",
      "Saving computed meta on disk.\n"
     ]
    }
   ],
   "source": [
    "if U.on_kaggle():\n",
    "    U.log('Reading pre-computed meta from disk.')\n",
    "    meta = bundle.meta()\n",
    "else:\n",
    "    U.log('Computing meta using train and test datasets.')\n",
    "    meta = compute_meta_data(X_trn, X_tst)\n",
    "    U.log('Saving computed meta on disk.')\n",
    "    bundle.save_meta(meta, 'meta')"
   ]
  },
  {
   "cell_type": "code",
   "execution_count": 6,
   "metadata": {},
   "outputs": [
    {
     "name": "stdout",
     "output_type": "stream",
     "text": [
      "Preparing train and test datasets.\n",
      "Running algorithm in train mode.\n"
     ]
    },
    {
     "data": {
      "application/vnd.jupyter.widget-view+json": {
       "model_id": "accfe00c1f584b6fa492bc468e3c0f7d",
       "version_major": 2,
       "version_minor": 0
      },
      "text/plain": [
       "HBox(children=(IntProgress(value=0, max=17000), HTML(value='')))"
      ]
     },
     "metadata": {},
     "output_type": "display_data"
    },
    {
     "name": "stdout",
     "output_type": "stream",
     "text": [
      "\n",
      "Running algorithm in test mode.\n"
     ]
    },
    {
     "data": {
      "application/vnd.jupyter.widget-view+json": {
       "model_id": "9a7850f1df30489893c97583d68b1315",
       "version_major": 2,
       "version_minor": 0
      },
      "text/plain": [
       "HBox(children=(IntProgress(value=0, max=1000), HTML(value='')))"
      ]
     },
     "metadata": {},
     "output_type": "display_data"
    },
    {
     "name": "stdout",
     "output_type": "stream",
     "text": [
      "\n"
     ]
    }
   ],
   "source": [
    "extractor = F.FeaturesExtractor([\n",
    "    F.CountingFeatures(meta),\n",
    "    F.PerformanceFeatures(meta),\n",
    "    # F.CyclicFeatures(meta),\n",
    "    # F.TimestampFeatures(meta),\n",
    "    F.VarietyFeatures(meta),\n",
    "    F.EventDataFeatures(meta)\n",
    "])\n",
    "\n",
    "algo = F.InMemoryAlgorithm(extractor, meta, num_workers=12)\n",
    "\n",
    "cat_cols = ['session_title']\n",
    "\n",
    "if U.on_kaggle():\n",
    "    U.log('Preparing test dataset.')\n",
    "    X_tst = algo.run(X_tst, test=True)\n",
    "    encoders = bundle.encoders()\n",
    "    X_tst, _ = encode(X_tst, cat_cols, encoders=encoders)\n",
    "else:\n",
    "    U.log('Preparing train and test datasets.')\n",
    "    X_trn = algo.run(X_trn)\n",
    "    X_tst = algo.run(X_tst, test=True)\n",
    "    X_trn, encoders = encode(X_trn, cat_cols)\n",
    "    X_tst, _ = encode(X_tst, cat_cols, encoders=encoders)\n",
    "    bundle.save(encoders, 'encoders')"
   ]
  },
  {
   "cell_type": "code",
   "execution_count": 9,
   "metadata": {},
   "outputs": [
    {
     "name": "stdout",
     "output_type": "stream",
     "text": [
      "Running post-processing on train and test sets.\n"
     ]
    }
   ],
   "source": [
    "if U.on_kaggle():\n",
    "    U.log('Running post-processing on test set only.')\n",
    "    F.add_user_wise_features(X_tst, meta)\n",
    "else:\n",
    "    U.log('Running post-processing on train and test sets.')\n",
    "    F.add_user_wise_features(X_trn, meta)\n",
    "    F.add_user_wise_features(X_tst, meta)"
   ]
  },
  {
   "cell_type": "markdown",
   "metadata": {
    "heading_collapsed": true
   },
   "source": [
    "## Experiments"
   ]
  },
  {
   "cell_type": "code",
   "execution_count": 8,
   "metadata": {
    "hidden": true
   },
   "outputs": [],
   "source": [
    "def match_cols(cols, regex):\n",
    "    import re\n",
    "    return [col for col in cols if re.match(regex, col)]\n",
    "def starts_with(cols, prefix): \n",
    "    return match_cols(cols, f'^{prefix}')"
   ]
  },
  {
   "cell_type": "code",
   "execution_count": 16,
   "metadata": {
    "hidden": true
   },
   "outputs": [],
   "source": [
    "from collections import OrderedDict\n",
    "\n",
    "columns = X_trn.columns.tolist()\n",
    "cnt_cols = starts_with(columns, 'cnt_')\n",
    "perf_cols = starts_with(columns, 'perf_')\n",
    "var_cols = starts_with(columns, 'var_')\n",
    "user_cols = starts_with(columns, 'user_')\n",
    "ts_cols = starts_with(columns, 'ts_')\n",
    "event_cols = starts_with(columns, 'event_')\n",
    "cols = cnt_cols + perf_cols + var_cols + ts_cols\n",
    "\n",
    "features_groups = [\n",
    "#     ('all', cols),\n",
    "#     ('cnt', cnt_cols),\n",
    "#     ('perf', perf_cols),\n",
    "#     ('var', var_cols),\n",
    "#     ('user', user_cols),\n",
    "#     ('ts', ts_cols),\n",
    "#     ('cnt+perf', cnt_cols + perf_cols),\n",
    "#     ('cnt+var', cnt_cols + var_cols),\n",
    "#     ('cnt+ts', cnt_cols + ts_cols),\n",
    "#     ('perf+var', perf_cols + var_cols),\n",
    "#     ('perf+ts', perf_cols + ts_cols),\n",
    "#     ('cnt+user', cnt_cols + user_cols),\n",
    "#     ('cnt+perf+var', cnt_cols + perf_cols + var_cols),\n",
    "#     ('cnt+perf+user', cnt_cols + perf_cols + user_cols),\n",
    "#     ('cnt+perf+user+var', cnt_cols + perf_cols + user_cols + var_cols),\n",
    "    ('event', event_cols),\n",
    "    ('event+cnt', event_cols + cnt_cols),\n",
    "    ('event+cnt+perf', event_cols + cnt_cols + perf_cols),\n",
    "    ('event+cnt+perf+user', event_cols + cnt_cols + perf_cols + user_cols)\n",
    "]"
   ]
  },
  {
   "cell_type": "code",
   "execution_count": 18,
   "metadata": {
    "hidden": true
   },
   "outputs": [
    {
     "name": "stdout",
     "output_type": "stream",
     "text": [
      "Training columns group: event\n",
      "Running k-fold 1 of 5\n",
      "Training until validation scores don't improve for 100 rounds.\n",
      "[100]\ttrn's rmse: 1.19533\ttrn's cappa: 0.149311\tval's rmse: 1.22293\tval's cappa: 0.117832\n",
      "[200]\ttrn's rmse: 1.16354\ttrn's cappa: 0.180835\tval's rmse: 1.21065\tval's cappa: 0.131162\n",
      "[300]\ttrn's rmse: 1.14107\ttrn's cappa: 0.208489\tval's rmse: 1.20641\tval's cappa: 0.136011\n",
      "[400]\ttrn's rmse: 1.12249\ttrn's cappa: 0.238584\tval's rmse: 1.2042\tval's cappa: 0.141848\n",
      "[500]\ttrn's rmse: 1.10644\ttrn's cappa: 0.261365\tval's rmse: 1.20304\tval's cappa: 0.141015\n",
      "Early stopping, best iteration is:\n",
      "[432]\ttrn's rmse: 1.11711\ttrn's cappa: 0.245906\tval's rmse: 1.20366\tval's cappa: 0.145553\n",
      "Running k-fold 2 of 5\n",
      "Training until validation scores don't improve for 100 rounds.\n",
      "[100]\ttrn's rmse: 1.19175\ttrn's cappa: 0.147837\tval's rmse: 1.22471\tval's cappa: 0.136004\n",
      "[200]\ttrn's rmse: 1.1613\ttrn's cappa: 0.186583\tval's rmse: 1.2125\tval's cappa: 0.152465\n",
      "[300]\ttrn's rmse: 1.1398\ttrn's cappa: 0.217244\tval's rmse: 1.20799\tval's cappa: 0.155398\n",
      "[400]\ttrn's rmse: 1.12216\ttrn's cappa: 0.246483\tval's rmse: 1.20541\tval's cappa: 0.161065\n",
      "Early stopping, best iteration is:\n",
      "[374]\ttrn's rmse: 1.12635\ttrn's cappa: 0.240321\tval's rmse: 1.20597\tval's cappa: 0.162732\n",
      "Running k-fold 3 of 5\n",
      "Training until validation scores don't improve for 100 rounds.\n",
      "[100]\ttrn's rmse: 1.1973\ttrn's cappa: 0.151076\tval's rmse: 1.19837\tval's cappa: 0.112355\n",
      "[200]\ttrn's rmse: 1.16646\ttrn's cappa: 0.186896\tval's rmse: 1.18708\tval's cappa: 0.118539\n",
      "Early stopping, best iteration is:\n",
      "[185]\ttrn's rmse: 1.1703\ttrn's cappa: 0.18235\tval's rmse: 1.18826\tval's cappa: 0.119935\n",
      "Running k-fold 4 of 5\n",
      "Training until validation scores don't improve for 100 rounds.\n",
      "[100]\ttrn's rmse: 1.19262\ttrn's cappa: 0.160634\tval's rmse: 1.23025\tval's cappa: 0.134287\n",
      "[200]\ttrn's rmse: 1.16134\ttrn's cappa: 0.197263\tval's rmse: 1.22036\tval's cappa: 0.152258\n",
      "[300]\ttrn's rmse: 1.1393\ttrn's cappa: 0.219289\tval's rmse: 1.21629\tval's cappa: 0.156002\n",
      "[400]\ttrn's rmse: 1.12086\ttrn's cappa: 0.24554\tval's rmse: 1.21398\tval's cappa: 0.156162\n",
      "[500]\ttrn's rmse: 1.10521\ttrn's cappa: 0.265389\tval's rmse: 1.21312\tval's cappa: 0.161533\n",
      "[600]\ttrn's rmse: 1.09086\ttrn's cappa: 0.286173\tval's rmse: 1.2122\tval's cappa: 0.166548\n",
      "[700]\ttrn's rmse: 1.0775\ttrn's cappa: 0.303648\tval's rmse: 1.21194\tval's cappa: 0.168901\n",
      "[800]\ttrn's rmse: 1.06489\ttrn's cappa: 0.320103\tval's rmse: 1.21178\tval's cappa: 0.168761\n",
      "[900]\ttrn's rmse: 1.05292\ttrn's cappa: 0.337653\tval's rmse: 1.21188\tval's cappa: 0.166729\n",
      "Early stopping, best iteration is:\n",
      "[844]\ttrn's rmse: 1.05955\ttrn's cappa: 0.328136\tval's rmse: 1.21158\tval's cappa: 0.170449\n",
      "Running k-fold 5 of 5\n",
      "Training until validation scores don't improve for 100 rounds.\n",
      "[100]\ttrn's rmse: 1.19086\ttrn's cappa: 0.15059\tval's rmse: 1.22132\tval's cappa: 0.121959\n",
      "[200]\ttrn's rmse: 1.15998\ttrn's cappa: 0.192955\tval's rmse: 1.20916\tval's cappa: 0.132464\n",
      "[300]\ttrn's rmse: 1.13799\ttrn's cappa: 0.221039\tval's rmse: 1.20417\tval's cappa: 0.14026\n",
      "[400]\ttrn's rmse: 1.1198\ttrn's cappa: 0.248649\tval's rmse: 1.20163\tval's cappa: 0.146629\n",
      "[500]\ttrn's rmse: 1.10396\ttrn's cappa: 0.271388\tval's rmse: 1.20072\tval's cappa: 0.148357\n",
      "[600]\ttrn's rmse: 1.08998\ttrn's cappa: 0.289125\tval's rmse: 1.19992\tval's cappa: 0.149571\n",
      "[700]\ttrn's rmse: 1.07655\ttrn's cappa: 0.305336\tval's rmse: 1.20012\tval's cappa: 0.157267\n",
      "Early stopping, best iteration is:\n",
      "[607]\ttrn's rmse: 1.08903\ttrn's cappa: 0.290385\tval's rmse: 1.19983\tval's cappa: 0.152481\n",
      "Training columns group: event+cnt\n",
      "Running k-fold 1 of 5\n",
      "Training until validation scores don't improve for 100 rounds.\n",
      "[100]\ttrn's rmse: 1.14164\ttrn's cappa: 0.234107\tval's rmse: 1.18288\tval's cappa: 0.204782\n",
      "[200]\ttrn's rmse: 1.08658\ttrn's cappa: 0.300338\tval's rmse: 1.15393\tval's cappa: 0.229778\n",
      "[300]\ttrn's rmse: 1.05035\ttrn's cappa: 0.350412\tval's rmse: 1.13962\tval's cappa: 0.242746\n",
      "[400]\ttrn's rmse: 1.02285\ttrn's cappa: 0.385355\tval's rmse: 1.1319\tval's cappa: 0.254113\n",
      "[500]\ttrn's rmse: 0.999987\ttrn's cappa: 0.41085\tval's rmse: 1.12699\tval's cappa: 0.262218\n",
      "[600]\ttrn's rmse: 0.980564\ttrn's cappa: 0.429172\tval's rmse: 1.12388\tval's cappa: 0.266686\n",
      "[700]\ttrn's rmse: 0.963048\ttrn's cappa: 0.448339\tval's rmse: 1.1221\tval's cappa: 0.268397\n",
      "[800]\ttrn's rmse: 0.94678\ttrn's cappa: 0.464754\tval's rmse: 1.12038\tval's cappa: 0.272924\n",
      "[900]\ttrn's rmse: 0.93166\ttrn's cappa: 0.479433\tval's rmse: 1.11876\tval's cappa: 0.277341\n",
      "[1000]\ttrn's rmse: 0.917639\ttrn's cappa: 0.49293\tval's rmse: 1.11733\tval's cappa: 0.279258\n",
      "[1100]\ttrn's rmse: 0.903974\ttrn's cappa: 0.507853\tval's rmse: 1.11724\tval's cappa: 0.280116\n",
      "Early stopping, best iteration is:\n",
      "[1056]\ttrn's rmse: 0.909775\ttrn's cappa: 0.500892\tval's rmse: 1.11672\tval's cappa: 0.278725\n",
      "Running k-fold 2 of 5\n",
      "Training until validation scores don't improve for 100 rounds.\n",
      "[100]\ttrn's rmse: 1.13978\ttrn's cappa: 0.238453\tval's rmse: 1.18541\tval's cappa: 0.1947\n",
      "[200]\ttrn's rmse: 1.08587\ttrn's cappa: 0.303282\tval's rmse: 1.15401\tval's cappa: 0.218062\n",
      "[300]\ttrn's rmse: 1.05021\ttrn's cappa: 0.350247\tval's rmse: 1.13841\tval's cappa: 0.234518\n",
      "[400]\ttrn's rmse: 1.02289\ttrn's cappa: 0.381505\tval's rmse: 1.13037\tval's cappa: 0.252388\n",
      "[500]\ttrn's rmse: 1.00072\ttrn's cappa: 0.408135\tval's rmse: 1.12525\tval's cappa: 0.262092\n",
      "[600]\ttrn's rmse: 0.98135\ttrn's cappa: 0.428255\tval's rmse: 1.12195\tval's cappa: 0.269434\n",
      "[700]\ttrn's rmse: 0.964273\ttrn's cappa: 0.445782\tval's rmse: 1.11995\tval's cappa: 0.279928\n",
      "[800]\ttrn's rmse: 0.948374\ttrn's cappa: 0.464543\tval's rmse: 1.1186\tval's cappa: 0.280141\n",
      "Early stopping, best iteration is:\n",
      "[745]\ttrn's rmse: 0.95696\ttrn's cappa: 0.453865\tval's rmse: 1.11923\tval's cappa: 0.281626\n",
      "Running k-fold 3 of 5\n",
      "Training until validation scores don't improve for 100 rounds.\n",
      "[100]\ttrn's rmse: 1.14604\ttrn's cappa: 0.241305\tval's rmse: 1.15288\tval's cappa: 0.206392\n",
      "[200]\ttrn's rmse: 1.09167\ttrn's cappa: 0.301838\tval's rmse: 1.12439\tval's cappa: 0.22984\n",
      "[300]\ttrn's rmse: 1.05578\ttrn's cappa: 0.351908\tval's rmse: 1.11117\tval's cappa: 0.243157\n",
      "[400]\ttrn's rmse: 1.02878\ttrn's cappa: 0.384189\tval's rmse: 1.10422\tval's cappa: 0.259671\n",
      "[500]\ttrn's rmse: 1.0064\ttrn's cappa: 0.413029\tval's rmse: 1.10082\tval's cappa: 0.271257\n",
      "[600]\ttrn's rmse: 0.98674\ttrn's cappa: 0.432733\tval's rmse: 1.09829\tval's cappa: 0.275588\n",
      "[700]\ttrn's rmse: 0.969128\ttrn's cappa: 0.450608\tval's rmse: 1.09707\tval's cappa: 0.274642\n",
      "Early stopping, best iteration is:\n",
      "[609]\ttrn's rmse: 0.985166\ttrn's cappa: 0.434425\tval's rmse: 1.09809\tval's cappa: 0.276371\n",
      "Running k-fold 4 of 5\n",
      "Training until validation scores don't improve for 100 rounds.\n",
      "[100]\ttrn's rmse: 1.1407\ttrn's cappa: 0.249206\tval's rmse: 1.17666\tval's cappa: 0.218985\n",
      "[200]\ttrn's rmse: 1.08506\ttrn's cappa: 0.303387\tval's rmse: 1.14559\tval's cappa: 0.235021\n",
      "[300]\ttrn's rmse: 1.04894\ttrn's cappa: 0.35092\tval's rmse: 1.13142\tval's cappa: 0.259841\n",
      "[400]\ttrn's rmse: 1.02116\ttrn's cappa: 0.384706\tval's rmse: 1.1238\tval's cappa: 0.277656\n",
      "[500]\ttrn's rmse: 0.998722\ttrn's cappa: 0.409076\tval's rmse: 1.11891\tval's cappa: 0.288456\n",
      "[600]\ttrn's rmse: 0.979162\ttrn's cappa: 0.433251\tval's rmse: 1.11687\tval's cappa: 0.295\n",
      "[700]\ttrn's rmse: 0.961628\ttrn's cappa: 0.452072\tval's rmse: 1.11567\tval's cappa: 0.29923\n",
      "[800]\ttrn's rmse: 0.945405\ttrn's cappa: 0.467316\tval's rmse: 1.11389\tval's cappa: 0.306459\n",
      "[900]\ttrn's rmse: 0.930683\ttrn's cappa: 0.480924\tval's rmse: 1.11375\tval's cappa: 0.308164\n",
      "Early stopping, best iteration is:\n",
      "[867]\ttrn's rmse: 0.935449\ttrn's cappa: 0.477234\tval's rmse: 1.11349\tval's cappa: 0.308342\n",
      "Running k-fold 5 of 5\n",
      "Training until validation scores don't improve for 100 rounds.\n",
      "[100]\ttrn's rmse: 1.13633\ttrn's cappa: 0.251597\tval's rmse: 1.18812\tval's cappa: 0.181871\n",
      "[200]\ttrn's rmse: 1.08115\ttrn's cappa: 0.315302\tval's rmse: 1.16148\tval's cappa: 0.213518\n",
      "[300]\ttrn's rmse: 1.04441\ttrn's cappa: 0.362112\tval's rmse: 1.14795\tval's cappa: 0.238055\n",
      "[400]\ttrn's rmse: 1.01672\ttrn's cappa: 0.395781\tval's rmse: 1.14183\tval's cappa: 0.246174\n",
      "[500]\ttrn's rmse: 0.994058\ttrn's cappa: 0.420343\tval's rmse: 1.13898\tval's cappa: 0.253043\n",
      "[600]\ttrn's rmse: 0.974471\ttrn's cappa: 0.439483\tval's rmse: 1.13731\tval's cappa: 0.262131\n",
      "[700]\ttrn's rmse: 0.956992\ttrn's cappa: 0.455901\tval's rmse: 1.13642\tval's cappa: 0.262386\n"
     ]
    },
    {
     "name": "stdout",
     "output_type": "stream",
     "text": [
      "[800]\ttrn's rmse: 0.940698\ttrn's cappa: 0.469935\tval's rmse: 1.13631\tval's cappa: 0.265195\n",
      "Early stopping, best iteration is:\n",
      "[741]\ttrn's rmse: 0.950162\ttrn's cappa: 0.461694\tval's rmse: 1.13604\tval's cappa: 0.265387\n",
      "Training columns group: event+cnt+perf\n",
      "Running k-fold 1 of 5\n",
      "Training until validation scores don't improve for 100 rounds.\n",
      "[100]\ttrn's rmse: 1.1397\ttrn's cappa: 0.237411\tval's rmse: 1.17383\tval's cappa: 0.215033\n",
      "[200]\ttrn's rmse: 1.08584\ttrn's cappa: 0.304468\tval's rmse: 1.14351\tval's cappa: 0.237892\n",
      "[300]\ttrn's rmse: 1.05017\ttrn's cappa: 0.352138\tval's rmse: 1.13059\tval's cappa: 0.253236\n",
      "[400]\ttrn's rmse: 1.02277\ttrn's cappa: 0.382756\tval's rmse: 1.1237\tval's cappa: 0.268961\n",
      "[500]\ttrn's rmse: 1.00033\ttrn's cappa: 0.407378\tval's rmse: 1.1196\tval's cappa: 0.277137\n",
      "[600]\ttrn's rmse: 0.980614\ttrn's cappa: 0.429827\tval's rmse: 1.11795\tval's cappa: 0.284045\n",
      "[700]\ttrn's rmse: 0.962866\ttrn's cappa: 0.446872\tval's rmse: 1.11728\tval's cappa: 0.288277\n",
      "Early stopping, best iteration is:\n",
      "[698]\ttrn's rmse: 0.963225\ttrn's cappa: 0.446887\tval's rmse: 1.11737\tval's cappa: 0.28848\n",
      "Running k-fold 2 of 5\n",
      "Training until validation scores don't improve for 100 rounds.\n",
      "[100]\ttrn's rmse: 1.13771\ttrn's cappa: 0.24064\tval's rmse: 1.17597\tval's cappa: 0.204479\n",
      "[200]\ttrn's rmse: 1.08516\ttrn's cappa: 0.305649\tval's rmse: 1.14597\tval's cappa: 0.233119\n",
      "[300]\ttrn's rmse: 1.05039\ttrn's cappa: 0.352205\tval's rmse: 1.13098\tval's cappa: 0.260568\n",
      "[400]\ttrn's rmse: 1.02372\ttrn's cappa: 0.382394\tval's rmse: 1.1237\tval's cappa: 0.271059\n",
      "[500]\ttrn's rmse: 1.00174\ttrn's cappa: 0.411738\tval's rmse: 1.11947\tval's cappa: 0.281538\n",
      "[600]\ttrn's rmse: 0.982457\ttrn's cappa: 0.433324\tval's rmse: 1.11654\tval's cappa: 0.291721\n",
      "[700]\ttrn's rmse: 0.965238\ttrn's cappa: 0.44949\tval's rmse: 1.11487\tval's cappa: 0.298229\n",
      "[800]\ttrn's rmse: 0.949017\ttrn's cappa: 0.464004\tval's rmse: 1.11387\tval's cappa: 0.294826\n",
      "Early stopping, best iteration is:\n",
      "[702]\ttrn's rmse: 0.96492\ttrn's cappa: 0.450264\tval's rmse: 1.11479\tval's cappa: 0.298608\n",
      "Running k-fold 3 of 5\n",
      "Training until validation scores don't improve for 100 rounds.\n",
      "[100]\ttrn's rmse: 1.14464\ttrn's cappa: 0.244348\tval's rmse: 1.14422\tval's cappa: 0.213364\n",
      "[200]\ttrn's rmse: 1.09084\ttrn's cappa: 0.307609\tval's rmse: 1.1145\tval's cappa: 0.24322\n",
      "[300]\ttrn's rmse: 1.05598\ttrn's cappa: 0.352948\tval's rmse: 1.10143\tval's cappa: 0.256561\n",
      "[400]\ttrn's rmse: 1.0294\ttrn's cappa: 0.386822\tval's rmse: 1.09417\tval's cappa: 0.273134\n",
      "[500]\ttrn's rmse: 1.00748\ttrn's cappa: 0.411338\tval's rmse: 1.09053\tval's cappa: 0.281292\n",
      "[600]\ttrn's rmse: 0.987845\ttrn's cappa: 0.430859\tval's rmse: 1.08864\tval's cappa: 0.285945\n",
      "[700]\ttrn's rmse: 0.970167\ttrn's cappa: 0.450419\tval's rmse: 1.08746\tval's cappa: 0.290225\n",
      "[800]\ttrn's rmse: 0.953744\ttrn's cappa: 0.465757\tval's rmse: 1.0874\tval's cappa: 0.290737\n",
      "Early stopping, best iteration is:\n",
      "[783]\ttrn's rmse: 0.956378\ttrn's cappa: 0.463608\tval's rmse: 1.08713\tval's cappa: 0.288956\n",
      "Running k-fold 4 of 5\n",
      "Training until validation scores don't improve for 100 rounds.\n",
      "[100]\ttrn's rmse: 1.13745\ttrn's cappa: 0.250344\tval's rmse: 1.17013\tval's cappa: 0.219431\n",
      "[200]\ttrn's rmse: 1.08351\ttrn's cappa: 0.306918\tval's rmse: 1.14024\tval's cappa: 0.255356\n",
      "[300]\ttrn's rmse: 1.04809\ttrn's cappa: 0.352589\tval's rmse: 1.12762\tval's cappa: 0.277534\n",
      "[400]\ttrn's rmse: 1.02108\ttrn's cappa: 0.386947\tval's rmse: 1.12149\tval's cappa: 0.293039\n",
      "[500]\ttrn's rmse: 0.998872\ttrn's cappa: 0.413679\tval's rmse: 1.11884\tval's cappa: 0.299285\n",
      "[600]\ttrn's rmse: 0.979249\ttrn's cappa: 0.435772\tval's rmse: 1.11816\tval's cappa: 0.301661\n",
      "[700]\ttrn's rmse: 0.961158\ttrn's cappa: 0.454088\tval's rmse: 1.11794\tval's cappa: 0.304241\n",
      "Early stopping, best iteration is:\n",
      "[627]\ttrn's rmse: 0.974314\ttrn's cappa: 0.441598\tval's rmse: 1.11768\tval's cappa: 0.305702\n",
      "Running k-fold 5 of 5\n",
      "Training until validation scores don't improve for 100 rounds.\n",
      "[100]\ttrn's rmse: 1.13313\ttrn's cappa: 0.255443\tval's rmse: 1.18495\tval's cappa: 0.178438\n",
      "[200]\ttrn's rmse: 1.07898\ttrn's cappa: 0.317028\tval's rmse: 1.15953\tval's cappa: 0.21626\n",
      "[300]\ttrn's rmse: 1.04301\ttrn's cappa: 0.361937\tval's rmse: 1.14737\tval's cappa: 0.235218\n",
      "[400]\ttrn's rmse: 1.01575\ttrn's cappa: 0.395302\tval's rmse: 1.14137\tval's cappa: 0.251378\n",
      "[500]\ttrn's rmse: 0.993211\ttrn's cappa: 0.417986\tval's rmse: 1.13863\tval's cappa: 0.257666\n",
      "[600]\ttrn's rmse: 0.973506\ttrn's cappa: 0.439943\tval's rmse: 1.13723\tval's cappa: 0.260161\n",
      "Early stopping, best iteration is:\n",
      "[577]\ttrn's rmse: 0.97777\ttrn's cappa: 0.435284\tval's rmse: 1.13755\tval's cappa: 0.262454\n",
      "Training columns group: event+cnt+perf+user\n",
      "Running k-fold 1 of 5\n",
      "Training until validation scores don't improve for 100 rounds.\n",
      "[100]\ttrn's rmse: 1.13648\ttrn's cappa: 0.24013\tval's rmse: 1.16977\tval's cappa: 0.208399\n",
      "[200]\ttrn's rmse: 1.08091\ttrn's cappa: 0.312293\tval's rmse: 1.13805\tval's cappa: 0.236714\n",
      "[300]\ttrn's rmse: 1.04318\ttrn's cappa: 0.3641\tval's rmse: 1.12225\tval's cappa: 0.264597\n",
      "[400]\ttrn's rmse: 1.01452\ttrn's cappa: 0.396062\tval's rmse: 1.11371\tval's cappa: 0.275778\n",
      "[500]\ttrn's rmse: 0.990649\ttrn's cappa: 0.420134\tval's rmse: 1.10842\tval's cappa: 0.285761\n",
      "[600]\ttrn's rmse: 0.969652\ttrn's cappa: 0.440731\tval's rmse: 1.10656\tval's cappa: 0.285471\n",
      "[700]\ttrn's rmse: 0.950893\ttrn's cappa: 0.459117\tval's rmse: 1.10485\tval's cappa: 0.292329\n",
      "[800]\ttrn's rmse: 0.933329\ttrn's cappa: 0.476677\tval's rmse: 1.10394\tval's cappa: 0.296923\n",
      "[900]\ttrn's rmse: 0.91716\ttrn's cappa: 0.494066\tval's rmse: 1.10261\tval's cappa: 0.3033\n",
      "Early stopping, best iteration is:\n",
      "[887]\ttrn's rmse: 0.919187\ttrn's cappa: 0.492266\tval's rmse: 1.10245\tval's cappa: 0.304276\n",
      "Running k-fold 2 of 5\n",
      "Training until validation scores don't improve for 100 rounds.\n",
      "[100]\ttrn's rmse: 1.13461\ttrn's cappa: 0.247872\tval's rmse: 1.17485\tval's cappa: 0.193295\n",
      "[200]\ttrn's rmse: 1.07978\ttrn's cappa: 0.311404\tval's rmse: 1.14319\tval's cappa: 0.223608\n",
      "[300]\ttrn's rmse: 1.04324\ttrn's cappa: 0.36237\tval's rmse: 1.12632\tval's cappa: 0.259234\n",
      "[400]\ttrn's rmse: 1.01485\ttrn's cappa: 0.395913\tval's rmse: 1.11687\tval's cappa: 0.27763\n",
      "[500]\ttrn's rmse: 0.991699\ttrn's cappa: 0.418371\tval's rmse: 1.11157\tval's cappa: 0.293667\n",
      "[600]\ttrn's rmse: 0.971394\ttrn's cappa: 0.437316\tval's rmse: 1.10817\tval's cappa: 0.296313\n",
      "[700]\ttrn's rmse: 0.953421\ttrn's cappa: 0.458047\tval's rmse: 1.10654\tval's cappa: 0.303165\n",
      "[800]\ttrn's rmse: 0.93668\ttrn's cappa: 0.4737\tval's rmse: 1.10552\tval's cappa: 0.304225\n",
      "[900]\ttrn's rmse: 0.920713\ttrn's cappa: 0.489401\tval's rmse: 1.10441\tval's cappa: 0.302052\n",
      "Early stopping, best iteration is:\n",
      "[810]\ttrn's rmse: 0.935045\ttrn's cappa: 0.47562\tval's rmse: 1.10543\tval's cappa: 0.307495\n",
      "Running k-fold 3 of 5\n",
      "Training until validation scores don't improve for 100 rounds.\n",
      "[100]\ttrn's rmse: 1.14128\ttrn's cappa: 0.249525\tval's rmse: 1.14237\tval's cappa: 0.219512\n",
      "[200]\ttrn's rmse: 1.08529\ttrn's cappa: 0.315941\tval's rmse: 1.10988\tval's cappa: 0.25088\n",
      "[300]\ttrn's rmse: 1.04827\ttrn's cappa: 0.360734\tval's rmse: 1.09542\tval's cappa: 0.271163\n",
      "[400]\ttrn's rmse: 1.02006\ttrn's cappa: 0.395209\tval's rmse: 1.08695\tval's cappa: 0.288679\n",
      "[500]\ttrn's rmse: 0.996729\ttrn's cappa: 0.419937\tval's rmse: 1.08271\tval's cappa: 0.29493\n",
      "[600]\ttrn's rmse: 0.976121\ttrn's cappa: 0.441923\tval's rmse: 1.08053\tval's cappa: 0.297127\n",
      "[700]\ttrn's rmse: 0.957383\ttrn's cappa: 0.46076\tval's rmse: 1.07895\tval's cappa: 0.302988\n",
      "[800]\ttrn's rmse: 0.940259\ttrn's cappa: 0.476513\tval's rmse: 1.07815\tval's cappa: 0.302022\n",
      "Early stopping, best iteration is:\n",
      "[719]\ttrn's rmse: 0.953939\ttrn's cappa: 0.464315\tval's rmse: 1.07846\tval's cappa: 0.306187\n",
      "Running k-fold 4 of 5\n",
      "Training until validation scores don't improve for 100 rounds.\n",
      "[100]\ttrn's rmse: 1.1341\ttrn's cappa: 0.256808\tval's rmse: 1.16736\tval's cappa: 0.221816\n",
      "[200]\ttrn's rmse: 1.07841\ttrn's cappa: 0.316667\tval's rmse: 1.1357\tval's cappa: 0.256076\n",
      "[300]\ttrn's rmse: 1.04158\ttrn's cappa: 0.364106\tval's rmse: 1.12107\tval's cappa: 0.285111\n",
      "[400]\ttrn's rmse: 1.01285\ttrn's cappa: 0.39937\tval's rmse: 1.11343\tval's cappa: 0.305316\n",
      "[500]\ttrn's rmse: 0.989362\ttrn's cappa: 0.424072\tval's rmse: 1.10939\tval's cappa: 0.310773\n",
      "[600]\ttrn's rmse: 0.968783\ttrn's cappa: 0.442489\tval's rmse: 1.10786\tval's cappa: 0.318098\n",
      "[700]\ttrn's rmse: 0.950032\ttrn's cappa: 0.460147\tval's rmse: 1.10724\tval's cappa: 0.321342\n"
     ]
    },
    {
     "name": "stdout",
     "output_type": "stream",
     "text": [
      "Early stopping, best iteration is:\n",
      "[682]\ttrn's rmse: 0.953452\ttrn's cappa: 0.456345\tval's rmse: 1.10726\tval's cappa: 0.322497\n",
      "Running k-fold 5 of 5\n",
      "Training until validation scores don't improve for 100 rounds.\n",
      "[100]\ttrn's rmse: 1.12982\ttrn's cappa: 0.26118\tval's rmse: 1.18274\tval's cappa: 0.193495\n",
      "[200]\ttrn's rmse: 1.07475\ttrn's cappa: 0.317657\tval's rmse: 1.15433\tval's cappa: 0.229783\n",
      "[300]\ttrn's rmse: 1.03742\ttrn's cappa: 0.368204\tval's rmse: 1.14054\tval's cappa: 0.252243\n",
      "[400]\ttrn's rmse: 1.00868\ttrn's cappa: 0.400499\tval's rmse: 1.13302\tval's cappa: 0.266021\n",
      "[500]\ttrn's rmse: 0.98496\ttrn's cappa: 0.428196\tval's rmse: 1.12864\tval's cappa: 0.278136\n",
      "[600]\ttrn's rmse: 0.964105\ttrn's cappa: 0.448174\tval's rmse: 1.12617\tval's cappa: 0.281081\n",
      "[700]\ttrn's rmse: 0.946\ttrn's cappa: 0.465769\tval's rmse: 1.12433\tval's cappa: 0.285572\n",
      "[800]\ttrn's rmse: 0.928579\ttrn's cappa: 0.484735\tval's rmse: 1.12328\tval's cappa: 0.286997\n",
      "[900]\ttrn's rmse: 0.913\ttrn's cappa: 0.498758\tval's rmse: 1.12262\tval's cappa: 0.290661\n",
      "Early stopping, best iteration is:\n",
      "[886]\ttrn's rmse: 0.915041\ttrn's cappa: 0.49703\tval's rmse: 1.12259\tval's cappa: 0.291188\n"
     ]
    }
   ],
   "source": [
    "results = []\n",
    "for col_group, features in features_groups:\n",
    "    U.log(f'Training columns group: {col_group}')\n",
    "    reg_metric = RegressionCappa([-np.inf, 1., 2., 3., +np.inf])\n",
    "    result = train(X_trn, features, reg_metric, algo='lightgbm')\n",
    "    results.append((col_group, result))"
   ]
  },
  {
   "cell_type": "code",
   "execution_count": 24,
   "metadata": {
    "hidden": true
   },
   "outputs": [],
   "source": [
    "report = pd.DataFrame([\n",
    "    OrderedDict([('features', name)] + list(result.cv.items())) \n",
    "    for name, result in results])\n",
    "cappa_cols = starts_with(report.columns, 'cv_cappa')\n",
    "report['mean'] = report[cappa_cols].mean(axis=1)\n",
    "report['std'] = report[cappa_cols].std(axis=1)\n",
    "report.sort_values(by=['mean'], inplace=True, ascending=False)\n",
    "report.reset_index(drop=True, inplace=True)"
   ]
  },
  {
   "cell_type": "code",
   "execution_count": 20,
   "metadata": {
    "hidden": true
   },
   "outputs": [],
   "source": [
    "report.to_csv(f'report_events_{U.now()}.csv', index=False)"
   ]
  },
  {
   "cell_type": "code",
   "execution_count": 25,
   "metadata": {
    "hidden": true
   },
   "outputs": [
    {
     "data": {
      "text/html": [
       "<div>\n",
       "<style scoped>\n",
       "    .dataframe tbody tr th:only-of-type {\n",
       "        vertical-align: middle;\n",
       "    }\n",
       "\n",
       "    .dataframe tbody tr th {\n",
       "        vertical-align: top;\n",
       "    }\n",
       "\n",
       "    .dataframe thead th {\n",
       "        text-align: right;\n",
       "    }\n",
       "</style>\n",
       "<table border=\"1\" class=\"dataframe\">\n",
       "  <thead>\n",
       "    <tr style=\"text-align: right;\">\n",
       "      <th></th>\n",
       "      <th>features</th>\n",
       "      <th>cv_cappa_1</th>\n",
       "      <th>cv_cappa_2</th>\n",
       "      <th>cv_cappa_3</th>\n",
       "      <th>cv_cappa_4</th>\n",
       "      <th>cv_cappa_5</th>\n",
       "      <th>mean</th>\n",
       "      <th>std</th>\n",
       "    </tr>\n",
       "  </thead>\n",
       "  <tbody>\n",
       "    <tr>\n",
       "      <th>0</th>\n",
       "      <td>event+cnt+perf+user</td>\n",
       "      <td>0.304276</td>\n",
       "      <td>0.307495</td>\n",
       "      <td>0.306187</td>\n",
       "      <td>0.322497</td>\n",
       "      <td>0.291188</td>\n",
       "      <td>0.306329</td>\n",
       "      <td>0.011138</td>\n",
       "    </tr>\n",
       "    <tr>\n",
       "      <th>1</th>\n",
       "      <td>event+cnt+perf</td>\n",
       "      <td>0.288480</td>\n",
       "      <td>0.298608</td>\n",
       "      <td>0.288956</td>\n",
       "      <td>0.305702</td>\n",
       "      <td>0.262454</td>\n",
       "      <td>0.288840</td>\n",
       "      <td>0.016402</td>\n",
       "    </tr>\n",
       "    <tr>\n",
       "      <th>2</th>\n",
       "      <td>event+cnt</td>\n",
       "      <td>0.278725</td>\n",
       "      <td>0.281626</td>\n",
       "      <td>0.276371</td>\n",
       "      <td>0.308342</td>\n",
       "      <td>0.265387</td>\n",
       "      <td>0.282090</td>\n",
       "      <td>0.015909</td>\n",
       "    </tr>\n",
       "    <tr>\n",
       "      <th>3</th>\n",
       "      <td>event</td>\n",
       "      <td>0.145553</td>\n",
       "      <td>0.162732</td>\n",
       "      <td>0.119935</td>\n",
       "      <td>0.170449</td>\n",
       "      <td>0.152481</td>\n",
       "      <td>0.150230</td>\n",
       "      <td>0.019428</td>\n",
       "    </tr>\n",
       "  </tbody>\n",
       "</table>\n",
       "</div>"
      ],
      "text/plain": [
       "              features  cv_cappa_1  cv_cappa_2  cv_cappa_3  cv_cappa_4  \\\n",
       "0  event+cnt+perf+user    0.304276    0.307495    0.306187    0.322497   \n",
       "1       event+cnt+perf    0.288480    0.298608    0.288956    0.305702   \n",
       "2            event+cnt    0.278725    0.281626    0.276371    0.308342   \n",
       "3                event    0.145553    0.162732    0.119935    0.170449   \n",
       "\n",
       "   cv_cappa_5      mean       std  \n",
       "0    0.291188  0.306329  0.011138  \n",
       "1    0.262454  0.288840  0.016402  \n",
       "2    0.265387  0.282090  0.015909  \n",
       "3    0.152481  0.150230  0.019428  "
      ]
     },
     "execution_count": 25,
     "metadata": {},
     "output_type": "execute_result"
    }
   ],
   "source": [
    "report"
   ]
  },
  {
   "cell_type": "code",
   "execution_count": 33,
   "metadata": {
    "hidden": true
   },
   "outputs": [],
   "source": [
    "benchmark = pd.concat([\n",
    "    pd.read_csv('report_Tue_07_Jan_2020__16_48.csv'),\n",
    "    report\n",
    "], axis=0).reset_index(drop=True).sort_values(by=['mean'], ascending=False).reset_index(drop=True)"
   ]
  },
  {
   "cell_type": "code",
   "execution_count": 34,
   "metadata": {
    "hidden": true
   },
   "outputs": [],
   "source": [
    "def highlight_best(col):\n",
    "    if not col.name.startswith('cv_cappa_'):\n",
    "        return [''] * len(col)\n",
    "    is_best = col.index == col.argmax()\n",
    "    return ['background-color: salmon' if idx else '' for idx in is_best]"
   ]
  },
  {
   "cell_type": "code",
   "execution_count": 35,
   "metadata": {
    "hidden": true
   },
   "outputs": [
    {
     "data": {
      "text/html": [
       "<style  type=\"text/css\" >\n",
       "    #T_2a22b0da_3214_11ea_8e4c_335192a8d449row0_col1 {\n",
       "            background-color:  salmon;\n",
       "        }    #T_2a22b0da_3214_11ea_8e4c_335192a8d449row0_col2 {\n",
       "            background-color:  salmon;\n",
       "        }    #T_2a22b0da_3214_11ea_8e4c_335192a8d449row0_col3 {\n",
       "            background-color:  salmon;\n",
       "        }    #T_2a22b0da_3214_11ea_8e4c_335192a8d449row0_col4 {\n",
       "            background-color:  salmon;\n",
       "        }    #T_2a22b0da_3214_11ea_8e4c_335192a8d449row0_col5 {\n",
       "            background-color:  salmon;\n",
       "        }</style><table id=\"T_2a22b0da_3214_11ea_8e4c_335192a8d449\" ><thead>    <tr>        <th class=\"blank level0\" ></th>        <th class=\"col_heading level0 col0\" >features</th>        <th class=\"col_heading level0 col1\" >cv_cappa_1</th>        <th class=\"col_heading level0 col2\" >cv_cappa_2</th>        <th class=\"col_heading level0 col3\" >cv_cappa_3</th>        <th class=\"col_heading level0 col4\" >cv_cappa_4</th>        <th class=\"col_heading level0 col5\" >cv_cappa_5</th>        <th class=\"col_heading level0 col6\" >mean</th>        <th class=\"col_heading level0 col7\" >std</th>    </tr></thead><tbody>\n",
       "                <tr>\n",
       "                        <th id=\"T_2a22b0da_3214_11ea_8e4c_335192a8d449level0_row0\" class=\"row_heading level0 row0\" >0</th>\n",
       "                        <td id=\"T_2a22b0da_3214_11ea_8e4c_335192a8d449row0_col0\" class=\"data row0 col0\" >event+cnt+perf+user</td>\n",
       "                        <td id=\"T_2a22b0da_3214_11ea_8e4c_335192a8d449row0_col1\" class=\"data row0 col1\" >0.304276</td>\n",
       "                        <td id=\"T_2a22b0da_3214_11ea_8e4c_335192a8d449row0_col2\" class=\"data row0 col2\" >0.307495</td>\n",
       "                        <td id=\"T_2a22b0da_3214_11ea_8e4c_335192a8d449row0_col3\" class=\"data row0 col3\" >0.306187</td>\n",
       "                        <td id=\"T_2a22b0da_3214_11ea_8e4c_335192a8d449row0_col4\" class=\"data row0 col4\" >0.322497</td>\n",
       "                        <td id=\"T_2a22b0da_3214_11ea_8e4c_335192a8d449row0_col5\" class=\"data row0 col5\" >0.291188</td>\n",
       "                        <td id=\"T_2a22b0da_3214_11ea_8e4c_335192a8d449row0_col6\" class=\"data row0 col6\" >0.306329</td>\n",
       "                        <td id=\"T_2a22b0da_3214_11ea_8e4c_335192a8d449row0_col7\" class=\"data row0 col7\" >0.0111385</td>\n",
       "            </tr>\n",
       "            <tr>\n",
       "                        <th id=\"T_2a22b0da_3214_11ea_8e4c_335192a8d449level0_row1\" class=\"row_heading level0 row1\" >1</th>\n",
       "                        <td id=\"T_2a22b0da_3214_11ea_8e4c_335192a8d449row1_col0\" class=\"data row1 col0\" >event+cnt+perf</td>\n",
       "                        <td id=\"T_2a22b0da_3214_11ea_8e4c_335192a8d449row1_col1\" class=\"data row1 col1\" >0.28848</td>\n",
       "                        <td id=\"T_2a22b0da_3214_11ea_8e4c_335192a8d449row1_col2\" class=\"data row1 col2\" >0.298608</td>\n",
       "                        <td id=\"T_2a22b0da_3214_11ea_8e4c_335192a8d449row1_col3\" class=\"data row1 col3\" >0.288956</td>\n",
       "                        <td id=\"T_2a22b0da_3214_11ea_8e4c_335192a8d449row1_col4\" class=\"data row1 col4\" >0.305702</td>\n",
       "                        <td id=\"T_2a22b0da_3214_11ea_8e4c_335192a8d449row1_col5\" class=\"data row1 col5\" >0.262454</td>\n",
       "                        <td id=\"T_2a22b0da_3214_11ea_8e4c_335192a8d449row1_col6\" class=\"data row1 col6\" >0.28884</td>\n",
       "                        <td id=\"T_2a22b0da_3214_11ea_8e4c_335192a8d449row1_col7\" class=\"data row1 col7\" >0.0164019</td>\n",
       "            </tr>\n",
       "            <tr>\n",
       "                        <th id=\"T_2a22b0da_3214_11ea_8e4c_335192a8d449level0_row2\" class=\"row_heading level0 row2\" >2</th>\n",
       "                        <td id=\"T_2a22b0da_3214_11ea_8e4c_335192a8d449row2_col0\" class=\"data row2 col0\" >event+cnt</td>\n",
       "                        <td id=\"T_2a22b0da_3214_11ea_8e4c_335192a8d449row2_col1\" class=\"data row2 col1\" >0.278725</td>\n",
       "                        <td id=\"T_2a22b0da_3214_11ea_8e4c_335192a8d449row2_col2\" class=\"data row2 col2\" >0.281626</td>\n",
       "                        <td id=\"T_2a22b0da_3214_11ea_8e4c_335192a8d449row2_col3\" class=\"data row2 col3\" >0.276371</td>\n",
       "                        <td id=\"T_2a22b0da_3214_11ea_8e4c_335192a8d449row2_col4\" class=\"data row2 col4\" >0.308342</td>\n",
       "                        <td id=\"T_2a22b0da_3214_11ea_8e4c_335192a8d449row2_col5\" class=\"data row2 col5\" >0.265387</td>\n",
       "                        <td id=\"T_2a22b0da_3214_11ea_8e4c_335192a8d449row2_col6\" class=\"data row2 col6\" >0.28209</td>\n",
       "                        <td id=\"T_2a22b0da_3214_11ea_8e4c_335192a8d449row2_col7\" class=\"data row2 col7\" >0.0159092</td>\n",
       "            </tr>\n",
       "            <tr>\n",
       "                        <th id=\"T_2a22b0da_3214_11ea_8e4c_335192a8d449level0_row3\" class=\"row_heading level0 row3\" >3</th>\n",
       "                        <td id=\"T_2a22b0da_3214_11ea_8e4c_335192a8d449row3_col0\" class=\"data row3 col0\" >cnt+perf+user</td>\n",
       "                        <td id=\"T_2a22b0da_3214_11ea_8e4c_335192a8d449row3_col1\" class=\"data row3 col1\" >0.280617</td>\n",
       "                        <td id=\"T_2a22b0da_3214_11ea_8e4c_335192a8d449row3_col2\" class=\"data row3 col2\" >0.263356</td>\n",
       "                        <td id=\"T_2a22b0da_3214_11ea_8e4c_335192a8d449row3_col3\" class=\"data row3 col3\" >0.279415</td>\n",
       "                        <td id=\"T_2a22b0da_3214_11ea_8e4c_335192a8d449row3_col4\" class=\"data row3 col4\" >0.302204</td>\n",
       "                        <td id=\"T_2a22b0da_3214_11ea_8e4c_335192a8d449row3_col5\" class=\"data row3 col5\" >0.257902</td>\n",
       "                        <td id=\"T_2a22b0da_3214_11ea_8e4c_335192a8d449row3_col6\" class=\"data row3 col6\" >0.276699</td>\n",
       "                        <td id=\"T_2a22b0da_3214_11ea_8e4c_335192a8d449row3_col7\" class=\"data row3 col7\" >0.0173536</td>\n",
       "            </tr>\n",
       "            <tr>\n",
       "                        <th id=\"T_2a22b0da_3214_11ea_8e4c_335192a8d449level0_row4\" class=\"row_heading level0 row4\" >4</th>\n",
       "                        <td id=\"T_2a22b0da_3214_11ea_8e4c_335192a8d449row4_col0\" class=\"data row4 col0\" >cnt+perf+user+var</td>\n",
       "                        <td id=\"T_2a22b0da_3214_11ea_8e4c_335192a8d449row4_col1\" class=\"data row4 col1\" >0.275224</td>\n",
       "                        <td id=\"T_2a22b0da_3214_11ea_8e4c_335192a8d449row4_col2\" class=\"data row4 col2\" >0.271732</td>\n",
       "                        <td id=\"T_2a22b0da_3214_11ea_8e4c_335192a8d449row4_col3\" class=\"data row4 col3\" >0.281025</td>\n",
       "                        <td id=\"T_2a22b0da_3214_11ea_8e4c_335192a8d449row4_col4\" class=\"data row4 col4\" >0.29761</td>\n",
       "                        <td id=\"T_2a22b0da_3214_11ea_8e4c_335192a8d449row4_col5\" class=\"data row4 col5\" >0.24994</td>\n",
       "                        <td id=\"T_2a22b0da_3214_11ea_8e4c_335192a8d449row4_col6\" class=\"data row4 col6\" >0.275106</td>\n",
       "                        <td id=\"T_2a22b0da_3214_11ea_8e4c_335192a8d449row4_col7\" class=\"data row4 col7\" >0.0172206</td>\n",
       "            </tr>\n",
       "            <tr>\n",
       "                        <th id=\"T_2a22b0da_3214_11ea_8e4c_335192a8d449level0_row5\" class=\"row_heading level0 row5\" >5</th>\n",
       "                        <td id=\"T_2a22b0da_3214_11ea_8e4c_335192a8d449row5_col0\" class=\"data row5 col0\" >cnt+user</td>\n",
       "                        <td id=\"T_2a22b0da_3214_11ea_8e4c_335192a8d449row5_col1\" class=\"data row5 col1\" >0.267638</td>\n",
       "                        <td id=\"T_2a22b0da_3214_11ea_8e4c_335192a8d449row5_col2\" class=\"data row5 col2\" >0.263846</td>\n",
       "                        <td id=\"T_2a22b0da_3214_11ea_8e4c_335192a8d449row5_col3\" class=\"data row5 col3\" >0.280823</td>\n",
       "                        <td id=\"T_2a22b0da_3214_11ea_8e4c_335192a8d449row5_col4\" class=\"data row5 col4\" >0.287238</td>\n",
       "                        <td id=\"T_2a22b0da_3214_11ea_8e4c_335192a8d449row5_col5\" class=\"data row5 col5\" >0.270695</td>\n",
       "                        <td id=\"T_2a22b0da_3214_11ea_8e4c_335192a8d449row5_col6\" class=\"data row5 col6\" >0.274048</td>\n",
       "                        <td id=\"T_2a22b0da_3214_11ea_8e4c_335192a8d449row5_col7\" class=\"data row5 col7\" >0.00969909</td>\n",
       "            </tr>\n",
       "            <tr>\n",
       "                        <th id=\"T_2a22b0da_3214_11ea_8e4c_335192a8d449level0_row6\" class=\"row_heading level0 row6\" >6</th>\n",
       "                        <td id=\"T_2a22b0da_3214_11ea_8e4c_335192a8d449row6_col0\" class=\"data row6 col0\" >cnt+perf+var</td>\n",
       "                        <td id=\"T_2a22b0da_3214_11ea_8e4c_335192a8d449row6_col1\" class=\"data row6 col1\" >0.268211</td>\n",
       "                        <td id=\"T_2a22b0da_3214_11ea_8e4c_335192a8d449row6_col2\" class=\"data row6 col2\" >0.264924</td>\n",
       "                        <td id=\"T_2a22b0da_3214_11ea_8e4c_335192a8d449row6_col3\" class=\"data row6 col3\" >0.272204</td>\n",
       "                        <td id=\"T_2a22b0da_3214_11ea_8e4c_335192a8d449row6_col4\" class=\"data row6 col4\" >0.293188</td>\n",
       "                        <td id=\"T_2a22b0da_3214_11ea_8e4c_335192a8d449row6_col5\" class=\"data row6 col5\" >0.239004</td>\n",
       "                        <td id=\"T_2a22b0da_3214_11ea_8e4c_335192a8d449row6_col6\" class=\"data row6 col6\" >0.267506</td>\n",
       "                        <td id=\"T_2a22b0da_3214_11ea_8e4c_335192a8d449row6_col7\" class=\"data row6 col7\" >0.0193723</td>\n",
       "            </tr>\n",
       "            <tr>\n",
       "                        <th id=\"T_2a22b0da_3214_11ea_8e4c_335192a8d449level0_row7\" class=\"row_heading level0 row7\" >7</th>\n",
       "                        <td id=\"T_2a22b0da_3214_11ea_8e4c_335192a8d449row7_col0\" class=\"data row7 col0\" >cnt+perf</td>\n",
       "                        <td id=\"T_2a22b0da_3214_11ea_8e4c_335192a8d449row7_col1\" class=\"data row7 col1\" >0.262715</td>\n",
       "                        <td id=\"T_2a22b0da_3214_11ea_8e4c_335192a8d449row7_col2\" class=\"data row7 col2\" >0.263792</td>\n",
       "                        <td id=\"T_2a22b0da_3214_11ea_8e4c_335192a8d449row7_col3\" class=\"data row7 col3\" >0.269123</td>\n",
       "                        <td id=\"T_2a22b0da_3214_11ea_8e4c_335192a8d449row7_col4\" class=\"data row7 col4\" >0.291618</td>\n",
       "                        <td id=\"T_2a22b0da_3214_11ea_8e4c_335192a8d449row7_col5\" class=\"data row7 col5\" >0.243184</td>\n",
       "                        <td id=\"T_2a22b0da_3214_11ea_8e4c_335192a8d449row7_col6\" class=\"data row7 col6\" >0.266086</td>\n",
       "                        <td id=\"T_2a22b0da_3214_11ea_8e4c_335192a8d449row7_col7\" class=\"data row7 col7\" >0.0173367</td>\n",
       "            </tr>\n",
       "            <tr>\n",
       "                        <th id=\"T_2a22b0da_3214_11ea_8e4c_335192a8d449level0_row8\" class=\"row_heading level0 row8\" >8</th>\n",
       "                        <td id=\"T_2a22b0da_3214_11ea_8e4c_335192a8d449row8_col0\" class=\"data row8 col0\" >cnt+var</td>\n",
       "                        <td id=\"T_2a22b0da_3214_11ea_8e4c_335192a8d449row8_col1\" class=\"data row8 col1\" >0.25767</td>\n",
       "                        <td id=\"T_2a22b0da_3214_11ea_8e4c_335192a8d449row8_col2\" class=\"data row8 col2\" >0.253572</td>\n",
       "                        <td id=\"T_2a22b0da_3214_11ea_8e4c_335192a8d449row8_col3\" class=\"data row8 col3\" >0.269927</td>\n",
       "                        <td id=\"T_2a22b0da_3214_11ea_8e4c_335192a8d449row8_col4\" class=\"data row8 col4\" >0.287883</td>\n",
       "                        <td id=\"T_2a22b0da_3214_11ea_8e4c_335192a8d449row8_col5\" class=\"data row8 col5\" >0.249354</td>\n",
       "                        <td id=\"T_2a22b0da_3214_11ea_8e4c_335192a8d449row8_col6\" class=\"data row8 col6\" >0.263681</td>\n",
       "                        <td id=\"T_2a22b0da_3214_11ea_8e4c_335192a8d449row8_col7\" class=\"data row8 col7\" >0.0155589</td>\n",
       "            </tr>\n",
       "            <tr>\n",
       "                        <th id=\"T_2a22b0da_3214_11ea_8e4c_335192a8d449level0_row9\" class=\"row_heading level0 row9\" >9</th>\n",
       "                        <td id=\"T_2a22b0da_3214_11ea_8e4c_335192a8d449row9_col0\" class=\"data row9 col0\" >all</td>\n",
       "                        <td id=\"T_2a22b0da_3214_11ea_8e4c_335192a8d449row9_col1\" class=\"data row9 col1\" >0.260508</td>\n",
       "                        <td id=\"T_2a22b0da_3214_11ea_8e4c_335192a8d449row9_col2\" class=\"data row9 col2\" >0.252813</td>\n",
       "                        <td id=\"T_2a22b0da_3214_11ea_8e4c_335192a8d449row9_col3\" class=\"data row9 col3\" >0.263456</td>\n",
       "                        <td id=\"T_2a22b0da_3214_11ea_8e4c_335192a8d449row9_col4\" class=\"data row9 col4\" >0.296266</td>\n",
       "                        <td id=\"T_2a22b0da_3214_11ea_8e4c_335192a8d449row9_col5\" class=\"data row9 col5\" >0.244317</td>\n",
       "                        <td id=\"T_2a22b0da_3214_11ea_8e4c_335192a8d449row9_col6\" class=\"data row9 col6\" >0.263472</td>\n",
       "                        <td id=\"T_2a22b0da_3214_11ea_8e4c_335192a8d449row9_col7\" class=\"data row9 col7\" >0.0197784</td>\n",
       "            </tr>\n",
       "            <tr>\n",
       "                        <th id=\"T_2a22b0da_3214_11ea_8e4c_335192a8d449level0_row10\" class=\"row_heading level0 row10\" >10</th>\n",
       "                        <td id=\"T_2a22b0da_3214_11ea_8e4c_335192a8d449row10_col0\" class=\"data row10 col0\" >cnt</td>\n",
       "                        <td id=\"T_2a22b0da_3214_11ea_8e4c_335192a8d449row10_col1\" class=\"data row10 col1\" >0.260416</td>\n",
       "                        <td id=\"T_2a22b0da_3214_11ea_8e4c_335192a8d449row10_col2\" class=\"data row10 col2\" >0.244591</td>\n",
       "                        <td id=\"T_2a22b0da_3214_11ea_8e4c_335192a8d449row10_col3\" class=\"data row10 col3\" >0.268754</td>\n",
       "                        <td id=\"T_2a22b0da_3214_11ea_8e4c_335192a8d449row10_col4\" class=\"data row10 col4\" >0.290984</td>\n",
       "                        <td id=\"T_2a22b0da_3214_11ea_8e4c_335192a8d449row10_col5\" class=\"data row10 col5\" >0.244821</td>\n",
       "                        <td id=\"T_2a22b0da_3214_11ea_8e4c_335192a8d449row10_col6\" class=\"data row10 col6\" >0.261913</td>\n",
       "                        <td id=\"T_2a22b0da_3214_11ea_8e4c_335192a8d449row10_col7\" class=\"data row10 col7\" >0.0192767</td>\n",
       "            </tr>\n",
       "            <tr>\n",
       "                        <th id=\"T_2a22b0da_3214_11ea_8e4c_335192a8d449level0_row11\" class=\"row_heading level0 row11\" >11</th>\n",
       "                        <td id=\"T_2a22b0da_3214_11ea_8e4c_335192a8d449row11_col0\" class=\"data row11 col0\" >cnt+ts</td>\n",
       "                        <td id=\"T_2a22b0da_3214_11ea_8e4c_335192a8d449row11_col1\" class=\"data row11 col1\" >0.249808</td>\n",
       "                        <td id=\"T_2a22b0da_3214_11ea_8e4c_335192a8d449row11_col2\" class=\"data row11 col2\" >0.248804</td>\n",
       "                        <td id=\"T_2a22b0da_3214_11ea_8e4c_335192a8d449row11_col3\" class=\"data row11 col3\" >0.255658</td>\n",
       "                        <td id=\"T_2a22b0da_3214_11ea_8e4c_335192a8d449row11_col4\" class=\"data row11 col4\" >0.273954</td>\n",
       "                        <td id=\"T_2a22b0da_3214_11ea_8e4c_335192a8d449row11_col5\" class=\"data row11 col5\" >0.242718</td>\n",
       "                        <td id=\"T_2a22b0da_3214_11ea_8e4c_335192a8d449row11_col6\" class=\"data row11 col6\" >0.254188</td>\n",
       "                        <td id=\"T_2a22b0da_3214_11ea_8e4c_335192a8d449row11_col7\" class=\"data row11 col7\" >0.0119644</td>\n",
       "            </tr>\n",
       "            <tr>\n",
       "                        <th id=\"T_2a22b0da_3214_11ea_8e4c_335192a8d449level0_row12\" class=\"row_heading level0 row12\" >12</th>\n",
       "                        <td id=\"T_2a22b0da_3214_11ea_8e4c_335192a8d449row12_col0\" class=\"data row12 col0\" >perf+var</td>\n",
       "                        <td id=\"T_2a22b0da_3214_11ea_8e4c_335192a8d449row12_col1\" class=\"data row12 col1\" >0.214669</td>\n",
       "                        <td id=\"T_2a22b0da_3214_11ea_8e4c_335192a8d449row12_col2\" class=\"data row12 col2\" >0.182536</td>\n",
       "                        <td id=\"T_2a22b0da_3214_11ea_8e4c_335192a8d449row12_col3\" class=\"data row12 col3\" >0.187937</td>\n",
       "                        <td id=\"T_2a22b0da_3214_11ea_8e4c_335192a8d449row12_col4\" class=\"data row12 col4\" >0.216593</td>\n",
       "                        <td id=\"T_2a22b0da_3214_11ea_8e4c_335192a8d449row12_col5\" class=\"data row12 col5\" >0.17316</td>\n",
       "                        <td id=\"T_2a22b0da_3214_11ea_8e4c_335192a8d449row12_col6\" class=\"data row12 col6\" >0.194979</td>\n",
       "                        <td id=\"T_2a22b0da_3214_11ea_8e4c_335192a8d449row12_col7\" class=\"data row12 col7\" >0.0195919</td>\n",
       "            </tr>\n",
       "            <tr>\n",
       "                        <th id=\"T_2a22b0da_3214_11ea_8e4c_335192a8d449level0_row13\" class=\"row_heading level0 row13\" >13</th>\n",
       "                        <td id=\"T_2a22b0da_3214_11ea_8e4c_335192a8d449row13_col0\" class=\"data row13 col0\" >perf</td>\n",
       "                        <td id=\"T_2a22b0da_3214_11ea_8e4c_335192a8d449row13_col1\" class=\"data row13 col1\" >0.206062</td>\n",
       "                        <td id=\"T_2a22b0da_3214_11ea_8e4c_335192a8d449row13_col2\" class=\"data row13 col2\" >0.165998</td>\n",
       "                        <td id=\"T_2a22b0da_3214_11ea_8e4c_335192a8d449row13_col3\" class=\"data row13 col3\" >0.1728</td>\n",
       "                        <td id=\"T_2a22b0da_3214_11ea_8e4c_335192a8d449row13_col4\" class=\"data row13 col4\" >0.211995</td>\n",
       "                        <td id=\"T_2a22b0da_3214_11ea_8e4c_335192a8d449row13_col5\" class=\"data row13 col5\" >0.159521</td>\n",
       "                        <td id=\"T_2a22b0da_3214_11ea_8e4c_335192a8d449row13_col6\" class=\"data row13 col6\" >0.183275</td>\n",
       "                        <td id=\"T_2a22b0da_3214_11ea_8e4c_335192a8d449row13_col7\" class=\"data row13 col7\" >0.0240654</td>\n",
       "            </tr>\n",
       "            <tr>\n",
       "                        <th id=\"T_2a22b0da_3214_11ea_8e4c_335192a8d449level0_row14\" class=\"row_heading level0 row14\" >14</th>\n",
       "                        <td id=\"T_2a22b0da_3214_11ea_8e4c_335192a8d449row14_col0\" class=\"data row14 col0\" >perf+ts</td>\n",
       "                        <td id=\"T_2a22b0da_3214_11ea_8e4c_335192a8d449row14_col1\" class=\"data row14 col1\" >0.18577</td>\n",
       "                        <td id=\"T_2a22b0da_3214_11ea_8e4c_335192a8d449row14_col2\" class=\"data row14 col2\" >0.145683</td>\n",
       "                        <td id=\"T_2a22b0da_3214_11ea_8e4c_335192a8d449row14_col3\" class=\"data row14 col3\" >0.160253</td>\n",
       "                        <td id=\"T_2a22b0da_3214_11ea_8e4c_335192a8d449row14_col4\" class=\"data row14 col4\" >0.176738</td>\n",
       "                        <td id=\"T_2a22b0da_3214_11ea_8e4c_335192a8d449row14_col5\" class=\"data row14 col5\" >0.141773</td>\n",
       "                        <td id=\"T_2a22b0da_3214_11ea_8e4c_335192a8d449row14_col6\" class=\"data row14 col6\" >0.162043</td>\n",
       "                        <td id=\"T_2a22b0da_3214_11ea_8e4c_335192a8d449row14_col7\" class=\"data row14 col7\" >0.0191093</td>\n",
       "            </tr>\n",
       "            <tr>\n",
       "                        <th id=\"T_2a22b0da_3214_11ea_8e4c_335192a8d449level0_row15\" class=\"row_heading level0 row15\" >15</th>\n",
       "                        <td id=\"T_2a22b0da_3214_11ea_8e4c_335192a8d449row15_col0\" class=\"data row15 col0\" >event</td>\n",
       "                        <td id=\"T_2a22b0da_3214_11ea_8e4c_335192a8d449row15_col1\" class=\"data row15 col1\" >0.145553</td>\n",
       "                        <td id=\"T_2a22b0da_3214_11ea_8e4c_335192a8d449row15_col2\" class=\"data row15 col2\" >0.162732</td>\n",
       "                        <td id=\"T_2a22b0da_3214_11ea_8e4c_335192a8d449row15_col3\" class=\"data row15 col3\" >0.119935</td>\n",
       "                        <td id=\"T_2a22b0da_3214_11ea_8e4c_335192a8d449row15_col4\" class=\"data row15 col4\" >0.170449</td>\n",
       "                        <td id=\"T_2a22b0da_3214_11ea_8e4c_335192a8d449row15_col5\" class=\"data row15 col5\" >0.152481</td>\n",
       "                        <td id=\"T_2a22b0da_3214_11ea_8e4c_335192a8d449row15_col6\" class=\"data row15 col6\" >0.15023</td>\n",
       "                        <td id=\"T_2a22b0da_3214_11ea_8e4c_335192a8d449row15_col7\" class=\"data row15 col7\" >0.0194283</td>\n",
       "            </tr>\n",
       "            <tr>\n",
       "                        <th id=\"T_2a22b0da_3214_11ea_8e4c_335192a8d449level0_row16\" class=\"row_heading level0 row16\" >16</th>\n",
       "                        <td id=\"T_2a22b0da_3214_11ea_8e4c_335192a8d449row16_col0\" class=\"data row16 col0\" >user</td>\n",
       "                        <td id=\"T_2a22b0da_3214_11ea_8e4c_335192a8d449row16_col1\" class=\"data row16 col1\" >0.122216</td>\n",
       "                        <td id=\"T_2a22b0da_3214_11ea_8e4c_335192a8d449row16_col2\" class=\"data row16 col2\" >0.0762577</td>\n",
       "                        <td id=\"T_2a22b0da_3214_11ea_8e4c_335192a8d449row16_col3\" class=\"data row16 col3\" >0.0679106</td>\n",
       "                        <td id=\"T_2a22b0da_3214_11ea_8e4c_335192a8d449row16_col4\" class=\"data row16 col4\" >0.114041</td>\n",
       "                        <td id=\"T_2a22b0da_3214_11ea_8e4c_335192a8d449row16_col5\" class=\"data row16 col5\" >0.0881983</td>\n",
       "                        <td id=\"T_2a22b0da_3214_11ea_8e4c_335192a8d449row16_col6\" class=\"data row16 col6\" >0.0937247</td>\n",
       "                        <td id=\"T_2a22b0da_3214_11ea_8e4c_335192a8d449row16_col7\" class=\"data row16 col7\" >0.023593</td>\n",
       "            </tr>\n",
       "            <tr>\n",
       "                        <th id=\"T_2a22b0da_3214_11ea_8e4c_335192a8d449level0_row17\" class=\"row_heading level0 row17\" >17</th>\n",
       "                        <td id=\"T_2a22b0da_3214_11ea_8e4c_335192a8d449row17_col0\" class=\"data row17 col0\" >var</td>\n",
       "                        <td id=\"T_2a22b0da_3214_11ea_8e4c_335192a8d449row17_col1\" class=\"data row17 col1\" >0.0743073</td>\n",
       "                        <td id=\"T_2a22b0da_3214_11ea_8e4c_335192a8d449row17_col2\" class=\"data row17 col2\" >0.0602061</td>\n",
       "                        <td id=\"T_2a22b0da_3214_11ea_8e4c_335192a8d449row17_col3\" class=\"data row17 col3\" >0.0623053</td>\n",
       "                        <td id=\"T_2a22b0da_3214_11ea_8e4c_335192a8d449row17_col4\" class=\"data row17 col4\" >0.0631724</td>\n",
       "                        <td id=\"T_2a22b0da_3214_11ea_8e4c_335192a8d449row17_col5\" class=\"data row17 col5\" >0.0643714</td>\n",
       "                        <td id=\"T_2a22b0da_3214_11ea_8e4c_335192a8d449row17_col6\" class=\"data row17 col6\" >0.0648725</td>\n",
       "                        <td id=\"T_2a22b0da_3214_11ea_8e4c_335192a8d449row17_col7\" class=\"data row17 col7\" >0.00548916</td>\n",
       "            </tr>\n",
       "            <tr>\n",
       "                        <th id=\"T_2a22b0da_3214_11ea_8e4c_335192a8d449level0_row18\" class=\"row_heading level0 row18\" >18</th>\n",
       "                        <td id=\"T_2a22b0da_3214_11ea_8e4c_335192a8d449row18_col0\" class=\"data row18 col0\" >ts</td>\n",
       "                        <td id=\"T_2a22b0da_3214_11ea_8e4c_335192a8d449row18_col1\" class=\"data row18 col1\" >0.0352601</td>\n",
       "                        <td id=\"T_2a22b0da_3214_11ea_8e4c_335192a8d449row18_col2\" class=\"data row18 col2\" >0</td>\n",
       "                        <td id=\"T_2a22b0da_3214_11ea_8e4c_335192a8d449row18_col3\" class=\"data row18 col3\" >0</td>\n",
       "                        <td id=\"T_2a22b0da_3214_11ea_8e4c_335192a8d449row18_col4\" class=\"data row18 col4\" >0.0187448</td>\n",
       "                        <td id=\"T_2a22b0da_3214_11ea_8e4c_335192a8d449row18_col5\" class=\"data row18 col5\" >0.0189879</td>\n",
       "                        <td id=\"T_2a22b0da_3214_11ea_8e4c_335192a8d449row18_col6\" class=\"data row18 col6\" >0.0145986</td>\n",
       "                        <td id=\"T_2a22b0da_3214_11ea_8e4c_335192a8d449row18_col7\" class=\"data row18 col7\" >0.014913</td>\n",
       "            </tr>\n",
       "    </tbody></table>"
      ],
      "text/plain": [
       "<pandas.io.formats.style.Styler at 0x7f8574f0d7b8>"
      ]
     },
     "execution_count": 35,
     "metadata": {},
     "output_type": "execute_result"
    }
   ],
   "source": [
    "benchmark.style.apply(highlight_best)"
   ]
  },
  {
   "cell_type": "code",
   "execution_count": 204,
   "metadata": {
    "hidden": true
   },
   "outputs": [
    {
     "data": {
      "text/plain": [
       "array([ True, False, False, False, False, False, False, False, False,\n",
       "       False, False, False, False, False, False])"
      ]
     },
     "execution_count": 204,
     "metadata": {},
     "output_type": "execute_result"
    }
   ],
   "source": [
    "report['cv_cappa_1'].index == report['cv_cappa_1'].argmax()"
   ]
  },
  {
   "cell_type": "code",
   "execution_count": 193,
   "metadata": {
    "hidden": true
   },
   "outputs": [
    {
     "data": {
      "text/plain": [
       "['cv_cappa_1', 'cv_cappa_2', 'cv_cappa_3', 'cv_cappa_4', 'cv_cappa_5']"
      ]
     },
     "execution_count": 193,
     "metadata": {},
     "output_type": "execute_result"
    }
   ],
   "source": [
    "for cappa_col in starts_with(report.columns, 'cv_cappa_'):\n",
    "    report[cappa_col].argmax"
   ]
  },
  {
   "cell_type": "code",
   "execution_count": 151,
   "metadata": {
    "hidden": true
   },
   "outputs": [],
   "source": [
    "import json\n",
    "sample = trn_data.sample(1_000_000)\n",
    "event_data = pd.io.json.json_normalize(sample.event_data.apply(json.loads))"
   ]
  },
  {
   "cell_type": "code",
   "execution_count": 153,
   "metadata": {
    "hidden": true
   },
   "outputs": [],
   "source": [
    "from dataset import existing_info\n",
    "stat_info = existing_info(event_data).T.reset_index()"
   ]
  },
  {
   "cell_type": "code",
   "execution_count": 157,
   "metadata": {
    "hidden": true
   },
   "outputs": [
    {
     "data": {
      "image/png": "[encoded data removed]",
      "text/plain": [
       "<Figure size 576x864 with 1 Axes>"
      ]
     },
     "metadata": {
      "needs_background": "light"
     },
     "output_type": "display_data"
    }
   ],
   "source": [
    "%matplotlib inline\n",
    "import matplotlib.pyplot as plt\n",
    "import seaborn as sns\n",
    "f, ax = plt.subplots(figsize=(8, 12))\n",
    "ax = sns.barplot(x='Percent', y='index', data=stat_info.head(40))\n",
    "ax.set_title('Most Frequent Features')\n",
    "ax.set_ylabel('Features')\n",
    "ax.grid(True, linestyle='dotted')"
   ]
  },
  {
   "cell_type": "code",
   "execution_count": 171,
   "metadata": {
    "hidden": true
   },
   "outputs": [],
   "source": [
    "freq_keys = stat_info['index'][stat_info['Percent'] >= 5.].tolist()"
   ]
  },
  {
   "cell_type": "code",
   "execution_count": 172,
   "metadata": {
    "hidden": true
   },
   "outputs": [
    {
     "data": {
      "text/plain": [
       "['event_code',\n",
       " 'event_count',\n",
       " 'game_time',\n",
       " 'round',\n",
       " 'coordinates.x',\n",
       " 'coordinates.y',\n",
       " 'coordinates.stage_width',\n",
       " 'coordinates.stage_height',\n",
       " 'description',\n",
       " 'identifier',\n",
       " 'media_type',\n",
       " 'duration',\n",
       " 'total_duration',\n",
       " 'source',\n",
       " 'level',\n",
       " 'correct',\n",
       " 'size',\n",
       " 'weight']"
      ]
     },
     "execution_count": 172,
     "metadata": {},
     "output_type": "execute_result"
    }
   ],
   "source": [
    "freq_keys"
   ]
  },
  {
   "cell_type": "code",
   "execution_count": 246,
   "metadata": {
    "hidden": true
   },
   "outputs": [
    {
     "data": {
      "text/plain": [
       "<matplotlib.axes._subplots.AxesSubplot at 0x7fe1daee69e8>"
      ]
     },
     "execution_count": 246,
     "metadata": {},
     "output_type": "execute_result"
    },
    {
     "data": {
      "image/png": "[encoded data removed]",
      "text/plain": [
       "<Figure size 432x288 with 1 Axes>"
      ]
     },
     "metadata": {
      "needs_background": "light"
     },
     "output_type": "display_data"
    }
   ],
   "source": [
    "round_df = event_data['round'].fillna(0).value_counts().reset_index()\n",
    "round_df['index'] = round_df['index'].astype(int)\n",
    "round_df.sort_values(by='index', inplace=True)\n",
    "round_df.plot(x='index', y='round')"
   ]
  },
  {
   "cell_type": "code",
   "execution_count": 251,
   "metadata": {
    "hidden": true
   },
   "outputs": [
    {
     "data": {
      "text/plain": [
       "True"
      ]
     },
     "execution_count": 251,
     "metadata": {},
     "output_type": "execute_result"
    }
   ],
   "source": [
    "np.isnan(event_data['coordinates.x'].iloc[3])"
   ]
  },
  {
   "cell_type": "code",
   "execution_count": 248,
   "metadata": {
    "hidden": true
   },
   "outputs": [
    {
     "data": {
      "text/plain": [
       "0         954.0\n",
       "1         393.0\n",
       "2           0.0\n",
       "3           0.0\n",
       "4           0.0\n",
       "          ...  \n",
       "999995    910.0\n",
       "999996    752.0\n",
       "999997    646.0\n",
       "999998      0.0\n",
       "999999    337.0\n",
       "Name: coordinates.x, Length: 1000000, dtype: float64"
      ]
     },
     "execution_count": 248,
     "metadata": {},
     "output_type": "execute_result"
    }
   ],
   "source": [
    "event_data['coordinates.x'].fillna(0)"
   ]
  },
  {
   "cell_type": "code",
   "execution_count": 266,
   "metadata": {
    "hidden": true
   },
   "outputs": [
    {
     "data": {
      "text/plain": [
       "unknown      665828\n",
       "animation    222336\n",
       "audio        111836\n",
       "Name: media_type, dtype: int64"
      ]
     },
     "execution_count": 266,
     "metadata": {},
     "output_type": "execute_result"
    }
   ],
   "source": [
    "event_data['media_type'].fillna('unknown').value_counts()"
   ]
  },
  {
   "cell_type": "code",
   "execution_count": 234,
   "metadata": {
    "hidden": true
   },
   "outputs": [],
   "source": [
    "# round: float with NaNs\n",
    "# coordinates.(x|y): float with NaNs, but presumably integer\n",
    "# coordinates.stage_(width|height): float with NaNs, but presumably categorical\n",
    "#\n",
    "# description: text messages, try to convert into categoricals?\n",
    "#     (event_data['description'].fillna('n/a').value_counts()\n",
    "#      .rename('count').reset_index().rename(columns={'index': 'text'}))\n",
    "#\n",
    "# identifier: some string, probably concatenated with commas; most simple is to compute len\n",
    "# event_data['identifier'].fillna('n/a').str.split(',').apply(len)\n",
    "#\n",
    "# media_type: categorical string\n",
    "# event_data['media_type'].fillna('n/a').value_counts()\n",
    "#\n",
    "# duration: should already exist in the features set\n",
    "# total_duration: probably also present in the features\n",
    "#\n",
    "# source: also some kind of categorical string\n",
    "# event_data['source'].fillna('n/a').value_counts()\n",
    "#\n",
    "# level: integer feature, can be used as a cumulative metric (?)\n",
    "# event_data['level'].fillna('n/a').value_counts()\n",
    "#\n",
    "# correct: defines if attempt was done, is already used in feature processing\n",
    "# \n",
    "# size: integer feature\n",
    "# event_data['size'].fillna('n/a').value_counts()\n",
    "#\n",
    "# weight: one more integer feature\n",
    "# event_data['weight'].fillna('n/a').value_counts()"
   ]
  },
  {
   "cell_type": "markdown",
   "metadata": {},
   "source": [
    "## Features Selection"
   ]
  },
  {
   "cell_type": "code",
   "execution_count": 10,
   "metadata": {},
   "outputs": [
    {
     "name": "stdout",
     "output_type": "stream",
     "text": [
      "Deriving relevant features from train dataset.\n",
      "Excluding from consideration: ['accuracy_group', 'installation_id', 'game_session']\n",
      "Applying feature selection rule: nonzero\n",
      "Selected features: 935 of 950\n",
      "Applying feature selection rule: uncorr\n"
     ]
    },
    {
     "data": {
      "application/vnd.jupyter.widget-view+json": {
       "model_id": "5d03906001d14afab37c39dad6f970de",
       "version_major": 2,
       "version_minor": 0
      },
      "text/plain": [
       "HBox(children=(IntProgress(value=0, max=447931), HTML(value='')))"
      ]
     },
     "metadata": {},
     "output_type": "display_data"
    },
    {
     "name": "stderr",
     "output_type": "stream",
     "text": [
      "/home/ck/anaconda3/envs/fastai_10/lib/python3.7/site-packages/numpy/lib/function_base.py:2530: RuntimeWarning: invalid value encountered in true_divide\n",
      "  c /= stddev[:, None]\n",
      "/home/ck/anaconda3/envs/fastai_10/lib/python3.7/site-packages/numpy/lib/function_base.py:2531: RuntimeWarning: invalid value encountered in true_divide\n",
      "  c /= stddev[None, :]\n"
     ]
    },
    {
     "name": "stdout",
     "output_type": "stream",
     "text": [
      "\n",
      "Selected features: 441 of 950\n",
      "Keeping only features, selected by every rule.\n",
      "Final number of features changed from 950 to 429\n"
     ]
    }
   ],
   "source": [
    "selector = selection.FeatureSelection(\n",
    "    rules=[\n",
    "        ('nonzero', selection.non_zero_rows_and_cols),\n",
    "        ('uncorr', selection.non_correlated_cols),\n",
    "    ],\n",
    "    ignore_cols=[\n",
    "        'accuracy_group', \n",
    "        'installation_id', \n",
    "        'game_session'\n",
    "    ]\n",
    ")\n",
    "\n",
    "if U.on_kaggle():\n",
    "    U.log('Loading relevant features list from disk.')\n",
    "    features = bundle.features()\n",
    "else:\n",
    "    U.log('Deriving relevant features from train dataset.')\n",
    "    features = selector.select(X_trn)\n",
    "    bundle.save(features, 'features')"
   ]
  },
  {
   "cell_type": "markdown",
   "metadata": {},
   "source": [
    "## Submission"
   ]
  },
  {
   "cell_type": "code",
   "execution_count": 12,
   "metadata": {},
   "outputs": [
    {
     "name": "stdout",
     "output_type": "stream",
     "text": [
      "Training with sub-optimal rounding.\n",
      "Running k-fold 1 of 5\n",
      "Training until validation scores don't improve for 100 rounds.\n",
      "[100]\ttrn's rmse: 1.03695\ttrn's cappa: 0.377313\tval's rmse: 1.05461\tval's cappa: 0.34896\n",
      "[200]\ttrn's rmse: 0.964831\ttrn's cappa: 0.486422\tval's rmse: 0.999919\tval's cappa: 0.453698\n",
      "[300]\ttrn's rmse: 0.929411\ttrn's cappa: 0.514166\tval's rmse: 0.983294\tval's cappa: 0.471362\n",
      "[400]\ttrn's rmse: 0.903972\ttrn's cappa: 0.530141\tval's rmse: 0.975349\tval's cappa: 0.472125\n",
      "[500]\ttrn's rmse: 0.883368\ttrn's cappa: 0.545427\tval's rmse: 0.971314\tval's cappa: 0.474345\n",
      "[600]\ttrn's rmse: 0.865445\ttrn's cappa: 0.556055\tval's rmse: 0.969125\tval's cappa: 0.474981\n",
      "[700]\ttrn's rmse: 0.849136\ttrn's cappa: 0.565808\tval's rmse: 0.968358\tval's cappa: 0.477246\n",
      "[800]\ttrn's rmse: 0.83407\ttrn's cappa: 0.575531\tval's rmse: 0.967616\tval's cappa: 0.479028\n",
      "[900]\ttrn's rmse: 0.820082\ttrn's cappa: 0.586228\tval's rmse: 0.967105\tval's cappa: 0.480056\n",
      "[1000]\ttrn's rmse: 0.806759\ttrn's cappa: 0.596583\tval's rmse: 0.967028\tval's cappa: 0.479519\n",
      "Early stopping, best iteration is:\n",
      "[920]\ttrn's rmse: 0.817386\ttrn's cappa: 0.58822\tval's rmse: 0.966867\tval's cappa: 0.480928\n",
      "Running k-fold 2 of 5\n",
      "Training until validation scores don't improve for 100 rounds.\n",
      "[100]\ttrn's rmse: 1.03297\ttrn's cappa: 0.392073\tval's rmse: 1.06176\tval's cappa: 0.36219\n",
      "[200]\ttrn's rmse: 0.963645\ttrn's cappa: 0.489632\tval's rmse: 1.01039\tval's cappa: 0.436824\n",
      "[300]\ttrn's rmse: 0.92857\ttrn's cappa: 0.516491\tval's rmse: 0.993104\tval's cappa: 0.458947\n",
      "[400]\ttrn's rmse: 0.903943\ttrn's cappa: 0.533502\tval's rmse: 0.985802\tval's cappa: 0.463969\n",
      "[500]\ttrn's rmse: 0.883898\ttrn's cappa: 0.545877\tval's rmse: 0.982033\tval's cappa: 0.469324\n",
      "[600]\ttrn's rmse: 0.866502\ttrn's cappa: 0.555253\tval's rmse: 0.979645\tval's cappa: 0.468139\n",
      "Early stopping, best iteration is:\n",
      "[559]\ttrn's rmse: 0.873407\ttrn's cappa: 0.551949\tval's rmse: 0.980129\tval's cappa: 0.471319\n",
      "Running k-fold 3 of 5\n",
      "Training until validation scores don't improve for 100 rounds.\n",
      "[100]\ttrn's rmse: 1.03809\ttrn's cappa: 0.39156\tval's rmse: 1.04462\tval's cappa: 0.349462\n",
      "[200]\ttrn's rmse: 0.964961\ttrn's cappa: 0.495103\tval's rmse: 0.996278\tval's cappa: 0.424963\n",
      "[300]\ttrn's rmse: 0.928999\ttrn's cappa: 0.52317\tval's rmse: 0.980323\tval's cappa: 0.443485\n",
      "[400]\ttrn's rmse: 0.904491\ttrn's cappa: 0.538101\tval's rmse: 0.974381\tval's cappa: 0.450002\n",
      "Early stopping, best iteration is:\n",
      "[391]\ttrn's rmse: 0.906469\ttrn's cappa: 0.536005\tval's rmse: 0.974675\tval's cappa: 0.45078\n",
      "Running k-fold 4 of 5\n",
      "Training until validation scores don't improve for 100 rounds.\n",
      "[100]\ttrn's rmse: 1.03076\ttrn's cappa: 0.391012\tval's rmse: 1.0683\tval's cappa: 0.349613\n",
      "[200]\ttrn's rmse: 0.957544\ttrn's cappa: 0.498459\tval's rmse: 1.01825\tval's cappa: 0.441315\n",
      "[300]\ttrn's rmse: 0.921904\ttrn's cappa: 0.523609\tval's rmse: 1.00319\tval's cappa: 0.458344\n",
      "[400]\ttrn's rmse: 0.896761\ttrn's cappa: 0.536793\tval's rmse: 0.996535\tval's cappa: 0.460556\n",
      "Early stopping, best iteration is:\n",
      "[346]\ttrn's rmse: 0.909564\ttrn's cappa: 0.530072\tval's rmse: 0.999556\tval's cappa: 0.462437\n",
      "Running k-fold 5 of 5\n",
      "Training until validation scores don't improve for 100 rounds.\n",
      "[100]\ttrn's rmse: 1.0278\ttrn's cappa: 0.398202\tval's rmse: 1.07462\tval's cappa: 0.34178\n",
      "[200]\ttrn's rmse: 0.955697\ttrn's cappa: 0.500298\tval's rmse: 1.02947\tval's cappa: 0.432987\n",
      "[300]\ttrn's rmse: 0.919754\ttrn's cappa: 0.522248\tval's rmse: 1.01608\tval's cappa: 0.446468\n",
      "[400]\ttrn's rmse: 0.894449\ttrn's cappa: 0.537605\tval's rmse: 1.01095\tval's cappa: 0.452388\n",
      "[500]\ttrn's rmse: 0.874094\ttrn's cappa: 0.55231\tval's rmse: 1.00847\tval's cappa: 0.451576\n",
      "[600]\ttrn's rmse: 0.856329\ttrn's cappa: 0.564978\tval's rmse: 1.00704\tval's cappa: 0.4548\n",
      "[700]\ttrn's rmse: 0.84016\ttrn's cappa: 0.575291\tval's rmse: 1.00614\tval's cappa: 0.454287\n",
      "Early stopping, best iteration is:\n",
      "[634]\ttrn's rmse: 0.850598\ttrn's cappa: 0.56802\tval's rmse: 1.00653\tval's cappa: 0.455646\n",
      "Using predictions to find optimal rounding boundaries.\n",
      "Optimal values: [-inf, 0.5590732338241071, 1.6187945321701238, 2.182339888347806, inf]\n",
      "Using optimal boundaries to train a new ensemble of models.\n",
      "Running k-fold 1 of 5\n",
      "Training until validation scores don't improve for 100 rounds.\n",
      "[100]\ttrn's rmse: 1.03695\ttrn's cappa: 0.513042\tval's rmse: 1.05461\tval's cappa: 0.499263\n",
      "[200]\ttrn's rmse: 0.964831\ttrn's cappa: 0.570087\tval's rmse: 0.999919\tval's cappa: 0.525266\n",
      "[300]\ttrn's rmse: 0.929411\ttrn's cappa: 0.626256\tval's rmse: 0.983294\tval's cappa: 0.565738\n",
      "[400]\ttrn's rmse: 0.903972\ttrn's cappa: 0.655547\tval's rmse: 0.975349\tval's cappa: 0.577637\n",
      "[500]\ttrn's rmse: 0.883368\ttrn's cappa: 0.673373\tval's rmse: 0.971314\tval's cappa: 0.582454\n",
      "[600]\ttrn's rmse: 0.865445\ttrn's cappa: 0.689154\tval's rmse: 0.969125\tval's cappa: 0.585366\n",
      "Early stopping, best iteration is:\n",
      "[519]\ttrn's rmse: 0.879783\ttrn's cappa: 0.676404\tval's rmse: 0.9707\tval's cappa: 0.587329\n",
      "Running k-fold 2 of 5\n",
      "Training until validation scores don't improve for 100 rounds.\n",
      "[100]\ttrn's rmse: 1.03297\ttrn's cappa: 0.515716\tval's rmse: 1.06176\tval's cappa: 0.470987\n",
      "[200]\ttrn's rmse: 0.963645\ttrn's cappa: 0.570548\tval's rmse: 1.01039\tval's cappa: 0.519165\n",
      "[300]\ttrn's rmse: 0.92857\ttrn's cappa: 0.625576\tval's rmse: 0.993104\tval's cappa: 0.557221\n",
      "[400]\ttrn's rmse: 0.903943\ttrn's cappa: 0.653114\tval's rmse: 0.985802\tval's cappa: 0.577142\n",
      "[500]\ttrn's rmse: 0.883898\ttrn's cappa: 0.671964\tval's rmse: 0.982033\tval's cappa: 0.579212\n",
      "[600]\ttrn's rmse: 0.866502\ttrn's cappa: 0.68937\tval's rmse: 0.979645\tval's cappa: 0.581544\n",
      "[700]\ttrn's rmse: 0.850705\ttrn's cappa: 0.702421\tval's rmse: 0.978367\tval's cappa: 0.585284\n",
      "Early stopping, best iteration is:\n",
      "[699]\ttrn's rmse: 0.850832\ttrn's cappa: 0.702468\tval's rmse: 0.978352\tval's cappa: 0.585959\n",
      "Running k-fold 3 of 5\n",
      "Training until validation scores don't improve for 100 rounds.\n",
      "[100]\ttrn's rmse: 1.03809\ttrn's cappa: 0.514363\tval's rmse: 1.04462\tval's cappa: 0.481961\n",
      "[200]\ttrn's rmse: 0.964961\ttrn's cappa: 0.579005\tval's rmse: 0.996278\tval's cappa: 0.519441\n",
      "[300]\ttrn's rmse: 0.928999\ttrn's cappa: 0.631993\tval's rmse: 0.980323\tval's cappa: 0.549066\n",
      "[400]\ttrn's rmse: 0.904491\ttrn's cappa: 0.657152\tval's rmse: 0.974381\tval's cappa: 0.56171\n",
      "[500]\ttrn's rmse: 0.883969\ttrn's cappa: 0.675234\tval's rmse: 0.970851\tval's cappa: 0.570738\n",
      "[600]\ttrn's rmse: 0.866227\ttrn's cappa: 0.692312\tval's rmse: 0.969718\tval's cappa: 0.575092\n",
      "[700]\ttrn's rmse: 0.850132\ttrn's cappa: 0.705813\tval's rmse: 0.968708\tval's cappa: 0.575571\n",
      "Early stopping, best iteration is:\n",
      "[677]\ttrn's rmse: 0.853744\ttrn's cappa: 0.702707\tval's rmse: 0.968673\tval's cappa: 0.578879\n",
      "Running k-fold 4 of 5\n",
      "Training until validation scores don't improve for 100 rounds.\n",
      "[100]\ttrn's rmse: 1.03076\ttrn's cappa: 0.522093\tval's rmse: 1.0683\tval's cappa: 0.477154\n",
      "[200]\ttrn's rmse: 0.957544\ttrn's cappa: 0.574707\tval's rmse: 1.01825\tval's cappa: 0.51241\n",
      "[300]\ttrn's rmse: 0.921904\ttrn's cappa: 0.63341\tval's rmse: 1.00319\tval's cappa: 0.553212\n",
      "[400]\ttrn's rmse: 0.896761\ttrn's cappa: 0.662118\tval's rmse: 0.996535\tval's cappa: 0.568219\n",
      "[500]\ttrn's rmse: 0.876537\ttrn's cappa: 0.679414\tval's rmse: 0.993399\tval's cappa: 0.574725\n",
      "[600]\ttrn's rmse: 0.858873\ttrn's cappa: 0.695777\tval's rmse: 0.991931\tval's cappa: 0.574129\n",
      "Early stopping, best iteration is:\n",
      "[513]\ttrn's rmse: 0.873938\ttrn's cappa: 0.682449\tval's rmse: 0.993101\tval's cappa: 0.576133\n",
      "Running k-fold 5 of 5\n",
      "Training until validation scores don't improve for 100 rounds.\n",
      "[100]\ttrn's rmse: 1.0278\ttrn's cappa: 0.520721\tval's rmse: 1.07462\tval's cappa: 0.451012\n",
      "[200]\ttrn's rmse: 0.955697\ttrn's cappa: 0.578613\tval's rmse: 1.02947\tval's cappa: 0.48688\n",
      "[300]\ttrn's rmse: 0.919754\ttrn's cappa: 0.636773\tval's rmse: 1.01608\tval's cappa: 0.528007\n",
      "[400]\ttrn's rmse: 0.894449\ttrn's cappa: 0.66094\tval's rmse: 1.01095\tval's cappa: 0.544962\n",
      "[500]\ttrn's rmse: 0.874094\ttrn's cappa: 0.681216\tval's rmse: 1.00847\tval's cappa: 0.549621\n",
      "[600]\ttrn's rmse: 0.856329\ttrn's cappa: 0.698801\tval's rmse: 1.00704\tval's cappa: 0.551268\n",
      "[700]\ttrn's rmse: 0.84016\ttrn's cappa: 0.713081\tval's rmse: 1.00614\tval's cappa: 0.553168\n",
      "Early stopping, best iteration is:\n",
      "[628]\ttrn's rmse: 0.851518\ttrn's cappa: 0.703622\tval's rmse: 1.00655\tval's cappa: 0.553575\n",
      "Saving the final results.\n"
     ]
    }
   ],
   "source": [
    "algo = 'lightgbm'\n",
    "version = '012'\n",
    "\n",
    "if U.on_kaggle():\n",
    "    U.log('Inference on Kaggle.')\n",
    "    predicted = inference(X_tst, features, bounds=bounds, model=algo, version=version)\n",
    "    U.log('Saving predictions on disk.')\n",
    "    filename = submit(predicted)\n",
    "    submit_df = pd.read_csv(filename)\n",
    "    U.log('First 20 submission rows:')\n",
    "    display(submit_df.head(20))\n",
    "    \n",
    "else:\n",
    "    U.log('Training with sub-optimal rounding.')\n",
    "    reg_metric = RegressionCappa([-np.inf, 1., 2., 3., +np.inf])\n",
    "    result = train(X_trn, features, reg_metric, algo=algo)\n",
    "    \n",
    "    U.log('Using predictions to find optimal rounding boundaries.')\n",
    "    opt_bounds = optimize_rounding_bounds(result.oof, X_trn['accuracy_group'].values)\n",
    "    U.log(f'Optimal values: {opt_bounds}')\n",
    "    \n",
    "    U.log('Using optimal boundaries to train a new ensemble of models.')\n",
    "    reg_metric = RegressionCappa(opt_bounds)\n",
    "    result = train(X_trn, features, reg_metric, algo=algo)\n",
    "    \n",
    "    U.log('Saving the final results.')\n",
    "    bundle.save(result.models, f'models_{algo}_{version}')\n",
    "    bundle.save(opt_bounds, 'bounds')"
   ]
  },
  {
   "cell_type": "code",
   "execution_count": 13,
   "metadata": {},
   "outputs": [
    {
     "name": "stdout",
     "output_type": "stream",
     "text": [
      "Running inference on dataset of shape: 429\n",
      "Loading external models: lightgbm v012.\n",
      "Running models on test data...\n",
      "Averaging ensemble predictions.\n",
      "Rounding predictions using optimal bounds.\n",
      "Converting predictions into submission file.\n",
      "Running locally.\n",
      "(1000, 2) Packaging training results into dataset.\n",
      "/tmp/bowl2019/meta.joblib --> /home/ck/data/bowl2019/external/meta.joblib\n",
      "/tmp/bowl2019/models_lightgbm_012.joblib --> /home/ck/data/bowl2019/external/models_lightgbm_012.joblib\n",
      "/tmp/bowl2019/bounds.joblib --> /home/ck/data/bowl2019/external/bounds.joblib\n",
      "/tmp/bowl2019/models_lightgbm_010.joblib --> /home/ck/data/bowl2019/external/models_lightgbm_010.joblib\n",
      "/tmp/bowl2019/features.joblib --> /home/ck/data/bowl2019/external/features.joblib\n",
      "/tmp/bowl2019/encoders.joblib --> /home/ck/data/bowl2019/external/encoders.joblib\n",
      "/tmp/bowl2019/models_lightgbm_011.joblib --> /home/ck/data/bowl2019/external/models_lightgbm_011.joblib\n",
      "/tmp/bowl2019/models_lightgbm_008.joblib --> /home/ck/data/bowl2019/external/models_lightgbm_008.joblib\n",
      "Packaging helper scripts into dataset.\n",
      "../selection.py --> /home/ck/data/bowl2019/external/selection.py\n",
      "../encode.py --> /home/ck/data/bowl2019/external/encode.py\n",
      "../features.py --> /home/ck/data/bowl2019/external/features.py\n",
      "../training.py --> /home/ck/data/bowl2019/external/training.py\n",
      "../style.py --> /home/ck/data/bowl2019/external/style.py\n",
      "../basedir.py --> /home/ck/data/bowl2019/external/basedir.py\n",
      "../dataset.py --> /home/ck/data/bowl2019/external/dataset.py\n",
      "../models.py --> /home/ck/data/bowl2019/external/models.py\n",
      "../extract_features.py --> /home/ck/data/bowl2019/external/extract_features.py\n",
      "../plots.py --> /home/ck/data/bowl2019/external/plots.py\n",
      "../meta.py --> /home/ck/data/bowl2019/external/meta.py\n",
      "../bundle.py --> /home/ck/data/bowl2019/external/bundle.py\n",
      "../metric.py --> /home/ck/data/bowl2019/external/metric.py\n",
      "../utils.py --> /home/ck/data/bowl2019/external/utils.py\n"
     ]
    }
   ],
   "source": [
    "if not U.on_kaggle():\n",
    "    import os\n",
    "    features = bundle.features()\n",
    "    bounds = bundle.bounds()\n",
    "    filename = submit(inference(X_tst, features, bounds, model=algo, version=version))\n",
    "    assert os.path.exists(filename)\n",
    "    assert pd.read_csv(filename).shape[0] == 1000\n",
    "    bundle.package(folder='/home/ck/data/bowl2019/external/')"
   ]
  },
  {
   "cell_type": "code",
   "execution_count": null,
   "metadata": {},
   "outputs": [],
   "source": []
  }
 ],
 "metadata": {
  "kernelspec": {
   "display_name": "fastai (cuda 10)",
   "language": "python",
   "name": "fastai"
  },
  "language_info": {
   "codemirror_mode": {
    "name": "ipython",
    "version": 3
   },
   "file_extension": ".py",
   "mimetype": "text/x-python",
   "name": "python",
   "nbconvert_exporter": "python",
   "pygments_lexer": "ipython3",
   "version": "3.7.3"
  },
  "toc": {
   "base_numbering": 1,
   "nav_menu": {},
   "number_sections": true,
   "sideBar": true,
   "skip_h1_title": false,
   "title_cell": "Table of Contents",
   "title_sidebar": "Contents",
   "toc_cell": false,
   "toc_position": {},
   "toc_section_display": true,
   "toc_window_display": false
  }
 },
 "nbformat": 4,
 "nbformat_minor": 2
}
