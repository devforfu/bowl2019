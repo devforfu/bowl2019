{
 "cells": [
  {
   "cell_type": "code",
   "execution_count": null,
   "metadata": {},
   "outputs": [],
   "source": [
    "#!cp /kaggle/input/data-bowl-2019-external-data/*.py /kaggle/working"
   ]
  },
  {
   "cell_type": "code",
   "execution_count": 1,
   "metadata": {},
   "outputs": [],
   "source": [
    "%reload_ext autoreload\n",
    "%autoreload 2\n",
    "import warnings\n",
    "import jupytools.syspath\n",
    "def ignore(*args, **kwargs): pass\n",
    "warnings.warn = ignore\n",
    "jupytools.syspath.add('..')"
   ]
  },
  {
   "cell_type": "code",
   "execution_count": 44,
   "metadata": {},
   "outputs": [],
   "source": [
    "import os\n",
    "import re\n",
    "from collections import defaultdict, Counter, OrderedDict\n",
    "from functools import partial\n",
    "from multiprocessing import cpu_count\n",
    "from os.path import join\n",
    "\n",
    "import feather\n",
    "import joblib\n",
    "import lightgbm as lgb\n",
    "import matplotlib.pyplot as plt\n",
    "import numpy as np\n",
    "import pandas as pd\n",
    "import scipy\n",
    "import seaborn as sns\n",
    "from joblib import Parallel, delayed\n",
    "from sklearn.model_selection import GroupKFold\n",
    "from tqdm.auto import tqdm\n",
    "\n",
    "import bundle\n",
    "import utils as U\n",
    "from dataset import load, load_sample, Subset, to_accuracy_group\n",
    "from metric import qwk"
   ]
  },
  {
   "cell_type": "markdown",
   "metadata": {},
   "source": [
    "## Extending The Dataset\n",
    "\n",
    "The original datasets are processed as the whole to extend them with additional columns."
   ]
  },
  {
   "cell_type": "code",
   "execution_count": 3,
   "metadata": {},
   "outputs": [],
   "source": [
    "CYCLIC_FEATURES = ('Year', 'Month', 'Week', 'Dayofweek', 'Hour', 'Minute')"
   ]
  },
  {
   "cell_type": "code",
   "execution_count": 4,
   "metadata": {},
   "outputs": [],
   "source": [
    "def add_feature_combinations(data, pairs):\n",
    "    for c1, c2 in pairs:\n",
    "        assert c1 in data.columns, f'Column not found: {c1}'\n",
    "        assert c2 in data.columns, f'Column not found: {c2}'\n",
    "        data[f'{c1}_{c2}'] = data[c1].astype(str).str.cat(data[c2].astype(str), '_')\n",
    "    return data\n",
    "\n",
    "def add_datetime(data, column, prefix=None, with_time=True):\n",
    "    data[column] = pd.to_datetime(data[column])\n",
    "    prefix = U.default(prefix, re.sub('[Dd]ate$', '', column))\n",
    "    attrs = ('Year', 'Month', 'Week', 'Day', 'Dayofweek')\n",
    "    if with_time:\n",
    "        attrs += ('Hour', 'Minute')\n",
    "    for attr in attrs:\n",
    "        data[f'{prefix}_{attr}'] = getattr(data[column].dt, attr.lower())\n",
    "    return data\n",
    "\n",
    "def add_cyclical(data, prefix, features=CYCLIC_FEATURES, modulo=None):\n",
    "    modulo = modulo or {}\n",
    "    for feature in features:\n",
    "        column = f'{prefix}_{feature}'\n",
    "        m = modulo.get(feature, 23.0)\n",
    "        data[f'{column}_sin'] = np.sin(2*np.pi*data[column] / m)\n",
    "        data[f'{column}_cos'] = np.cos(2*np.pi*data[column] / m)\n",
    "    return data"
   ]
  },
  {
   "cell_type": "markdown",
   "metadata": {},
   "source": [
    "## Computing Meta Information\n",
    "\n",
    "The meta-information is computed using public train and test datasets."
   ]
  },
  {
   "cell_type": "code",
   "execution_count": 5,
   "metadata": {},
   "outputs": [],
   "source": [
    "def compute_meta_data(dataset, *datasets):\n",
    "    datasets = [dataset] + list(datasets)\n",
    "    uniq = OrderedDict()\n",
    "    uniq['title_event_code'] = U.unique(datasets, column='title_event_code')\n",
    "    uniq['title'] = U.unique(datasets, column='title')\n",
    "    uniq['event_code'] = U.unique(datasets, column='event_code')\n",
    "    uniq['event_id'] = U.unique(datasets, column='event_id')\n",
    "    uniq['world'] = U.unique(datasets, column='world')\n",
    "    uniq['type'] = U.unique(datasets, column='type')\n",
    "    asm_datasets = [ds.query('type == \"Assessment\"') for ds in datasets]\n",
    "    uniq['assessment_titles'] = U.unique(asm_datasets, column='title')\n",
    "    win_codes = {t: 4100 for t in uniq['title']}\n",
    "    win_codes['Bird Measurer (Assessment)'] = 4110\n",
    "    meta = {'win_codes': win_codes, **uniq}\n",
    "    return U.named_tuple('Meta', **meta)"
   ]
  },
  {
   "cell_type": "markdown",
   "metadata": {},
   "source": [
    "## User Features\n",
    "\n",
    "Converts the raw dataset into user-specific features."
   ]
  },
  {
   "cell_type": "code",
   "execution_count": 6,
   "metadata": {},
   "outputs": [],
   "source": [
    "class FeaturesExtractor:\n",
    "    def __init__(self, steps):\n",
    "        self.steps = steps\n",
    "        \n",
    "    def init_steps(self, meta):\n",
    "        for step in self.steps:\n",
    "            if hasattr(step, 'init'):\n",
    "                step.init(meta)\n",
    "                \n",
    "    def __call__(self, user, meta, test=False):\n",
    "        rows = []\n",
    "        self.init_steps(meta)\n",
    "        for _, session in user.groupby('game_session', sort=False):\n",
    "            info = session_info(session, meta, test)\n",
    "            features = OrderedDict([\n",
    "                ('installation_id', info.installation_id),\n",
    "                ('game_session', info.game_session),\n",
    "                ('session_title', info.session_title)\n",
    "            ])\n",
    "            for step in self.steps:\n",
    "                extracted = step.extract(session, info, meta)\n",
    "                features.update(extracted)\n",
    "            if info.should_include:\n",
    "                rows.append(features)\n",
    "        return [rows[-1]] if test else rows\n",
    "    \n",
    "def session_info(session, meta, test):\n",
    "    \"\"\"Computes information about user's session.\"\"\"\n",
    "    assert not session.empty, 'Session cannot be empty!'\n",
    "    session_type = session['type'].iloc[0]\n",
    "    assessment = session_type == 'Assessment'\n",
    "    outcomes = attempt_outcomes(session, meta) if assessment else None\n",
    "    should_include = (\n",
    "        (assessment and test) or\n",
    "        (assessment and (len(session) > 1) and outcomes.total > 0))\n",
    "    duration = session.timestamp.iloc[-1] - session.timestamp.iloc[0]\n",
    "    return U.named_tuple(\n",
    "        name='Info', \n",
    "        installation_id=session['installation_id'].iloc[0],\n",
    "        game_session=session['game_session'].iloc[0],\n",
    "        session_title=session['title'].iloc[0],\n",
    "        session_type=session_type,\n",
    "        is_assessment=assessment,\n",
    "        should_include=should_include,\n",
    "        outcomes=outcomes,\n",
    "        duration_seconds=duration.seconds)\n",
    "\n",
    "def attempt_outcomes(session, meta):\n",
    "    \"\"\"Computes how many successful and unsuccessful attempts contains the session.\"\"\"\n",
    "    event_code = meta.win_codes.get(session.title.iloc[0], 4100)\n",
    "    total_attempts = session.query(f'event_code == {event_code}')\n",
    "    pos = total_attempts.event_data.str.contains('true').sum()\n",
    "    neg = total_attempts.event_data.str.contains('false').sum()\n",
    "    summary = dict(pos=pos, neg=neg, total=(pos + neg))\n",
    "    return U.named_tuple('Trial', **summary)"
   ]
  },
  {
   "cell_type": "code",
   "execution_count": 7,
   "metadata": {},
   "outputs": [],
   "source": [
    "class BaseFeatures:\n",
    "    def __init__(self, meta):\n",
    "        self.init(meta)\n",
    "        \n",
    "class CountersMixin:\n",
    "    def update_counters(self, cnt, sess, column):\n",
    "        uniq_counts = Counter(sess[column])\n",
    "        for k, v in uniq_counts.items():\n",
    "            if k in cnt:\n",
    "                cnt[k] += v"
   ]
  },
  {
   "cell_type": "code",
   "execution_count": 8,
   "metadata": {},
   "outputs": [],
   "source": [
    "class CountingFeatures(BaseFeatures, CountersMixin):\n",
    "    def init(self, meta):\n",
    "        self.cnt_title_event_code = U.init_dict(meta.title_event_code)\n",
    "        self.cnt_title = U.init_dict(meta.title)\n",
    "        self.cnt_event_code = U.init_dict(meta.event_code)\n",
    "        self.cnt_event_id = U.init_dict(meta.event_id)\n",
    "        self.cnt_activities = U.init_dict(meta.type)\n",
    "        self.last_activity = None\n",
    "        \n",
    "    def extract(self, session, info, meta):\n",
    "        features = OrderedDict()\n",
    "        if info.should_include:\n",
    "            counters = OrderedDict([\n",
    "                *self.cnt_title_event_code.items(),\n",
    "                *self.cnt_title.items(),\n",
    "                *self.cnt_event_code.items(),\n",
    "                *self.cnt_event_id.items(),\n",
    "                *self.cnt_activities.items()])\n",
    "            features.update([(f'cnt_{k}', v) for k, v in counters.items()])\n",
    "        self.update_counters(self.cnt_title_event_code, session, 'title_event_code')\n",
    "        self.update_counters(self.cnt_title, session, 'title')\n",
    "        self.update_counters(self.cnt_event_code, session, 'event_code')\n",
    "        self.update_counters(self.cnt_event_id, session, 'event_id')\n",
    "        if self.last_activity is None or self.last_activity != info.session_type:\n",
    "            self.cnt_activities[info.session_type] += 1\n",
    "            self.last_activity = info.session_type\n",
    "        return features"
   ]
  },
  {
   "cell_type": "code",
   "execution_count": 9,
   "metadata": {},
   "outputs": [],
   "source": [
    "class PerformanceFeatures(BaseFeatures):\n",
    "    def init(self, meta):\n",
    "        self.acc_accuracy = 0\n",
    "        self.acc_accuracy_group = 0\n",
    "        self.acc_correct_attempts = 0\n",
    "        self.acc_incorrect_attempts = 0\n",
    "        self.acc_actions = 0\n",
    "        self.durations = []\n",
    "        self.accuracy_groups = U.init_dict([0, 1, 2, 3])\n",
    "        self.last_accuracy_title = U.init_dict([f'acc_{t}' for t in meta.title], -1)\n",
    "        self.n_rows = 0\n",
    "    \n",
    "    def extract(self, session, info, meta):\n",
    "        features = OrderedDict()\n",
    "        \n",
    "        if info.should_include:\n",
    "            features['acc_attempts_pos'] = self.acc_correct_attempts\n",
    "            features['acc_attempts_neg'] = self.acc_incorrect_attempts\n",
    "            self.acc_correct_attempts += info.outcomes.pos\n",
    "            self.acc_incorrect_attempts += info.outcomes.neg\n",
    "            \n",
    "            features['acc_accuracy'] = U.savediv(self.acc_accuracy, self.n_rows)\n",
    "            accuracy = U.savediv(info.outcomes.pos, info.outcomes.total)\n",
    "            self.acc_accuracy += accuracy\n",
    "            \n",
    "            features.update(self.last_accuracy_title)\n",
    "            self.last_accuracy_title[f'acc_{info.session_title}'] = accuracy\n",
    "            \n",
    "            features['accuracy_group'] = to_accuracy_group(accuracy)\n",
    "            self.accuracy_groups[features['accuracy_group']] += 1\n",
    "            \n",
    "            features['acc_accuracy_group'] = U.savediv(self.acc_accuracy_group, self.n_rows)\n",
    "            self.acc_accuracy_group += features['accuracy_group']\n",
    "\n",
    "            features['acc_actions'] = self.acc_actions\n",
    "            \n",
    "            features['duration_mean'] = np.mean(self.durations) if self.durations else 0\n",
    "            self.durations.append(info.duration_seconds)\n",
    "            \n",
    "            self.n_rows += 1\n",
    "            \n",
    "        self.acc_actions += len(session)\n",
    "        \n",
    "        return features"
   ]
  },
  {
   "cell_type": "code",
   "execution_count": 10,
   "metadata": {},
   "outputs": [],
   "source": [
    "class CyclicFeatures(BaseFeatures):\n",
    "    def init(self, meta):\n",
    "        self.acc = defaultdict(list)\n",
    "    \n",
    "    def extract(self, session, info, meta):\n",
    "        features = OrderedDict()\n",
    "        if not info.should_include:\n",
    "            return features\n",
    "        for dt in CYCLIC_FEATURES:\n",
    "            for angle in ('sin', 'cos'):\n",
    "                key = f'ts_{dt}_{angle}'\n",
    "                acc = self.acc\n",
    "                features[f'{key}_mean'] = np.mean(acc[key]) if acc[key] else 0\n",
    "                features[f'{key}_std'] = np.std(acc[key]) if acc[key] else 0\n",
    "                acc[key] += session[key].tolist()\n",
    "        return features"
   ]
  },
  {
   "cell_type": "code",
   "execution_count": 11,
   "metadata": {},
   "outputs": [],
   "source": [
    "class TimestampFeatures(BaseFeatures, CountersMixin):\n",
    "    def init(self, meta):\n",
    "        self.cnt_month = U.init_dict([7, 8, 9, 10])\n",
    "        self.cnt_dayofweek = U.init_dict(range(7))\n",
    "        self.cnt_dayofmonth = U.init_dict(range(1, 32))\n",
    "        self.cnt_hour = U.init_dict(range(24))\n",
    "        self.cnt_minute = U.init_dict(range(60))\n",
    "        \n",
    "    def extract(self, session, info, meta):\n",
    "        features = OrderedDict()\n",
    "        \n",
    "        if info.should_include:           \n",
    "            features.update(U.prefix_keys(self.cnt_month, 'month_'))\n",
    "            features.update(U.prefix_keys(self.cnt_dayofweek, 'dow_'))\n",
    "            features.update(U.prefix_keys(self.cnt_dayofmonth, 'dom_'))\n",
    "            features.update(U.prefix_keys(self.cnt_hour, 'hour_'))\n",
    "            features.update(U.prefix_keys(self.cnt_minute, 'minute_'))\n",
    "        \n",
    "        self.update_counters(self.cnt_month, session, 'ts_Month')\n",
    "        self.update_counters(self.cnt_dayofweek, session, 'ts_Dayofweek')\n",
    "        self.update_counters(self.cnt_dayofmonth, session, 'ts_Day')\n",
    "        self.update_counters(self.cnt_hour, session, 'ts_Hour')\n",
    "        self.update_counters(self.cnt_minute, session, 'ts_Minute')\n",
    "        \n",
    "        return U.prefix_keys(features, 'ts_')"
   ]
  },
  {
   "cell_type": "code",
   "execution_count": 12,
   "metadata": {},
   "outputs": [],
   "source": [
    "class VarietyFeatures(BaseFeatures, CountersMixin):\n",
    "    def init(self, meta):\n",
    "        self.cnt_title_event_code = U.init_dict(meta.title_event_code)\n",
    "        self.cnt_title = U.init_dict(meta.title)\n",
    "        self.cnt_event_code = U.init_dict(meta.event_code)\n",
    "        self.cnt_event_id = U.init_dict(meta.event_id)\n",
    "        \n",
    "    def extract(self, session, info, meta):\n",
    "        features = OrderedDict()\n",
    "        \n",
    "        if info.should_include:\n",
    "            for name in ('title_event_code', 'title', 'event_code', 'event_id'):\n",
    "                cnt = getattr(self, f'cnt_{name}')\n",
    "                nonzeros = np.count_nonzero(list(cnt.values()))\n",
    "                features[name] = nonzeros\n",
    "\n",
    "        self.update_counters(self.cnt_title_event_code, session, 'title_event_code')\n",
    "        self.update_counters(self.cnt_title, session, 'title')\n",
    "        self.update_counters(self.cnt_event_code, session, 'event_code')\n",
    "        self.update_counters(self.cnt_event_id, session, 'event_id')\n",
    "        \n",
    "        return U.prefix_keys(features, 'var_')"
   ]
  },
  {
   "cell_type": "markdown",
   "metadata": {},
   "source": [
    "## Preparing Dataset In Memory\n",
    "There are two possible algorithms to prepare the data before training:\n",
    "1. store every user subset on disk and process it from there,\n",
    "2. keep the whole dataset in memory and process without dumping on disk (local training).\n",
    "\n",
    "The first approach is more difficult, and requires extra steps between pipeline stages. Therefore, we go with the second one and hope that the data fits into memory on kernel."
   ]
  },
  {
   "cell_type": "code",
   "execution_count": 13,
   "metadata": {},
   "outputs": [],
   "source": [
    "class InMemoryAlgorithm:\n",
    "    def __init__(self, extractor, meta, pbar=True, num_workers=cpu_count()):\n",
    "        self.extractor = extractor\n",
    "        self.meta = meta\n",
    "        self.pbar = pbar\n",
    "        self.num_workers = num_workers\n",
    "    \n",
    "    def run(self, dataset, test=False):\n",
    "        mode = 'test' if test else 'train'\n",
    "        U.log(f'Running algorithm in {mode} mode.')\n",
    "        \n",
    "        def _extract(user):\n",
    "            return pd.DataFrame(self.extractor(user, self.meta, test))\n",
    "        \n",
    "        grouped = dataset.groupby('installation_id', sort=False)\n",
    "        users = (g for _, g in grouped)\n",
    "        if self.pbar:\n",
    "            users = tqdm(users, total= grouped.ngroups)\n",
    "        datasets = U.parallel(_extract, users, num_workers=self.num_workers)\n",
    "        dataset = pd.concat(datasets, axis=0)\n",
    "        return dataset"
   ]
  },
  {
   "cell_type": "code",
   "execution_count": 14,
   "metadata": {},
   "outputs": [],
   "source": [
    "def encode(dataset, columns, encoders=None):\n",
    "    def make_encoder(mapping):\n",
    "        return lambda x: mapping.get(x, -1)\n",
    "    encoders = encoders or {}\n",
    "    for column in columns:\n",
    "        if column in encoders:\n",
    "            dataset[column] = dataset[column].map(make_encoder(encoders[column]))\n",
    "        else:\n",
    "            encoded, labels = pd.factorize(dataset[column])\n",
    "            encoder = OrderedDict([(x, i) for i, x in enumerate(labels)])\n",
    "            encoders[column] = encoder\n",
    "            dataset[column] = encoded\n",
    "    return dataset, encoders"
   ]
  },
  {
   "cell_type": "markdown",
   "metadata": {},
   "source": [
    "## Post-processing Features\n",
    "Some features can be added only when user-wise features are created and represented as data frame. This features are created in this section."
   ]
  },
  {
   "cell_type": "code",
   "execution_count": 15,
   "metadata": {},
   "outputs": [],
   "source": [
    "def add_user_wise_features(dataset, meta, pbar=True):\n",
    "    def transform(group_obj, key, agg): \n",
    "        return group_obj[key].transform(agg)\n",
    "    \n",
    "    events = [f'cnt_{code}' for code in meta.event_code]\n",
    "    grouped = dataset.groupby('installation_id')\n",
    "    dataset['user_session_cnt'] = transform(grouped, 'cnt_Clip', 'count')\n",
    "    dataset['user_duration_mean'] = transform(grouped, 'duration_mean', 'mean')\n",
    "    dataset['user_title_nunique'] = transform(grouped, 'session_title', 'nunique')\n",
    "    dataset['user_events_sum'] = dataset[events].sum(axis=1)\n",
    "    dataset['user_events_mean'] = transform(grouped, 'user_events_sum', 'mean')"
   ]
  },
  {
   "cell_type": "markdown",
   "metadata": {},
   "source": [
    "## Getting Relevant Features Only"
   ]
  },
  {
   "cell_type": "code",
   "execution_count": 16,
   "metadata": {},
   "outputs": [],
   "source": [
    "class FeatureSelection:\n",
    "    def __init__(self, rules, ignore_cols=None):\n",
    "        self.rules = rules\n",
    "        self.ignore_cols = ignore_cols or []\n",
    "        self.selected = None\n",
    "    def select(self, dataset):\n",
    "        relevant = {}\n",
    "        total = len(dataset.columns)\n",
    "        if self.ignore_cols:\n",
    "            U.log(f'Excluding from consideration: {self.ignore_cols}')\n",
    "            dataset = dataset.drop(columns=self.ignore_cols)\n",
    "        for name, rule in self.rules:\n",
    "            U.log(f'Applying feature selection rule: {name}')\n",
    "            features = rule(dataset)\n",
    "            relevant[name] = set(features)\n",
    "            U.log(f'Selected features: {len(features)} of {total}')\n",
    "        U.log(f'Keeping only features, selected by every rule.')\n",
    "        features = set.intersection(*relevant.values())\n",
    "        U.log(f'Final number of features changed from {total} to {len(features)}')\n",
    "        return sorted(list(features))\n",
    "        \n",
    "def non_zero_rows_and_cols(dataset):\n",
    "    def nonzero(x): return not np.allclose(x, 0)\n",
    "    nonzero_rows = dataset.sum(axis=1).map(nonzero)\n",
    "    nonzero_cols = dataset.sum(axis=0).map(nonzero)\n",
    "    features = dataset.loc[nonzero_rows, nonzero_cols].columns.tolist()\n",
    "    return features\n",
    "\n",
    "def non_correlated_cols(dataset, threshold=0.995):\n",
    "    from itertools import combinations\n",
    "    correlated = set()\n",
    "    columns = dataset.columns\n",
    "    pairs = combinations(columns, 2)\n",
    "    n_pairs = len(columns)*(len(columns) - 1)//2\n",
    "    for a, b in tqdm(pairs, total=n_pairs):\n",
    "        if a in correlated: continue\n",
    "        if b in correlated: continue\n",
    "        c = np.corrcoef(dataset[a], dataset[b])[0][1]\n",
    "        if c > threshold:\n",
    "            correlated.add(b)\n",
    "    return [c for c in columns if c not in correlated]"
   ]
  },
  {
   "cell_type": "markdown",
   "metadata": {},
   "source": [
    "## Raw Into Prepared Pipeline\n",
    "Gathering all created functions into data preparing pipeline."
   ]
  },
  {
   "cell_type": "code",
   "execution_count": 17,
   "metadata": {},
   "outputs": [
    {
     "name": "stdout",
     "output_type": "stream",
     "text": [
      "Loading train and test.\n",
      "(11341042, 11) (17690, 7) (386, 3) (1156414, 11) "
     ]
    }
   ],
   "source": [
    "sample = False\n",
    "if U.on_kaggle():\n",
    "    U.log('Loading test set only.')\n",
    "    tst_data = pd.read_csv('/kaggle/input/data-science-bowl-2019/test.csv')\n",
    "else:\n",
    "    if sample:\n",
    "        U.log('Warning: loading train and test data sample.')\n",
    "        trn_data, _, _ = load_sample(Subset.Train, 500_000)\n",
    "        [tst_data] = load_sample(Subset.Test, 500_000)\n",
    "    else:\n",
    "        U.log('Loading train and test.')\n",
    "        trn_data, trn_spec, trn_targ = load(Subset.Train)\n",
    "        [tst_data] = load(Subset.Test)"
   ]
  },
  {
   "cell_type": "code",
   "execution_count": 18,
   "metadata": {},
   "outputs": [
    {
     "name": "stdout",
     "output_type": "stream",
     "text": [
      "Transforming train and test data.\n",
      "(11341042, 31) (1156414, 31)\n"
     ]
    }
   ],
   "source": [
    "transform = U.combine(\n",
    "    partial(add_feature_combinations, pairs=[('title', 'event_code')]),\n",
    "    partial(add_datetime, column='timestamp', prefix='ts'),\n",
    "    partial(add_cyclical, prefix='ts'))\n",
    "\n",
    "if U.on_kaggle():\n",
    "    U.log('Transforming test data only.')\n",
    "    X_tst = transform(tst_data.copy())\n",
    "    U.log(X_tst.shape)\n",
    "else:\n",
    "    U.log('Transforming train and test data.')\n",
    "    X_tst = transform(tst_data.copy())\n",
    "    X_trn = transform(trn_data.copy())\n",
    "    U.log(X_trn.shape, X_tst.shape)"
   ]
  },
  {
   "cell_type": "code",
   "execution_count": 19,
   "metadata": {},
   "outputs": [
    {
     "name": "stdout",
     "output_type": "stream",
     "text": [
      "Computing meta using train and test datasets.\n",
      "Saving computed meta on disk.\n"
     ]
    }
   ],
   "source": [
    "if U.on_kaggle():\n",
    "    U.log('Reading pre-computed meta from disk.')\n",
    "    meta = bundle.meta()\n",
    "else:\n",
    "    U.log('Computing meta using train and test datasets.')\n",
    "    meta = compute_meta_data(X_trn, X_tst)\n",
    "    U.log('Saving computed meta on disk.')\n",
    "    bundle.save_meta(meta, 'meta')"
   ]
  },
  {
   "cell_type": "code",
   "execution_count": 20,
   "metadata": {},
   "outputs": [],
   "source": [
    "extractor = FeaturesExtractor([\n",
    "    CountingFeatures(meta),\n",
    "    PerformanceFeatures(meta),\n",
    "    CyclicFeatures(meta),\n",
    "    TimestampFeatures(meta),\n",
    "    VarietyFeatures(meta)\n",
    "])\n",
    "algo = InMemoryAlgorithm(extractor, meta, num_workers=12)\n",
    "cat_cols = ['session_title']"
   ]
  },
  {
   "cell_type": "code",
   "execution_count": 21,
   "metadata": {},
   "outputs": [
    {
     "name": "stdout",
     "output_type": "stream",
     "text": [
      "Preparing train and test datasets.\n",
      "Running algorithm in train mode.\n"
     ]
    },
    {
     "data": {
      "application/vnd.jupyter.widget-view+json": {
       "model_id": "e0d75374c9854215895f945b14a011b1",
       "version_major": 2,
       "version_minor": 0
      },
      "text/plain": [
       "HBox(children=(IntProgress(value=0, max=17000), HTML(value='')))"
      ]
     },
     "metadata": {},
     "output_type": "display_data"
    },
    {
     "name": "stdout",
     "output_type": "stream",
     "text": [
      "\n",
      "Running algorithm in test mode.\n"
     ]
    },
    {
     "data": {
      "application/vnd.jupyter.widget-view+json": {
       "model_id": "e75adc66a90d4126a28d4cdf78b84412",
       "version_major": 2,
       "version_minor": 0
      },
      "text/plain": [
       "HBox(children=(IntProgress(value=0, max=1000), HTML(value='')))"
      ]
     },
     "metadata": {},
     "output_type": "display_data"
    },
    {
     "name": "stdout",
     "output_type": "stream",
     "text": [
      "\n"
     ]
    }
   ],
   "source": [
    "if U.on_kaggle():\n",
    "    U.log('Preparing test dataset.')\n",
    "    X_tst = algo.run(X_tst, test=True)\n",
    "    encoders = bundle.encoders()\n",
    "    X_tst, _ = encode(X_tst, cat_cols, encoders=encoders)\n",
    "else:\n",
    "    U.log('Preparing train and test datasets.')\n",
    "    X_trn = algo.run(X_trn)\n",
    "    X_tst = algo.run(X_tst, test=True)\n",
    "    X_trn, encoders = encode(X_trn, cat_cols)\n",
    "    X_tst, _ = encode(X_tst, cat_cols, encoders=encoders)\n",
    "    bundle.save(encoders, 'encoders')"
   ]
  },
  {
   "cell_type": "code",
   "execution_count": 22,
   "metadata": {},
   "outputs": [
    {
     "name": "stdout",
     "output_type": "stream",
     "text": [
      "Running post-processing on train and test sets.\n"
     ]
    }
   ],
   "source": [
    "if U.on_kaggle():\n",
    "    U.log('Running post-processing on test set only.')\n",
    "    add_user_wise_features(X_tst, meta)\n",
    "else:\n",
    "    U.log('Running post-processing on train and test sets.')\n",
    "    add_user_wise_features(X_trn, meta)\n",
    "    add_user_wise_features(X_tst, meta)"
   ]
  },
  {
   "cell_type": "code",
   "execution_count": 23,
   "metadata": {},
   "outputs": [
    {
     "name": "stdout",
     "output_type": "stream",
     "text": [
      "Deriving relevant features from train dataset.\n",
      "Excluding from consideration: ['accuracy_group', 'installation_id', 'game_session']\n",
      "Applying feature selection rule: nonzero\n",
      "Selected features: 1073 of 1090\n",
      "Applying feature selection rule: uncorr\n"
     ]
    },
    {
     "data": {
      "application/vnd.jupyter.widget-view+json": {
       "model_id": "16b37623b3054ec9814dede49c796f30",
       "version_major": 2,
       "version_minor": 0
      },
      "text/plain": [
       "HBox(children=(IntProgress(value=0, max=590241), HTML(value='')))"
      ]
     },
     "metadata": {},
     "output_type": "display_data"
    },
    {
     "name": "stderr",
     "output_type": "stream",
     "text": [
      "/home/ck/anaconda3/envs/fastai_10/lib/python3.7/site-packages/numpy/lib/function_base.py:2530: RuntimeWarning: invalid value encountered in true_divide\n",
      "  c /= stddev[:, None]\n",
      "/home/ck/anaconda3/envs/fastai_10/lib/python3.7/site-packages/numpy/lib/function_base.py:2531: RuntimeWarning: invalid value encountered in true_divide\n",
      "  c /= stddev[None, :]\n"
     ]
    },
    {
     "name": "stdout",
     "output_type": "stream",
     "text": [
      "\n",
      "Selected features: 580 of 1090\n",
      "Keeping only features, selected by every rule.\n",
      "Final number of features changed from 1090 to 566\n"
     ]
    }
   ],
   "source": [
    "selector = FeatureSelection(\n",
    "    rules=[\n",
    "        ('nonzero', non_zero_rows_and_cols),\n",
    "        ('uncorr', non_correlated_cols),\n",
    "    ],\n",
    "    ignore_cols=[\n",
    "        'accuracy_group', \n",
    "        'installation_id', \n",
    "        'game_session'\n",
    "    ]\n",
    ")\n",
    "\n",
    "if U.on_kaggle():\n",
    "    U.log('Loading relevant features list from disk.')\n",
    "    features = bundle.features()\n",
    "else:\n",
    "    U.log('Deriving relevant features from train dataset.')\n",
    "    features = selector.select(X_trn)\n",
    "    bundle.save(features, 'features')"
   ]
  },
  {
   "cell_type": "markdown",
   "metadata": {},
   "source": [
    "## Modelling"
   ]
  },
  {
   "cell_type": "code",
   "execution_count": 24,
   "metadata": {},
   "outputs": [],
   "source": [
    "class LightGBM:\n",
    "    def __init__(self, config):\n",
    "        self.model = lgb.LGBMRegressor(**config.get('model_params', {}))\n",
    "        self.config = config\n",
    "        self.features = None\n",
    "    def fit(self, train_data, valid_data, metric):\n",
    "        x_trn, y_trn = train_data\n",
    "        x_val, y_val = valid_data\n",
    "        params = self.config.get('fit_params', {}).copy()\n",
    "        params['eval_set'] = [(x_trn, y_trn), (x_val, y_val)]\n",
    "        params['eval_names'] = ['trn', 'val']\n",
    "        params['eval_metric'] = metric\n",
    "        params['X'] = x_trn\n",
    "        params['y'] = y_trn\n",
    "        self.features = x_trn.columns.tolist()\n",
    "        self.model.fit(**params)\n",
    "    def predict(self, X):\n",
    "        if self.features is not None:\n",
    "            assert list(X.columns) == self.features, 'Features do not match!'\n",
    "        return self.model.predict(X)\n",
    "    @property\n",
    "    def feature_importances(self):\n",
    "        feat_imp = pd.Series(OrderedDict(\n",
    "            zip(self.features, self.model.feature_importances_)))\n",
    "        feat_imp.sort_values(inplace=True, ascending=False)\n",
    "        return feat_imp\n",
    "                  \n",
    "def plot_feat_imp(ser, ax=None, **fig_kwargs):\n",
    "    if ax is None:\n",
    "        _, ax = plt.subplots(1, 1, **fig_kwargs)\n",
    "    ser.plot.barh(ax=ax)\n",
    "    return ax\n",
    "    \n",
    "MODEL_CONFIG = dict(\n",
    "    lightgbm=dict(\n",
    "        model_params=dict(\n",
    "            n_estimators=5000,\n",
    "            max_depth=15,\n",
    "            boosting_type='gbdt',\n",
    "            metric='rmse',\n",
    "            objective='regression',\n",
    "            learning_rate=1e-2,\n",
    "            subsample=0.75,\n",
    "            subsample_freq=1,\n",
    "            feature_fraction=0.9,\n",
    "            lambda_l1=1,\n",
    "            lambda_l2=1\n",
    "        ),\n",
    "        fit_params=dict(\n",
    "            early_stopping_rounds=100,\n",
    "            verbose=100,\n",
    "            categorical_feature='auto'\n",
    "        )\n",
    "    )\n",
    ")\n",
    "\n",
    "def get_default_config(name):\n",
    "    return MODEL_CONFIG[name]\n",
    "\n",
    "def get_model_class(name):\n",
    "    if name == 'lightgbm': return LightGBM\n",
    "    raise ValueError(f'unknown model class: {name}')"
   ]
  },
  {
   "cell_type": "code",
   "execution_count": 25,
   "metadata": {},
   "outputs": [],
   "source": [
    "def inference(data, features, bounds, model='lightgbm', version='003', chunk_size=128):\n",
    "    U.log(f'Running inference on dataset of shape: {len(features)}')\n",
    "    indexes = np.arange(len(data))\n",
    "    U.log(f'Loading external models: {model} v{version}.')\n",
    "    models = bundle.models(model=model, version=version)\n",
    "    preds = {i: [] for i, _ in enumerate(models)}\n",
    "    U.log('Running models on test data...')\n",
    "    for chunk in U.chunks(indexes, chunk_size):\n",
    "        x_test = data[features].iloc[chunk]\n",
    "        for i, model in enumerate(models):\n",
    "            pred = model.predict(x_test).tolist()\n",
    "            preds[i].extend(pred)\n",
    "    U.log('Averaging ensemble predictions.')\n",
    "    avg_preds = pd.DataFrame(preds).mean(axis=1).values\n",
    "    U.log('Rounding predictions using optimal bounds.')\n",
    "    y_hat = round_regressor_predictions(avg_preds, bounds)\n",
    "    return y_hat"
   ]
  },
  {
   "cell_type": "code",
   "execution_count": 26,
   "metadata": {},
   "outputs": [],
   "source": [
    "def submit(predicted, filename='submission.csv'):\n",
    "    U.log('Converting predictions into submission file.')\n",
    "    if U.on_kaggle():\n",
    "        U.log('Running on Kaggle.')\n",
    "        sample = pd.read_csv('/kaggle/input/data-science-bowl-2019/sample_submission.csv')\n",
    "    else:\n",
    "        U.log('Running locally.')\n",
    "        [sample] = load(Subset.Sample)\n",
    "    sample['accuracy_group'] = predicted.astype(int)\n",
    "    sample.to_csv(filename, index=False)\n",
    "    return filename"
   ]
  },
  {
   "cell_type": "code",
   "execution_count": 27,
   "metadata": {},
   "outputs": [],
   "source": [
    "def train(dataset, features, reg_metric, algo='lightgbm', n_folds=5, config=None):\n",
    "    models = []\n",
    "    folds = GroupKFold(n_splits=n_folds)\n",
    "    groups = dataset['installation_id']\n",
    "    X = dataset[features].copy()\n",
    "    y = dataset['accuracy_group']\n",
    "    oof = np.zeros(X.shape[0], dtype=np.float32)\n",
    "    cv = OrderedDict()\n",
    "    model_cls = get_model_class(algo)\n",
    "    metric = getattr(reg_metric, algo)\n",
    "    feat_imp = np.zeros(len(features), dtype=np.float32)\n",
    "    \n",
    "    for i, (trn_idx, val_idx) in enumerate(folds.split(X, y, groups), 1):\n",
    "        U.log(f'Running k-fold {i} of {n_folds}')\n",
    "        x_trn, y_trn = X.iloc[trn_idx], y.iloc[trn_idx]\n",
    "        x_val, y_val = X.iloc[val_idx], y.iloc[val_idx]\n",
    "        model = model_cls(config or get_default_config(algo))\n",
    "        model.fit(train_data=(x_trn, y_trn), \n",
    "                  valid_data=(x_val, y_val), \n",
    "                  metric=metric)\n",
    "        oof[val_idx] = model.predict(x_val)\n",
    "        cv[f'cv_cappa_{i}'] = np.mean(reg_metric(y_val, oof[val_idx]))\n",
    "        models.append(model)\n",
    "        feat_imp += model.feature_importances.values\n",
    "    \n",
    "    feat_imp /= n_folds\n",
    "    feat_imp = pd.Series(OrderedDict(zip(features, feat_imp)))\n",
    "    return U.named_tuple('Result', models=models, cv=cv, oof=oof, fi=feat_imp)"
   ]
  },
  {
   "cell_type": "code",
   "execution_count": 28,
   "metadata": {},
   "outputs": [],
   "source": [
    "class RegressionCappa:\n",
    "    def __init__(self, bounds):\n",
    "        self.bounds = bounds\n",
    "    def __call__(self, y_true, y_pred):\n",
    "        y_rounded = round_regressor_predictions(y_pred, self.bounds)\n",
    "        metric = qwk(y_true, y_rounded)\n",
    "        return metric\n",
    "    def lightgbm(self, y_true, y_pred):\n",
    "        return 'cappa', self(y_true, y_pred), True\n",
    "    \n",
    "def round_regressor_predictions(preds, coefs):\n",
    "    x = preds.copy()\n",
    "    for i, (lo, hi) in enumerate(zip(coefs[:-1], coefs[1:])):\n",
    "        x[(x > lo) & (x <= hi)] = i\n",
    "    return x\n",
    "\n",
    "def optimize_rounding_bounds(X, y):\n",
    "    def _loss(coef):\n",
    "        buckets = pd.cut(X, [-np.inf] + list(np.sort(coef)) + [np.inf], labels=[0, 1, 2, 3])\n",
    "        return -qwk(y, buckets)\n",
    "    \n",
    "    init_coef = [0.5, 1.5, 2.5]\n",
    "    opt_coef = scipy.optimize.minimize(_loss, init_coef, method='nelder-mead')\n",
    "    optimized = opt_coef['x']\n",
    "    return [-np.inf] + optimized.tolist() + [np.inf]"
   ]
  },
  {
   "cell_type": "code",
   "execution_count": 29,
   "metadata": {},
   "outputs": [
    {
     "name": "stdout",
     "output_type": "stream",
     "text": [
      "Training with sub-optimal rounding.\n",
      "Running k-fold 1 of 3\n",
      "Training until validation scores don't improve for 100 rounds.\n",
      "[100]\ttrn's rmse: 1.02964\ttrn's cappa: 0.37336\tval's rmse: 1.06824\tval's cappa: 0.339512\n",
      "[200]\ttrn's rmse: 0.957235\ttrn's cappa: 0.4947\tval's rmse: 1.01798\tval's cappa: 0.451109\n",
      "[300]\ttrn's rmse: 0.918389\ttrn's cappa: 0.523027\tval's rmse: 0.999792\tval's cappa: 0.467549\n",
      "[400]\ttrn's rmse: 0.890342\ttrn's cappa: 0.54058\tval's rmse: 0.99225\tval's cappa: 0.473256\n",
      "[500]\ttrn's rmse: 0.867723\ttrn's cappa: 0.553002\tval's rmse: 0.989163\tval's cappa: 0.476136\n",
      "[600]\ttrn's rmse: 0.847933\ttrn's cappa: 0.565884\tval's rmse: 0.987941\tval's cappa: 0.476501\n",
      "Early stopping, best iteration is:\n",
      "[563]\ttrn's rmse: 0.854967\ttrn's cappa: 0.56134\tval's rmse: 0.988357\tval's cappa: 0.478465\n",
      "Running k-fold 2 of 3\n",
      "Training until validation scores don't improve for 100 rounds.\n",
      "[100]\ttrn's rmse: 1.02475\ttrn's cappa: 0.416809\tval's rmse: 1.06887\tval's cappa: 0.361194\n",
      "[200]\ttrn's rmse: 0.949259\ttrn's cappa: 0.508968\tval's rmse: 1.02641\tval's cappa: 0.416704\n",
      "[300]\ttrn's rmse: 0.910376\ttrn's cappa: 0.534823\tval's rmse: 1.01323\tval's cappa: 0.428626\n",
      "[400]\ttrn's rmse: 0.882378\ttrn's cappa: 0.550296\tval's rmse: 1.0077\tval's cappa: 0.432443\n",
      "[500]\ttrn's rmse: 0.859829\ttrn's cappa: 0.565131\tval's rmse: 1.00497\tval's cappa: 0.434739\n",
      "Early stopping, best iteration is:\n",
      "[449]\ttrn's rmse: 0.870872\ttrn's cappa: 0.558017\tval's rmse: 1.00617\tval's cappa: 0.437119\n",
      "Running k-fold 3 of 3\n",
      "Training until validation scores don't improve for 100 rounds.\n",
      "[100]\ttrn's rmse: 1.03527\ttrn's cappa: 0.38126\tval's rmse: 1.05386\tval's cappa: 0.338568\n",
      "[200]\ttrn's rmse: 0.959012\ttrn's cappa: 0.492455\tval's rmse: 1.00381\tval's cappa: 0.437489\n",
      "[300]\ttrn's rmse: 0.919718\ttrn's cappa: 0.521982\tval's rmse: 0.988843\tval's cappa: 0.448752\n",
      "[400]\ttrn's rmse: 0.891704\ttrn's cappa: 0.542584\tval's rmse: 0.98354\tval's cappa: 0.452532\n",
      "[500]\ttrn's rmse: 0.869122\ttrn's cappa: 0.557979\tval's rmse: 0.981338\tval's cappa: 0.451574\n",
      "Early stopping, best iteration is:\n",
      "[420]\ttrn's rmse: 0.88688\ttrn's cappa: 0.546773\tval's rmse: 0.982673\tval's cappa: 0.453235\n"
     ]
    }
   ],
   "source": [
    "U.log('Training with sub-optimal rounding.')\n",
    "reg_metric = RegressionCappa([-np.inf, 1., 2., 3., +np.inf])\n",
    "result = train(X_trn, features, reg_metric, algo='lightgbm', n_folds=3)"
   ]
  },
  {
   "cell_type": "code",
   "execution_count": 31,
   "metadata": {},
   "outputs": [
    {
     "name": "stdout",
     "output_type": "stream",
     "text": [
      "Using predictions to find optimal rounding boundaries.\n",
      "Optimal values: [-inf, 0.9867310483534434, 1.4645092928256038, 2.0419743956927046, inf]\n",
      "Using optimal boundaries to train a new ensemble of models.\n",
      "Running k-fold 1 of 5\n",
      "Training until validation scores don't improve for 100 rounds.\n",
      "[100]\ttrn's rmse: 1.03529\ttrn's cappa: 0.530081\tval's rmse: 1.05136\tval's cappa: 0.502496\n",
      "[200]\ttrn's rmse: 0.966141\ttrn's cappa: 0.614527\tval's rmse: 1.00103\tval's cappa: 0.579501\n",
      "[300]\ttrn's rmse: 0.930853\ttrn's cappa: 0.642594\tval's rmse: 0.984506\tval's cappa: 0.594878\n",
      "[400]\ttrn's rmse: 0.905613\ttrn's cappa: 0.664821\tval's rmse: 0.977668\tval's cappa: 0.603151\n",
      "[500]\ttrn's rmse: 0.884925\ttrn's cappa: 0.68193\tval's rmse: 0.973598\tval's cappa: 0.605873\n",
      "[600]\ttrn's rmse: 0.866725\ttrn's cappa: 0.697409\tval's rmse: 0.97168\tval's cappa: 0.607277\n",
      "[700]\ttrn's rmse: 0.850582\ttrn's cappa: 0.710963\tval's rmse: 0.970331\tval's cappa: 0.609867\n",
      "[800]\ttrn's rmse: 0.835751\ttrn's cappa: 0.72343\tval's rmse: 0.970238\tval's cappa: 0.608157\n",
      "Early stopping, best iteration is:\n",
      "[742]\ttrn's rmse: 0.844135\ttrn's cappa: 0.716192\tval's rmse: 0.970282\tval's cappa: 0.610991\n",
      "Running k-fold 2 of 5\n",
      "Training until validation scores don't improve for 100 rounds.\n",
      "[100]\ttrn's rmse: 1.03376\ttrn's cappa: 0.52744\tval's rmse: 1.06374\tval's cappa: 0.481831\n",
      "[200]\ttrn's rmse: 0.963717\ttrn's cappa: 0.619067\tval's rmse: 1.01223\tval's cappa: 0.567963\n",
      "[300]\ttrn's rmse: 0.928407\ttrn's cappa: 0.647721\tval's rmse: 0.995365\tval's cappa: 0.586295\n",
      "[400]\ttrn's rmse: 0.903544\ttrn's cappa: 0.667982\tval's rmse: 0.987917\tval's cappa: 0.595064\n",
      "[500]\ttrn's rmse: 0.883372\ttrn's cappa: 0.683915\tval's rmse: 0.984169\tval's cappa: 0.599508\n",
      "[600]\ttrn's rmse: 0.865739\ttrn's cappa: 0.698517\tval's rmse: 0.981965\tval's cappa: 0.605445\n",
      "[700]\ttrn's rmse: 0.849857\ttrn's cappa: 0.712461\tval's rmse: 0.980572\tval's cappa: 0.609881\n",
      "[800]\ttrn's rmse: 0.835519\ttrn's cappa: 0.722472\tval's rmse: 0.980095\tval's cappa: 0.610391\n",
      "Early stopping, best iteration is:\n",
      "[723]\ttrn's rmse: 0.846406\ttrn's cappa: 0.714818\tval's rmse: 0.980376\tval's cappa: 0.610946\n",
      "Running k-fold 3 of 5\n",
      "Training until validation scores don't improve for 100 rounds.\n",
      "[100]\ttrn's rmse: 1.03611\ttrn's cappa: 0.553104\tval's rmse: 1.04221\tval's cappa: 0.502006\n",
      "[200]\ttrn's rmse: 0.965839\ttrn's cappa: 0.622158\tval's rmse: 0.99726\tval's cappa: 0.560538\n",
      "[300]\ttrn's rmse: 0.930168\ttrn's cappa: 0.650785\tval's rmse: 0.982126\tval's cappa: 0.57164\n",
      "[400]\ttrn's rmse: 0.904983\ttrn's cappa: 0.670865\tval's rmse: 0.975645\tval's cappa: 0.576683\n",
      "Early stopping, best iteration is:\n",
      "[353]\ttrn's rmse: 0.916077\ttrn's cappa: 0.662562\tval's rmse: 0.978047\tval's cappa: 0.579776\n",
      "Running k-fold 4 of 5\n",
      "Training until validation scores don't improve for 100 rounds.\n",
      "[100]\ttrn's rmse: 1.02981\ttrn's cappa: 0.537696\tval's rmse: 1.06932\tval's cappa: 0.482157\n",
      "[200]\ttrn's rmse: 0.95782\ttrn's cappa: 0.624777\tval's rmse: 1.02125\tval's cappa: 0.545585\n",
      "[300]\ttrn's rmse: 0.92195\ttrn's cappa: 0.652843\tval's rmse: 1.0064\tval's cappa: 0.563469\n",
      "[400]\ttrn's rmse: 0.896326\ttrn's cappa: 0.671684\tval's rmse: 0.999759\tval's cappa: 0.567917\n",
      "[500]\ttrn's rmse: 0.875465\ttrn's cappa: 0.691134\tval's rmse: 0.997067\tval's cappa: 0.572414\n",
      "[600]\ttrn's rmse: 0.857557\ttrn's cappa: 0.706378\tval's rmse: 0.995568\tval's cappa: 0.574963\n",
      "[700]\ttrn's rmse: 0.841666\ttrn's cappa: 0.717923\tval's rmse: 0.995496\tval's cappa: 0.572867\n",
      "Early stopping, best iteration is:\n",
      "[655]\ttrn's rmse: 0.848663\ttrn's cappa: 0.712755\tval's rmse: 0.995357\tval's cappa: 0.575278\n",
      "Running k-fold 5 of 5\n",
      "Training until validation scores don't improve for 100 rounds.\n",
      "[100]\ttrn's rmse: 1.02832\ttrn's cappa: 0.536578\tval's rmse: 1.07677\tval's cappa: 0.46309\n",
      "[200]\ttrn's rmse: 0.955573\ttrn's cappa: 0.629962\tval's rmse: 1.03234\tval's cappa: 0.543557\n",
      "[300]\ttrn's rmse: 0.9194\ttrn's cappa: 0.657403\tval's rmse: 1.01916\tval's cappa: 0.55367\n",
      "[400]\ttrn's rmse: 0.894157\ttrn's cappa: 0.677428\tval's rmse: 1.01379\tval's cappa: 0.555264\n",
      "[500]\ttrn's rmse: 0.873565\ttrn's cappa: 0.691933\tval's rmse: 1.01132\tval's cappa: 0.558545\n",
      "[600]\ttrn's rmse: 0.855852\ttrn's cappa: 0.707285\tval's rmse: 1.01045\tval's cappa: 0.55937\n",
      "Early stopping, best iteration is:\n",
      "[542]\ttrn's rmse: 0.865793\ttrn's cappa: 0.699226\tval's rmse: 1.01105\tval's cappa: 0.563642\n"
     ]
    }
   ],
   "source": [
    "U.log('Using predictions to find optimal rounding boundaries.')\n",
    "opt_bounds = optimize_rounding_bounds(result.oof, X_trn['accuracy_group'])\n",
    "U.log(f'Optimal values: {opt_bounds}')\n",
    "U.log('Using optimal boundaries to train a new ensemble of models.')\n",
    "reg_metric = RegressionCappa(opt_bounds)\n",
    "result = train(X_trn, features, reg_metric, algo='lightgbm')"
   ]
  },
  {
   "cell_type": "code",
   "execution_count": 32,
   "metadata": {},
   "outputs": [
    {
     "data": {
      "text/plain": [
       "<matplotlib.axes._subplots.AxesSubplot at 0x7feed4266da0>"
      ]
     },
     "execution_count": 32,
     "metadata": {},
     "output_type": "execute_result"
    },
    {
     "data": {
      "image/png": "[encoded data removed]",
      "text/plain": [
       "<Figure size 576x864 with 1 Axes>"
      ]
     },
     "metadata": {
      "needs_background": "light"
     },
     "output_type": "display_data"
    }
   ],
   "source": [
    "plot_feat_imp(result.fi.head(80), figsize=(8, 12))"
   ]
  },
  {
   "cell_type": "code",
   "execution_count": 67,
   "metadata": {},
   "outputs": [],
   "source": [
    "features = result.fi[result.fi > 2.].index.tolist()"
   ]
  },
  {
   "cell_type": "code",
   "execution_count": 71,
   "metadata": {},
   "outputs": [
    {
     "data": {
      "text/plain": [
       "'/tmp/bowl2019/features.joblib'"
      ]
     },
     "execution_count": 71,
     "metadata": {},
     "output_type": "execute_result"
    }
   ],
   "source": [
    "bundle.save(features, 'features')"
   ]
  },
  {
   "cell_type": "code",
   "execution_count": 68,
   "metadata": {},
   "outputs": [
    {
     "name": "stdout",
     "output_type": "stream",
     "text": [
      "Training with sub-optimal rounding.\n",
      "Running k-fold 1 of 5\n",
      "Training until validation scores don't improve for 100 rounds.\n",
      "[100]\ttrn's rmse: 1.03775\ttrn's cappa: 0.396122\tval's rmse: 1.05408\tval's cappa: 0.368843\n",
      "[200]\ttrn's rmse: 0.970746\ttrn's cappa: 0.48435\tval's rmse: 1.00485\tval's cappa: 0.447481\n",
      "[300]\ttrn's rmse: 0.936423\ttrn's cappa: 0.511385\tval's rmse: 0.989294\tval's cappa: 0.463738\n",
      "[400]\ttrn's rmse: 0.911998\ttrn's cappa: 0.526337\tval's rmse: 0.982301\tval's cappa: 0.472153\n",
      "[500]\ttrn's rmse: 0.892964\ttrn's cappa: 0.540157\tval's rmse: 0.978787\tval's cappa: 0.475863\n",
      "[600]\ttrn's rmse: 0.876004\ttrn's cappa: 0.551911\tval's rmse: 0.977064\tval's cappa: 0.479959\n",
      "[700]\ttrn's rmse: 0.860924\ttrn's cappa: 0.560728\tval's rmse: 0.976534\tval's cappa: 0.478638\n",
      "Early stopping, best iteration is:\n",
      "[647]\ttrn's rmse: 0.868572\ttrn's cappa: 0.557171\tval's rmse: 0.976513\tval's cappa: 0.480736\n",
      "Running k-fold 2 of 5\n",
      "Training until validation scores don't improve for 100 rounds.\n",
      "[100]\ttrn's rmse: 1.0376\ttrn's cappa: 0.365951\tval's rmse: 1.06817\tval's cappa: 0.331672\n",
      "[200]\ttrn's rmse: 0.968746\ttrn's cappa: 0.482369\tval's rmse: 1.01694\tval's cappa: 0.432896\n",
      "[300]\ttrn's rmse: 0.934586\ttrn's cappa: 0.51198\tval's rmse: 1.00007\tval's cappa: 0.454084\n",
      "[400]\ttrn's rmse: 0.911097\ttrn's cappa: 0.529863\tval's rmse: 0.992894\tval's cappa: 0.461034\n",
      "[500]\ttrn's rmse: 0.892131\ttrn's cappa: 0.54232\tval's rmse: 0.989155\tval's cappa: 0.46764\n",
      "[600]\ttrn's rmse: 0.875683\ttrn's cappa: 0.552119\tval's rmse: 0.986956\tval's cappa: 0.466755\n",
      "Early stopping, best iteration is:\n",
      "[501]\ttrn's rmse: 0.891939\ttrn's cappa: 0.542434\tval's rmse: 0.989095\tval's cappa: 0.468235\n",
      "Running k-fold 3 of 5\n",
      "Training until validation scores don't improve for 100 rounds.\n",
      "[100]\ttrn's rmse: 1.03881\ttrn's cappa: 0.404515\tval's rmse: 1.04476\tval's cappa: 0.366644\n",
      "[200]\ttrn's rmse: 0.970286\ttrn's cappa: 0.49257\tval's rmse: 1.00073\tval's cappa: 0.427913\n",
      "[300]\ttrn's rmse: 0.935747\ttrn's cappa: 0.518581\tval's rmse: 0.98642\tval's cappa: 0.440179\n",
      "[400]\ttrn's rmse: 0.911763\ttrn's cappa: 0.534401\tval's rmse: 0.981442\tval's cappa: 0.442677\n",
      "[500]\ttrn's rmse: 0.892594\ttrn's cappa: 0.54678\tval's rmse: 0.979225\tval's cappa: 0.438978\n",
      "Early stopping, best iteration is:\n",
      "[403]\ttrn's rmse: 0.911133\ttrn's cappa: 0.534611\tval's rmse: 0.981336\tval's cappa: 0.443785\n",
      "Running k-fold 4 of 5\n",
      "Training until validation scores don't improve for 100 rounds.\n",
      "[100]\ttrn's rmse: 1.03052\ttrn's cappa: 0.40937\tval's rmse: 1.07004\tval's cappa: 0.37387\n",
      "[200]\ttrn's rmse: 0.962121\ttrn's cappa: 0.496019\tval's rmse: 1.02462\tval's cappa: 0.440682\n",
      "[300]\ttrn's rmse: 0.928136\ttrn's cappa: 0.520513\tval's rmse: 1.01048\tval's cappa: 0.457995\n",
      "[400]\ttrn's rmse: 0.904082\ttrn's cappa: 0.534666\tval's rmse: 1.00453\tval's cappa: 0.45814\n",
      "Early stopping, best iteration is:\n",
      "[336]\ttrn's rmse: 0.918737\ttrn's cappa: 0.525077\tval's rmse: 1.00767\tval's cappa: 0.460654\n",
      "Running k-fold 5 of 5\n",
      "Training until validation scores don't improve for 100 rounds.\n",
      "[100]\ttrn's rmse: 1.03201\ttrn's cappa: 0.384254\tval's rmse: 1.07918\tval's cappa: 0.326518\n",
      "[200]\ttrn's rmse: 0.960446\ttrn's cappa: 0.495213\tval's rmse: 1.0352\tval's cappa: 0.432473\n",
      "[300]\ttrn's rmse: 0.925161\ttrn's cappa: 0.522188\tval's rmse: 1.02185\tval's cappa: 0.448724\n",
      "[400]\ttrn's rmse: 0.901239\ttrn's cappa: 0.537967\tval's rmse: 1.01738\tval's cappa: 0.44888\n",
      "Early stopping, best iteration is:\n",
      "[368]\ttrn's rmse: 0.9081\ttrn's cappa: 0.534098\tval's rmse: 1.01811\tval's cappa: 0.451236\n",
      "Using predictions to find optimal rounding boundaries.\n",
      "Optimal values: [-inf, 0.5716703254800358, 1.5909840276278508, 2.208050811584882, inf]\n",
      "Using optimal boundaries to train a new ensemble of models.\n",
      "Running k-fold 1 of 5\n",
      "Training until validation scores don't improve for 100 rounds.\n",
      "[100]\ttrn's rmse: 1.03775\ttrn's cappa: 0.494534\tval's rmse: 1.05408\tval's cappa: 0.472098\n",
      "[200]\ttrn's rmse: 0.970746\ttrn's cappa: 0.562198\tval's rmse: 1.00485\tval's cappa: 0.520683\n",
      "[300]\ttrn's rmse: 0.936423\ttrn's cappa: 0.619925\tval's rmse: 0.989294\tval's cappa: 0.569172\n",
      "[400]\ttrn's rmse: 0.911998\ttrn's cappa: 0.645397\tval's rmse: 0.982301\tval's cappa: 0.573439\n",
      "[500]\ttrn's rmse: 0.892964\ttrn's cappa: 0.663793\tval's rmse: 0.978787\tval's cappa: 0.581035\n",
      "[600]\ttrn's rmse: 0.876004\ttrn's cappa: 0.680031\tval's rmse: 0.977064\tval's cappa: 0.585212\n",
      "Early stopping, best iteration is:\n",
      "[589]\ttrn's rmse: 0.877803\ttrn's cappa: 0.678994\tval's rmse: 0.977338\tval's cappa: 0.586058\n",
      "Running k-fold 2 of 5\n",
      "Training until validation scores don't improve for 100 rounds.\n",
      "[100]\ttrn's rmse: 1.0376\ttrn's cappa: 0.496154\tval's rmse: 1.06817\tval's cappa: 0.453649\n",
      "[200]\ttrn's rmse: 0.968746\ttrn's cappa: 0.55795\tval's rmse: 1.01694\tval's cappa: 0.502841\n",
      "[300]\ttrn's rmse: 0.934586\ttrn's cappa: 0.620748\tval's rmse: 1.00007\tval's cappa: 0.55597\n",
      "[400]\ttrn's rmse: 0.911097\ttrn's cappa: 0.643327\tval's rmse: 0.992894\tval's cappa: 0.568777\n",
      "[500]\ttrn's rmse: 0.892131\ttrn's cappa: 0.663453\tval's rmse: 0.989155\tval's cappa: 0.572607\n",
      "[600]\ttrn's rmse: 0.875683\ttrn's cappa: 0.678946\tval's rmse: 0.986956\tval's cappa: 0.573988\n",
      "[700]\ttrn's rmse: 0.860668\ttrn's cappa: 0.691363\tval's rmse: 0.986037\tval's cappa: 0.570697\n",
      "Early stopping, best iteration is:\n",
      "[606]\ttrn's rmse: 0.874837\ttrn's cappa: 0.679642\tval's rmse: 0.987072\tval's cappa: 0.574807\n",
      "Running k-fold 3 of 5\n",
      "Training until validation scores don't improve for 100 rounds.\n",
      "[100]\ttrn's rmse: 1.03881\ttrn's cappa: 0.497231\tval's rmse: 1.04476\tval's cappa: 0.469113\n",
      "[200]\ttrn's rmse: 0.970286\ttrn's cappa: 0.573372\tval's rmse: 1.00073\tval's cappa: 0.515726\n",
      "[300]\ttrn's rmse: 0.935747\ttrn's cappa: 0.624092\tval's rmse: 0.98642\tval's cappa: 0.549745\n",
      "[400]\ttrn's rmse: 0.911763\ttrn's cappa: 0.64998\tval's rmse: 0.981442\tval's cappa: 0.559869\n",
      "[500]\ttrn's rmse: 0.892594\ttrn's cappa: 0.668912\tval's rmse: 0.979225\tval's cappa: 0.559076\n",
      "[600]\ttrn's rmse: 0.875802\ttrn's cappa: 0.684069\tval's rmse: 0.978426\tval's cappa: 0.563676\n",
      "[700]\ttrn's rmse: 0.86062\ttrn's cappa: 0.696681\tval's rmse: 0.978261\tval's cappa: 0.562882\n",
      "Early stopping, best iteration is:\n",
      "[676]\ttrn's rmse: 0.864193\ttrn's cappa: 0.693748\tval's rmse: 0.978283\tval's cappa: 0.567369\n",
      "Running k-fold 4 of 5\n",
      "Training until validation scores don't improve for 100 rounds.\n",
      "[100]\ttrn's rmse: 1.03052\ttrn's cappa: 0.502017\tval's rmse: 1.07004\tval's cappa: 0.457368\n",
      "[200]\ttrn's rmse: 0.962121\ttrn's cappa: 0.570789\tval's rmse: 1.02462\tval's cappa: 0.501552\n",
      "[300]\ttrn's rmse: 0.928136\ttrn's cappa: 0.625486\tval's rmse: 1.01048\tval's cappa: 0.551634\n",
      "[400]\ttrn's rmse: 0.904082\ttrn's cappa: 0.65275\tval's rmse: 1.00453\tval's cappa: 0.558578\n",
      "[500]\ttrn's rmse: 0.884891\ttrn's cappa: 0.670968\tval's rmse: 1.0028\tval's cappa: 0.560663\n",
      "Early stopping, best iteration is:\n",
      "[426]\ttrn's rmse: 0.89863\ttrn's cappa: 0.658129\tval's rmse: 1.00375\tval's cappa: 0.56265\n",
      "Running k-fold 5 of 5\n",
      "Training until validation scores don't improve for 100 rounds.\n",
      "[100]\ttrn's rmse: 1.03201\ttrn's cappa: 0.501342\tval's rmse: 1.07918\tval's cappa: 0.428296\n",
      "[200]\ttrn's rmse: 0.960446\ttrn's cappa: 0.570527\tval's rmse: 1.0352\tval's cappa: 0.475703\n",
      "[300]\ttrn's rmse: 0.925161\ttrn's cappa: 0.632426\tval's rmse: 1.02185\tval's cappa: 0.518886\n",
      "[400]\ttrn's rmse: 0.901239\ttrn's cappa: 0.656088\tval's rmse: 1.01738\tval's cappa: 0.530893\n",
      "[500]\ttrn's rmse: 0.881666\ttrn's cappa: 0.676256\tval's rmse: 1.01532\tval's cappa: 0.537575\n",
      "[600]\ttrn's rmse: 0.864874\ttrn's cappa: 0.689909\tval's rmse: 1.01403\tval's cappa: 0.54144\n",
      "[700]\ttrn's rmse: 0.849794\ttrn's cappa: 0.7012\tval's rmse: 1.01409\tval's cappa: 0.544245\n",
      "Early stopping, best iteration is:\n",
      "[652]\ttrn's rmse: 0.856905\ttrn's cappa: 0.696473\tval's rmse: 1.01375\tval's cappa: 0.544354\n",
      "Saving the final results.\n"
     ]
    }
   ],
   "source": [
    "from IPython.display import display\n",
    "algo = 'lightgbm'\n",
    "version = '008'\n",
    "\n",
    "if U.on_kaggle():\n",
    "    U.log('Inference on Kaggle.')\n",
    "    predicted = inference(X_tst, features, bounds=bounds, model=algo, version=version)\n",
    "    U.log('Saving predictions on disk.')\n",
    "    filename = submit(predicted)\n",
    "    submit_df = pd.read_csv(filename)\n",
    "    U.log('First 20 submission rows:')\n",
    "    display(submit_df.head(20))\n",
    "    \n",
    "else:\n",
    "    U.log('Training with sub-optimal rounding.')\n",
    "    reg_metric = RegressionCappa([-np.inf, 1., 2., 3., +np.inf])\n",
    "    result = train(X_trn, features, reg_metric, algo=algo)\n",
    "    \n",
    "    U.log('Using predictions to find optimal rounding boundaries.')\n",
    "    opt_bounds = optimize_rounding_bounds(result.oof, X_trn['accuracy_group'])\n",
    "    U.log(f'Optimal values: {opt_bounds}')\n",
    "    \n",
    "    U.log('Using optimal boundaries to train a new ensemble of models.')\n",
    "    reg_metric = RegressionCappa(opt_bounds)\n",
    "    result = train(X_trn, features, reg_metric, algo=algo)\n",
    "    \n",
    "    U.log('Saving the final results.')\n",
    "    bundle.save(result.models, f'models_{algo}_{version}')\n",
    "    bundle.save(opt_bounds, 'bounds')"
   ]
  },
  {
   "cell_type": "code",
   "execution_count": 72,
   "metadata": {},
   "outputs": [
    {
     "name": "stdout",
     "output_type": "stream",
     "text": [
      "Running inference on dataset of shape: 465\n",
      "Loading external models: lightgbm v008.\n",
      "Running models on test data...\n",
      "Averaging ensemble predictions.\n",
      "Rounding predictions using optimal bounds.\n",
      "Converting predictions into submission file.\n",
      "Running locally.\n",
      "(1000, 2) Packaging training results into dataset.\n",
      "/tmp/bowl2019/meta.joblib --> /home/ck/data/bowl2019/external/meta.joblib\n",
      "/tmp/bowl2019/bounds.joblib --> /home/ck/data/bowl2019/external/bounds.joblib\n",
      "/tmp/bowl2019/features.joblib --> /home/ck/data/bowl2019/external/features.joblib\n",
      "/tmp/bowl2019/encoders.joblib --> /home/ck/data/bowl2019/external/encoders.joblib\n",
      "/tmp/bowl2019/models_lightgbm_008.joblib --> /home/ck/data/bowl2019/external/models_lightgbm_008.joblib\n",
      "Packaging helper scripts into dataset.\n",
      "../style.py --> /home/ck/data/bowl2019/external/style.py\n",
      "../basedir.py --> /home/ck/data/bowl2019/external/basedir.py\n",
      "../dataset.py --> /home/ck/data/bowl2019/external/dataset.py\n",
      "../extract_features.py --> /home/ck/data/bowl2019/external/extract_features.py\n",
      "../plots.py --> /home/ck/data/bowl2019/external/plots.py\n",
      "../bundle.py --> /home/ck/data/bowl2019/external/bundle.py\n",
      "../metric.py --> /home/ck/data/bowl2019/external/metric.py\n",
      "../utils.py --> /home/ck/data/bowl2019/external/utils.py\n"
     ]
    }
   ],
   "source": [
    "if not U.on_kaggle():\n",
    "    features = bundle.features()\n",
    "    bounds = bundle.bounds()\n",
    "    filename = submit(inference(X_tst, features, bounds, model=algo, version=version))\n",
    "    assert os.path.exists(filename)\n",
    "    assert pd.read_csv(filename).shape[0] == 1000\n",
    "    bundle.package(folder='/home/ck/data/bowl2019/external/')"
   ]
  },
  {
   "cell_type": "code",
   "execution_count": 82,
   "metadata": {},
   "outputs": [],
   "source": [
    "# inference(X_tst, features, bounds=bounds, model=algo, version=version)"
   ]
  },
  {
   "cell_type": "code",
   "execution_count": null,
   "metadata": {},
   "outputs": [],
   "source": []
  }
 ],
 "metadata": {
  "kernelspec": {
   "display_name": "fastai (cuda 10)",
   "language": "python",
   "name": "fastai"
  },
  "language_info": {
   "codemirror_mode": {
    "name": "ipython",
    "version": 3
   },
   "file_extension": ".py",
   "mimetype": "text/x-python",
   "name": "python",
   "nbconvert_exporter": "python",
   "pygments_lexer": "ipython3",
   "version": "3.7.3"
  },
  "toc": {
   "base_numbering": 1,
   "nav_menu": {},
   "number_sections": true,
   "sideBar": true,
   "skip_h1_title": false,
   "title_cell": "Table of Contents",
   "title_sidebar": "Contents",
   "toc_cell": false,
   "toc_position": {},
   "toc_section_display": true,
   "toc_window_display": false
  }
 },
 "nbformat": 4,
 "nbformat_minor": 2
}
