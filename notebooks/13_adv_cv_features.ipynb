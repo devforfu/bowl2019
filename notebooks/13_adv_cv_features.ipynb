{
 "cells": [
  {
   "cell_type": "code",
   "execution_count": null,
   "metadata": {},
   "outputs": [],
   "source": [
    "# !cp /kaggle/input/data-bowl-2019-external-data/*.py /kaggle/working"
   ]
  },
  {
   "cell_type": "code",
   "execution_count": 2,
   "metadata": {},
   "outputs": [],
   "source": [
    "%reload_ext autoreload\n",
    "%autoreload 2\n",
    "import warnings\n",
    "import jupytools.syspath\n",
    "def ignore(*args, **kwargs): pass\n",
    "warnings.warn = ignore\n",
    "jupytools.syspath.add('..')"
   ]
  },
  {
   "cell_type": "code",
   "execution_count": 3,
   "metadata": {},
   "outputs": [],
   "source": [
    "from collections import Counter, OrderedDict\n",
    "from functools import partial\n",
    "\n",
    "import numpy as np\n",
    "import pandas as pd\n",
    "from IPython.display import display\n",
    "from sklearn.metrics import cohen_kappa_score\n",
    "from sklearn.model_selection import GroupKFold\n",
    "from tqdm.auto import tqdm\n",
    "\n",
    "import bundle\n",
    "import features as F\n",
    "import selection\n",
    "import utils as U\n",
    "from dataset import load, load_sample, Subset\n",
    "from encode import encode\n",
    "from training import train, inference, submit, EnsembleTrainer, get_default_config\n",
    "from meta import compute_meta_data\n",
    "from metric import optimize_rounding_bounds, make_cappa_metric\n",
    "from normalize import normalize"
   ]
  },
  {
   "cell_type": "markdown",
   "metadata": {},
   "source": [
    "## Prepare Data"
   ]
  },
  {
   "cell_type": "code",
   "execution_count": 3,
   "metadata": {},
   "outputs": [
    {
     "name": "stdout",
     "output_type": "stream",
     "text": [
      "Loading train and test.\n",
      "(11341042, 11) (17690, 7) (386, 3) (1156414, 11) "
     ]
    }
   ],
   "source": [
    "sample = False\n",
    "if U.on_kaggle():\n",
    "    U.log('Loading test set only.')\n",
    "    tst_data = pd.read_csv('/kaggle/input/data-science-bowl-2019/test.csv')\n",
    "else:\n",
    "    if sample:\n",
    "        U.log('Warning: loading train and test data sample.')\n",
    "        trn_data, _, _ = load_sample(Subset.Train, 500_000)\n",
    "        [tst_data] = load_sample(Subset.Test, 500_000)\n",
    "    else:\n",
    "        U.log('Loading train and test.')\n",
    "        trn_data, trn_spec, trn_targ = load(Subset.Train)\n",
    "        [tst_data] = load(Subset.Test)"
   ]
  },
  {
   "cell_type": "code",
   "execution_count": 4,
   "metadata": {},
   "outputs": [
    {
     "name": "stdout",
     "output_type": "stream",
     "text": [
      "Transforming train and test data.\n",
      "(11341042, 19) (1156414, 19)\n"
     ]
    }
   ],
   "source": [
    "transform = U.combine(\n",
    "    partial(F.add_feature_combinations, pairs=[('title', 'event_code')]),\n",
    "    partial(F.add_datetime, column='timestamp', prefix='ts'),\n",
    ")\n",
    "\n",
    "if U.on_kaggle():\n",
    "    U.log('Transforming test data only.')\n",
    "    X_tst = transform(tst_data.copy())\n",
    "    U.log(X_tst.shape)\n",
    "else:\n",
    "    U.log('Transforming train and test data.')\n",
    "    X_tst = transform(tst_data.copy())\n",
    "    X_trn = transform(trn_data.copy())\n",
    "    U.log(X_trn.shape, X_tst.shape)"
   ]
  },
  {
   "cell_type": "code",
   "execution_count": 5,
   "metadata": {},
   "outputs": [
    {
     "name": "stdout",
     "output_type": "stream",
     "text": [
      "Computing meta using train and test datasets.\n",
      "Saving computed meta on disk.\n"
     ]
    }
   ],
   "source": [
    "if U.on_kaggle():\n",
    "    U.log('Reading pre-computed meta from disk.')\n",
    "    meta = bundle.meta()\n",
    "else:\n",
    "    U.log('Computing meta using train and test datasets.')\n",
    "    meta = compute_meta_data(X_trn, X_tst)\n",
    "    U.log('Saving computed meta on disk.')\n",
    "    bundle.save_meta(meta, 'meta')"
   ]
  },
  {
   "cell_type": "code",
   "execution_count": 6,
   "metadata": {},
   "outputs": [
    {
     "name": "stdout",
     "output_type": "stream",
     "text": [
      "Preparing train and test datasets.\n",
      "Running algorithm in train mode.\n"
     ]
    },
    {
     "data": {
      "application/vnd.jupyter.widget-view+json": {
       "model_id": "c2e0c06427c441338936f560f4b9b6c6",
       "version_major": 2,
       "version_minor": 0
      },
      "text/plain": [
       "HBox(children=(IntProgress(value=0, max=17000), HTML(value='')))"
      ]
     },
     "metadata": {},
     "output_type": "display_data"
    },
    {
     "name": "stdout",
     "output_type": "stream",
     "text": [
      "\n",
      "Running algorithm in test mode.\n"
     ]
    },
    {
     "data": {
      "application/vnd.jupyter.widget-view+json": {
       "model_id": "7f2041e1c19449bf831d774f863d72e0",
       "version_major": 2,
       "version_minor": 0
      },
      "text/plain": [
       "HBox(children=(IntProgress(value=0, max=1000), HTML(value='')))"
      ]
     },
     "metadata": {},
     "output_type": "display_data"
    },
    {
     "name": "stdout",
     "output_type": "stream",
     "text": [
      "\n"
     ]
    }
   ],
   "source": [
    "extractor = F.FeaturesExtractor([\n",
    "    F.CountingFeatures(meta),\n",
    "    F.PerformanceFeatures(meta),\n",
    "    F.VarietyFeatures(meta),\n",
    "    F.EventDataFeatures(meta),\n",
    "    F.FeedbackFeatures(meta)\n",
    "])\n",
    "\n",
    "algo = F.InMemoryAlgorithm(extractor, meta, num_workers=12)\n",
    "\n",
    "cat_cols = ['session_title']\n",
    "\n",
    "if U.on_kaggle():\n",
    "    U.log('Preparing test dataset.')\n",
    "    X_tst = algo.run(X_tst, test=True)\n",
    "    encoders = bundle.encoders()\n",
    "    X_tst, _ = encode(X_tst, cat_cols, encoders=encoders)\n",
    "else:\n",
    "    U.log('Preparing train and test datasets.')\n",
    "    X_trn = algo.run(X_trn)\n",
    "    X_tst = algo.run(X_tst, test=True)\n",
    "    X_trn, encoders = encode(X_trn, cat_cols)\n",
    "    X_tst, _ = encode(X_tst, cat_cols, encoders=encoders)\n",
    "    bundle.save(encoders, 'encoders')"
   ]
  },
  {
   "cell_type": "code",
   "execution_count": 7,
   "metadata": {},
   "outputs": [
    {
     "name": "stdout",
     "output_type": "stream",
     "text": [
      "Running post-processing on train and test sets.\n"
     ]
    }
   ],
   "source": [
    "if U.on_kaggle():\n",
    "    U.log('Running post-processing on test set only.')\n",
    "    F.add_user_wise_features(X_tst, meta)\n",
    "else:\n",
    "    U.log('Running post-processing on train and test sets.')\n",
    "    F.add_user_wise_features(X_trn, meta)\n",
    "    F.add_user_wise_features(X_tst, meta)"
   ]
  },
  {
   "cell_type": "markdown",
   "metadata": {},
   "source": [
    "## Submission"
   ]
  },
  {
   "cell_type": "code",
   "execution_count": 4,
   "metadata": {},
   "outputs": [],
   "source": [
    "X_trn = pd.read_pickle('/tmp/X_trn.pickle')\n",
    "X_tst = pd.read_pickle('/tmp/X_tst.pickle')"
   ]
  },
  {
   "cell_type": "code",
   "execution_count": 22,
   "metadata": {},
   "outputs": [
    {
     "name": "stdout",
     "output_type": "stream",
     "text": [
      "Loading relevant features list from disk.\n",
      "Total number of features: 1017\n",
      "Training model: lightgbm\n",
      "Running k-fold 1 of 5\n",
      "Training until validation scores don't improve for 100 rounds.\n",
      "[100]\ttrn's rmse: 1.17672\tval's rmse: 1.18593\n",
      "[200]\ttrn's rmse: 1.11692\tval's rmse: 1.13068\n",
      "[300]\ttrn's rmse: 1.07252\tval's rmse: 1.0909\n",
      "[400]\ttrn's rmse: 1.03928\tval's rmse: 1.06257\n",
      "[500]\ttrn's rmse: 1.01117\tval's rmse: 1.03984\n",
      "[600]\ttrn's rmse: 0.989669\tval's rmse: 1.02333\n",
      "[700]\ttrn's rmse: 0.972189\tval's rmse: 1.01092\n",
      "[800]\ttrn's rmse: 0.957964\tval's rmse: 1.00189\n",
      "[900]\ttrn's rmse: 0.945652\tval's rmse: 0.994829\n",
      "[1000]\ttrn's rmse: 0.93478\tval's rmse: 0.989016\n",
      "[1100]\ttrn's rmse: 0.925694\tval's rmse: 0.984744\n",
      "[1200]\ttrn's rmse: 0.917438\tval's rmse: 0.981113\n",
      "[1300]\ttrn's rmse: 0.910309\tval's rmse: 0.978574\n",
      "[1400]\ttrn's rmse: 0.903554\tval's rmse: 0.976581\n",
      "[1500]\ttrn's rmse: 0.897332\tval's rmse: 0.97493\n",
      "[1600]\ttrn's rmse: 0.891442\tval's rmse: 0.973439\n",
      "[1700]\ttrn's rmse: 0.88591\tval's rmse: 0.972467\n",
      "[1800]\ttrn's rmse: 0.880539\tval's rmse: 0.971495\n",
      "[1900]\ttrn's rmse: 0.875372\tval's rmse: 0.970632\n",
      "[2000]\ttrn's rmse: 0.870449\tval's rmse: 0.969921\n",
      "[2100]\ttrn's rmse: 0.865753\tval's rmse: 0.969463\n",
      "[2200]\ttrn's rmse: 0.861213\tval's rmse: 0.96901\n",
      "[2300]\ttrn's rmse: 0.856783\tval's rmse: 0.968563\n",
      "[2400]\ttrn's rmse: 0.852423\tval's rmse: 0.968258\n",
      "[2500]\ttrn's rmse: 0.848211\tval's rmse: 0.967972\n",
      "[2600]\ttrn's rmse: 0.844156\tval's rmse: 0.967857\n",
      "[2700]\ttrn's rmse: 0.840153\tval's rmse: 0.967819\n",
      "Early stopping, best iteration is:\n",
      "[2672]\ttrn's rmse: 0.841246\tval's rmse: 0.967758\n",
      "Running k-fold 2 of 5\n",
      "Training until validation scores don't improve for 100 rounds.\n",
      "[100]\ttrn's rmse: 1.17675\tval's rmse: 1.19454\n",
      "[200]\ttrn's rmse: 1.1168\tval's rmse: 1.1428\n",
      "[300]\ttrn's rmse: 1.07023\tval's rmse: 1.1026\n",
      "[400]\ttrn's rmse: 1.0395\tval's rmse: 1.07778\n",
      "[500]\ttrn's rmse: 1.01121\tval's rmse: 1.05439\n",
      "[600]\ttrn's rmse: 0.990244\tval's rmse: 1.03838\n",
      "[700]\ttrn's rmse: 0.972164\tval's rmse: 1.0246\n",
      "[800]\ttrn's rmse: 0.95712\tval's rmse: 1.01408\n",
      "[900]\ttrn's rmse: 0.945096\tval's rmse: 1.0067\n",
      "[1000]\ttrn's rmse: 0.934706\tval's rmse: 1.00072\n",
      "[1100]\ttrn's rmse: 0.92578\tval's rmse: 0.996443\n",
      "[1200]\ttrn's rmse: 0.917639\tval's rmse: 0.992678\n",
      "[1300]\ttrn's rmse: 0.910477\tval's rmse: 0.990337\n",
      "[1400]\ttrn's rmse: 0.903711\tval's rmse: 0.987979\n",
      "[1500]\ttrn's rmse: 0.897488\tval's rmse: 0.986351\n",
      "[1600]\ttrn's rmse: 0.891692\tval's rmse: 0.985112\n",
      "[1700]\ttrn's rmse: 0.886203\tval's rmse: 0.983888\n",
      "[1800]\ttrn's rmse: 0.880971\tval's rmse: 0.982721\n",
      "[1900]\ttrn's rmse: 0.875823\tval's rmse: 0.98186\n",
      "[2000]\ttrn's rmse: 0.871052\tval's rmse: 0.981295\n",
      "[2100]\ttrn's rmse: 0.866283\tval's rmse: 0.980378\n",
      "[2200]\ttrn's rmse: 0.861737\tval's rmse: 0.979869\n",
      "[2300]\ttrn's rmse: 0.857398\tval's rmse: 0.97961\n",
      "[2400]\ttrn's rmse: 0.853154\tval's rmse: 0.979189\n",
      "[2500]\ttrn's rmse: 0.848988\tval's rmse: 0.978925\n",
      "[2600]\ttrn's rmse: 0.844915\tval's rmse: 0.978655\n",
      "[2700]\ttrn's rmse: 0.840932\tval's rmse: 0.978351\n",
      "[2800]\ttrn's rmse: 0.837032\tval's rmse: 0.978297\n",
      "[2900]\ttrn's rmse: 0.833121\tval's rmse: 0.978035\n",
      "Early stopping, best iteration is:\n",
      "[2865]\ttrn's rmse: 0.834433\tval's rmse: 0.977968\n",
      "Running k-fold 3 of 5\n",
      "Training until validation scores don't improve for 100 rounds.\n",
      "[100]\ttrn's rmse: 1.18121\tval's rmse: 1.16589\n",
      "[200]\ttrn's rmse: 1.11989\tval's rmse: 1.11399\n",
      "[300]\ttrn's rmse: 1.0747\tval's rmse: 1.07737\n",
      "[400]\ttrn's rmse: 1.04096\tval's rmse: 1.05101\n",
      "[500]\ttrn's rmse: 1.01276\tval's rmse: 1.02948\n",
      "[600]\ttrn's rmse: 0.991203\tval's rmse: 1.01442\n",
      "[700]\ttrn's rmse: 0.973556\tval's rmse: 1.00304\n",
      "[800]\ttrn's rmse: 0.959322\tval's rmse: 0.994538\n",
      "[900]\ttrn's rmse: 0.947146\tval's rmse: 0.987921\n",
      "[1000]\ttrn's rmse: 0.936248\tval's rmse: 0.98267\n",
      "[1100]\ttrn's rmse: 0.927203\tval's rmse: 0.978975\n",
      "[1200]\ttrn's rmse: 0.918896\tval's rmse: 0.976297\n",
      "[1300]\ttrn's rmse: 0.911499\tval's rmse: 0.974081\n",
      "[1400]\ttrn's rmse: 0.90478\tval's rmse: 0.972132\n",
      "[1500]\ttrn's rmse: 0.898418\tval's rmse: 0.970802\n",
      "[1600]\ttrn's rmse: 0.892527\tval's rmse: 0.969777\n",
      "[1700]\ttrn's rmse: 0.886879\tval's rmse: 0.968902\n",
      "[1800]\ttrn's rmse: 0.881578\tval's rmse: 0.968157\n",
      "[1900]\ttrn's rmse: 0.876594\tval's rmse: 0.967563\n",
      "[2000]\ttrn's rmse: 0.871638\tval's rmse: 0.967202\n",
      "[2100]\ttrn's rmse: 0.866958\tval's rmse: 0.966977\n",
      "[2200]\ttrn's rmse: 0.862444\tval's rmse: 0.966672\n",
      "[2300]\ttrn's rmse: 0.857991\tval's rmse: 0.966524\n",
      "[2400]\ttrn's rmse: 0.853725\tval's rmse: 0.966428\n",
      "[2500]\ttrn's rmse: 0.849419\tval's rmse: 0.966353\n",
      "[2600]\ttrn's rmse: 0.845404\tval's rmse: 0.966286\n",
      "[2700]\ttrn's rmse: 0.841369\tval's rmse: 0.966134\n",
      "[2800]\ttrn's rmse: 0.837389\tval's rmse: 0.965967\n",
      "Early stopping, best iteration is:\n",
      "[2797]\ttrn's rmse: 0.837517\tval's rmse: 0.965951\n",
      "Running k-fold 4 of 5\n",
      "Training until validation scores don't improve for 100 rounds.\n",
      "[100]\ttrn's rmse: 1.17\tval's rmse: 1.18689\n",
      "[200]\ttrn's rmse: 1.11047\tval's rmse: 1.13527\n",
      "[300]\ttrn's rmse: 1.06626\tval's rmse: 1.09902\n",
      "[400]\ttrn's rmse: 1.02961\tval's rmse: 1.06979\n",
      "[500]\ttrn's rmse: 1.00298\tval's rmse: 1.05021\n",
      "[600]\ttrn's rmse: 0.98289\tval's rmse: 1.03684\n",
      "[700]\ttrn's rmse: 0.965048\tval's rmse: 1.02538\n",
      "[800]\ttrn's rmse: 0.951551\tval's rmse: 1.01755\n",
      "[900]\ttrn's rmse: 0.939423\tval's rmse: 1.011\n",
      "[1000]\ttrn's rmse: 0.929155\tval's rmse: 1.00618\n",
      "[1100]\ttrn's rmse: 0.919817\tval's rmse: 1.00226\n",
      "[1200]\ttrn's rmse: 0.911607\tval's rmse: 0.99934\n",
      "[1300]\ttrn's rmse: 0.904235\tval's rmse: 0.996959\n",
      "[1400]\ttrn's rmse: 0.897484\tval's rmse: 0.995075\n",
      "[1500]\ttrn's rmse: 0.891175\tval's rmse: 0.993496\n",
      "[1600]\ttrn's rmse: 0.885175\tval's rmse: 0.992161\n",
      "[1700]\ttrn's rmse: 0.879625\tval's rmse: 0.991224\n",
      "[1800]\ttrn's rmse: 0.874386\tval's rmse: 0.990487\n",
      "[1900]\ttrn's rmse: 0.869328\tval's rmse: 0.989875\n",
      "[2000]\ttrn's rmse: 0.864426\tval's rmse: 0.989423\n",
      "[2100]\ttrn's rmse: 0.859655\tval's rmse: 0.989109\n",
      "[2200]\ttrn's rmse: 0.855049\tval's rmse: 0.988729\n",
      "[2300]\ttrn's rmse: 0.850582\tval's rmse: 0.988314\n",
      "[2400]\ttrn's rmse: 0.846326\tval's rmse: 0.988029\n",
      "[2500]\ttrn's rmse: 0.842155\tval's rmse: 0.987859\n",
      "[2600]\ttrn's rmse: 0.838094\tval's rmse: 0.987569\n",
      "[2700]\ttrn's rmse: 0.834047\tval's rmse: 0.987444\n",
      "[2800]\ttrn's rmse: 0.830186\tval's rmse: 0.987397\n",
      "[2900]\ttrn's rmse: 0.826326\tval's rmse: 0.987319\n",
      "[3000]\ttrn's rmse: 0.822532\tval's rmse: 0.987589\n",
      "Early stopping, best iteration is:\n",
      "[2900]\ttrn's rmse: 0.826326\tval's rmse: 0.987319\n",
      "Running k-fold 5 of 5\n",
      "Training until validation scores don't improve for 100 rounds.\n",
      "[100]\ttrn's rmse: 1.1776\tval's rmse: 1.19935\n",
      "[200]\ttrn's rmse: 1.11651\tval's rmse: 1.15068\n",
      "[300]\ttrn's rmse: 1.07117\tval's rmse: 1.11631\n",
      "[400]\ttrn's rmse: 1.03477\tval's rmse: 1.08969\n",
      "[500]\ttrn's rmse: 1.00559\tval's rmse: 1.06922\n",
      "[600]\ttrn's rmse: 0.983847\tval's rmse: 1.0552\n",
      "[700]\ttrn's rmse: 0.966233\tval's rmse: 1.04458\n",
      "[800]\ttrn's rmse: 0.951199\tval's rmse: 1.03643\n",
      "[900]\ttrn's rmse: 0.938075\tval's rmse: 1.02971\n",
      "[1000]\ttrn's rmse: 0.927263\tval's rmse: 1.02499\n",
      "[1100]\ttrn's rmse: 0.917721\tval's rmse: 1.02111\n",
      "[1200]\ttrn's rmse: 0.909009\tval's rmse: 1.01812\n",
      "[1300]\ttrn's rmse: 0.901278\tval's rmse: 1.01608\n",
      "[1400]\ttrn's rmse: 0.894223\tval's rmse: 1.01405\n",
      "[1500]\ttrn's rmse: 0.88775\tval's rmse: 1.01259\n",
      "[1600]\ttrn's rmse: 0.881595\tval's rmse: 1.01136\n",
      "[1700]\ttrn's rmse: 0.875845\tval's rmse: 1.01053\n",
      "[1800]\ttrn's rmse: 0.870487\tval's rmse: 1.00996\n",
      "[1900]\ttrn's rmse: 0.86519\tval's rmse: 1.00934\n",
      "[2000]\ttrn's rmse: 0.860317\tval's rmse: 1.00896\n",
      "[2100]\ttrn's rmse: 0.855671\tval's rmse: 1.00863\n",
      "[2200]\ttrn's rmse: 0.85103\tval's rmse: 1.00839\n",
      "[2300]\ttrn's rmse: 0.846557\tval's rmse: 1.0082\n",
      "[2400]\ttrn's rmse: 0.842153\tval's rmse: 1.00805\n",
      "[2500]\ttrn's rmse: 0.837964\tval's rmse: 1.00777\n",
      "[2600]\ttrn's rmse: 0.833863\tval's rmse: 1.00778\n",
      "[2700]\ttrn's rmse: 0.829871\tval's rmse: 1.00756\n",
      "[2800]\ttrn's rmse: 0.826001\tval's rmse: 1.00748\n",
      "[2900]\ttrn's rmse: 0.822159\tval's rmse: 1.00741\n",
      "[3000]\ttrn's rmse: 0.818474\tval's rmse: 1.00742\n",
      "Early stopping, best iteration is:\n",
      "[2988]\ttrn's rmse: 0.818932\tval's rmse: 1.00737\n",
      "Fold evaluation results:\n",
      "cv_cappa_1=0.6163, cv_cappa_2=0.6176, cv_cappa_3=0.5928, cv_cappa_4=0.5875, cv_cappa_5=0.5740\n",
      "Saving the trained models\n",
      "Saving the optimal rounding bounds\n",
      "Optimal bounds: [-inf, 0.5639922420507086, 1.5970792146119455, 2.1768563013529727, inf]\n"
     ]
    }
   ],
   "source": [
    "algo = 'lightgbm'\n",
    "version = '021'\n",
    "\n",
    "U.log('Loading relevant features list from disk.')\n",
    "features = [c for c in X_trn.columns \n",
    "            if c not in ('installation_id', 'game_session', 'accuracy_group')]\n",
    "U.log(f'Total number of features: {len(features)}')\n",
    "\n",
    "if U.on_kaggle():\n",
    "    U.log('Inference on Kaggle.')\n",
    "    bounds = bundle.bounds()\n",
    "    predicted = inference(X_tst, features, bounds=bounds, model=algo, version=version)\n",
    "    U.log('Saving predictions on disk.')\n",
    "    filename = submit(predicted)\n",
    "    submit_df = pd.read_csv(filename)\n",
    "    U.log('First 20 submission rows:')\n",
    "    display(submit_df.head(20))\n",
    "    \n",
    "else:\n",
    "    U.log(f'Training model: {algo}')\n",
    "    cappa = make_cappa_metric(X_trn['accuracy_group'])\n",
    "    trainer = EnsembleTrainer(algo=algo, cv_metrics={'cappa': cappa})\n",
    "    fold = GroupKFold(n_splits=5)\n",
    "    config = get_default_config(algo)\n",
    "    U.set_nested(config, 'model_params.feature_fraction', 0.5)\n",
    "    U.set_nested(config, 'model_params.bagging_fraction', 0.5)\n",
    "    U.set_nested(config, 'model_params.learning_rate', 0.003)\n",
    "    U.set_nested(config, 'model_params.bagging_freq', 1)\n",
    "    result = trainer.train(X_trn, features=features, fold=fold, config=config)\n",
    "    U.log('Saving the trained models')\n",
    "    bundle.save(result.models, f'models_{algo}_{version}')\n",
    "    U.log('Saving the optimal rounding bounds')\n",
    "    bounds = optimize_rounding_bounds(result.oof, X_trn['accuracy_group'].values)\n",
    "    U.log(f'Optimal bounds: {bounds}')\n",
    "    bundle.save(bounds, 'bounds')"
   ]
  },
  {
   "cell_type": "code",
   "execution_count": 27,
   "metadata": {},
   "outputs": [],
   "source": [
    "from metric import PredictionsRoudner"
   ]
  },
  {
   "cell_type": "code",
   "execution_count": 28,
   "metadata": {},
   "outputs": [],
   "source": [
    "rounder = PredictionsRoudner(train_target=X_trn['accuracy_group'])"
   ]
  },
  {
   "cell_type": "code",
   "execution_count": 30,
   "metadata": {},
   "outputs": [],
   "source": [
    "preds, bounds_dist = rounder(result.oof)"
   ]
  },
  {
   "cell_type": "code",
   "execution_count": 31,
   "metadata": {},
   "outputs": [
    {
     "data": {
      "text/plain": [
       "[1.3515825283399336, 1.8037354713648037, 2.065028190612793]"
      ]
     },
     "execution_count": 31,
     "metadata": {},
     "output_type": "execute_result"
    }
   ],
   "source": [
    "bounds_dist"
   ]
  },
  {
   "cell_type": "code",
   "execution_count": 40,
   "metadata": {},
   "outputs": [
    {
     "data": {
      "text/plain": [
       "<matplotlib.axes._subplots.AxesSubplot at 0x7ff3b88b0cf8>"
      ]
     },
     "execution_count": 40,
     "metadata": {},
     "output_type": "execute_result"
    },
    {
     "data": {
      "image/png": "[encoded data removed]",
      "text/plain": [
       "<Figure size 432x288 with 1 Axes>"
      ]
     },
     "metadata": {
      "needs_background": "light"
     },
     "output_type": "display_data"
    }
   ],
   "source": [
    "(pd.Series(preds)\n",
    " .value_counts()\n",
    " .rename('count')\n",
    " .reset_index()\n",
    " .sort_values(by='index')\n",
    " .plot.bar(x='index', y='count'))"
   ]
  },
  {
   "cell_type": "code",
   "execution_count": 42,
   "metadata": {},
   "outputs": [
    {
     "name": "stdout",
     "output_type": "stream",
     "text": [
      "Running inference on dataset of shape: 1017\n",
      "Loading external models: lightgbm v021.\n",
      "Running models on test data...\n",
      "Averaging ensemble predictions.\n",
      "Rounding predictions using optimal bounds.\n",
      "Converting predictions into submission file.\n",
      "Running locally.\n",
      "(1000, 2) Packaging training results into dataset.\n",
      "/tmp/bowl2019/meta.joblib --> /home/ck/data/bowl2019/external/meta.joblib\n",
      "/tmp/bowl2019/bounds.joblib --> /home/ck/data/bowl2019/external/bounds.joblib\n",
      "/tmp/bowl2019/models_lightgbm_021.joblib --> /home/ck/data/bowl2019/external/models_lightgbm_021.joblib\n",
      "/tmp/bowl2019/features.joblib --> /home/ck/data/bowl2019/external/features.joblib\n",
      "/tmp/bowl2019/encoders.joblib --> /home/ck/data/bowl2019/external/encoders.joblib\n",
      "Packaging helper scripts into dataset.\n",
      "../selection.py --> /home/ck/data/bowl2019/external/selection.py\n",
      "../encode.py --> /home/ck/data/bowl2019/external/encode.py\n",
      "../features.py --> /home/ck/data/bowl2019/external/features.py\n",
      "../training.py --> /home/ck/data/bowl2019/external/training.py\n",
      "../feedback.py --> /home/ck/data/bowl2019/external/feedback.py\n",
      "../style.py --> /home/ck/data/bowl2019/external/style.py\n",
      "../basedir.py --> /home/ck/data/bowl2019/external/basedir.py\n",
      "../dataset.py --> /home/ck/data/bowl2019/external/dataset.py\n",
      "../models.py --> /home/ck/data/bowl2019/external/models.py\n",
      "../extract_features.py --> /home/ck/data/bowl2019/external/extract_features.py\n",
      "../plots.py --> /home/ck/data/bowl2019/external/plots.py\n",
      "../normalize.py --> /home/ck/data/bowl2019/external/normalize.py\n",
      "../meta.py --> /home/ck/data/bowl2019/external/meta.py\n",
      "../bundle.py --> /home/ck/data/bowl2019/external/bundle.py\n",
      "../metric.py --> /home/ck/data/bowl2019/external/metric.py\n",
      "../utils.py --> /home/ck/data/bowl2019/external/utils.py\n"
     ]
    }
   ],
   "source": [
    "if not U.on_kaggle():\n",
    "    import os\n",
    "    #features = bundle.features()\n",
    "    # bounds = bundle.bounds()\n",
    "    bounds = bounds_dist\n",
    "    filename = submit(inference(X_tst, features, bounds, model=algo, version=version))\n",
    "    assert os.path.exists(filename)\n",
    "    assert pd.read_csv(filename).shape[0] == 1000\n",
    "    bundle.package(folder='/home/ck/data/bowl2019/external/')"
   ]
  },
  {
   "cell_type": "code",
   "execution_count": 43,
   "metadata": {},
   "outputs": [],
   "source": [
    "%matplotlib inline"
   ]
  },
  {
   "cell_type": "code",
   "execution_count": 44,
   "metadata": {},
   "outputs": [
    {
     "data": {
      "text/plain": [
       "<matplotlib.axes._subplots.AxesSubplot at 0x7ff3b903f588>"
      ]
     },
     "execution_count": 44,
     "metadata": {},
     "output_type": "execute_result"
    },
    {
     "data": {
      "image/png": "[encoded data removed]",
      "text/plain": [
       "<Figure size 432x288 with 1 Axes>"
      ]
     },
     "metadata": {
      "needs_background": "light"
     },
     "output_type": "display_data"
    }
   ],
   "source": [
    "pd.read_csv('submission.csv')['accuracy_group'].value_counts().reset_index().sort_values(by='index').set_index('index').plot.bar()"
   ]
  },
  {
   "cell_type": "code",
   "execution_count": 45,
   "metadata": {},
   "outputs": [
    {
     "data": {
      "text/plain": [
       "<matplotlib.axes._subplots.AxesSubplot at 0x7ff3b8fbaef0>"
      ]
     },
     "execution_count": 45,
     "metadata": {},
     "output_type": "execute_result"
    },
    {
     "data": {
      "image/png": "[encoded data removed]",
      "text/plain": [
       "<Figure size 432x288 with 1 Axes>"
      ]
     },
     "metadata": {
      "needs_background": "light"
     },
     "output_type": "display_data"
    }
   ],
   "source": [
    "X_trn['accuracy_group'].value_counts().reset_index().sort_values(by='index').set_index('index').plot.bar()"
   ]
  },
  {
   "cell_type": "code",
   "execution_count": null,
   "metadata": {},
   "outputs": [],
   "source": []
  }
 ],
 "metadata": {
  "kernelspec": {
   "display_name": "fastai (cuda 10)",
   "language": "python",
   "name": "fastai"
  },
  "language_info": {
   "codemirror_mode": {
    "name": "ipython",
    "version": 3
   },
   "file_extension": ".py",
   "mimetype": "text/x-python",
   "name": "python",
   "nbconvert_exporter": "python",
   "pygments_lexer": "ipython3",
   "version": "3.7.3"
  },
  "toc": {
   "base_numbering": 1,
   "nav_menu": {},
   "number_sections": true,
   "sideBar": true,
   "skip_h1_title": false,
   "title_cell": "Table of Contents",
   "title_sidebar": "Contents",
   "toc_cell": false,
   "toc_position": {},
   "toc_section_display": true,
   "toc_window_display": false
  }
 },
 "nbformat": 4,
 "nbformat_minor": 2
}
